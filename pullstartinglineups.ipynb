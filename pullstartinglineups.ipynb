{
 "cells": [
  {
   "cell_type": "code",
   "execution_count": 24,
   "metadata": {},
   "outputs": [],
   "source": [
    "import statsapi\n",
    "\n",
    "# Use the schedule function to get games for a specific date and team\n",
    "sched = statsapi.schedule(start_date='2023-04-08', end_date='2023-04-08', team=143)\n",
    "\n",
    "import statsapi\n",
    "\n",
    "# Replace with the actual gamePk for the game you're interested in\n",
    "game_pk = '718668'\n",
    "\n",
    "# Fetch the boxscore data for the specified game\n",
    "boxscore_data = statsapi.boxscore('718670', battingInfo=False, battingBox=True, fieldingInfo=False, pitchingBox=True, gameInfo=True, timecode=None)\n",
    "\n",
    "# The boxscore_data variable now contains the boxscore information, which may include the starting lineups"
   ]
  },
  {
   "cell_type": "code",
   "execution_count": 25,
   "metadata": {},
   "outputs": [
    {
     "name": "stdout",
     "output_type": "stream",
     "text": [
      "------------------------------------------------------------------------------- | -------------------------------------------------------------------------------\n",
      "Blue Jays Batters                        AB   R   H  RBI BB   K  LOB AVG   OPS  | Angels Batters                           AB   R   H  RBI BB   K  LOB AVG   OPS \n",
      "------------------------------------------------------------------------------- | -------------------------------------------------------------------------------\n",
      "1 Springer  RF                            4   1   1   0   0   0   1  .242 .528  | 1 Ward  LF                                3   1   0   0   1   0   3  .333 .961 \n",
      "2 Bichette  SS                            4   1   2   3   0   0   1  .342 .912  | 2 Trout  CF                               4   1   1   2   0   1   0  .348 1.227\n",
      "3 Guerrero Jr.  1B                        4   1   2   0   0   1   1  .419 1.145 | 3 Ohtani  DH                              4   0   2   0   0   2   0  .320 1.014\n",
      "4 Chapman, M  3B                          4   0   1   0   0   2   2  .452 1.130 | 4 Renfroe  RF                             3   0   0   0   1   0   2  .148 .406 \n",
      "5 Merrifield  LF                          4   0   1   0   0   0   3  .238 .606  | 5 Lamb  1B                                4   0   0   0   0   0   4  .158 .449 \n",
      "    Varsho  LF                            0   0   0   0   0   0   0  .357 .977  | 6 Drury  2B                               4   0   0   0   0   1   2  .167 .410 \n",
      "6 Kirk  C                                 3   0   0   0   1   0   2  .211 .529  | 7 Urshela  3B                             3   1   0   0   1   0   0  .292 .679 \n",
      "7 Espinal  2B                             4   1   1   1   0   0   3  .167 .334  | 8 O'Hoppe  C                              2   0   0   0   2   1   0  .250 .904 \n",
      "8 Luplow  DH                              3   0   0   0   0   2   2  .000 .000  | 9 Fletcher, Da  SS                        3   0   1   1   0   1   1  .154 .308 \n",
      "    a-Biggio  DH                          1   0   0   0   0   1   0  .214 .818  |     a-Rengifo  PH                         1   0   0   0   0   0   0  .143 .476 \n",
      "9 Kiermaier  CF                           4   0   1   0   0   1   1  .360 .760  |                                                                                \n",
      "------------------------------------------------------------------------------- | -------------------------------------------------------------------------------\n",
      "Totals                                   35   4   9   4   1   7  16             | Totals                                   31   3   4   3   5   6  12            \n",
      "------------------------------------------------------------------------------- | -------------------------------------------------------------------------------\n",
      "a-Struck out for Luplow in the 9th.                                             | a-Grounded out for Fletcher, Da in the 9th.                                    \n",
      "                                                                                |                                                                                \n",
      "------------------------------------------------------------------------------- | -------------------------------------------------------------------------------\n",
      "Blue Jays Pitchers                           IP   H   R  ER  BB   K  HR   ERA   | Angels Pitchers                              IP   H   R  ER  BB   K  HR   ERA  \n",
      "------------------------------------------------------------------------------- | -------------------------------------------------------------------------------\n",
      "Bassitt  (W, 1-1)                           6.0   3   3   2   5   5   1  10.61  | Sandoval                                    6.0   6   1   1   1   2   0   1.64 \n",
      "García, Y  (H, 3)                           1.0   0   0   0   0   1   0   4.50  | Moore  (H, 3)                               0.2   1   1   1   0   1   0   7.71 \n",
      "Swanson, E  (H, 3)                          1.0   1   0   0   0   0   0   2.08  | Herget  (L, 0-1)(BS, 1)                     0.1   2   2   2   0   1   1   7.36 \n",
      "Romano  (S, 4)                              1.0   0   0   0   0   0   0   0.00  | Wantz                                       2.0   0   0   0   0   3   0   0.00 \n",
      "------------------------------------------------------------------------------- | -------------------------------------------------------------------------------\n",
      "Totals                                      9.0   4   3   2   5   6   1         | Totals                                      9.0   9   4   4   1   7   1        \n",
      "------------------------------------------------------------------------------- | -------------------------------------------------------------------------------\n",
      "WP: Sandoval.                                                                                                                                                    \n",
      "Pitch timer violations: Moore (pitcher); Bassitt 2 (pitcher 2); Sandoval (pitcher).                                                                              \n",
      "Pitches-strikes: Bassitt 109-64; García, Y 14-9; Swanson, E 17-12; Romano 6-5; Sandoval 89-56; Moore 9-6; Herget 9-6; Wantz 22-14.                               \n",
      "Groundouts-flyouts: Bassitt 7-3; García, Y 0-2; Swanson, E 0-1; Romano 1-2; Sandoval 9-4; Moore 0-1; Herget 0-0; Wantz 2-1.                                      \n",
      "Batters faced: Bassitt 26; García, Y 3; Swanson, E 4; Romano 3; Sandoval 24; Moore 3; Herget 3; Wantz 6.                                                         \n",
      "Inherited runners-scored: Herget 1-1.                                                                                                                            \n",
      "Umpires: HP: Brian Knight. 1B: Tony Randazzo. 2B: Alex MacKay. 3B: Todd Tichenor.                                                                                \n",
      "Weather: 64 degrees, Partly Cloudy.                                                                                                                              \n",
      "Wind: 6 mph, Out To CF.                                                                                                                                          \n",
      "First pitch: 7:05 PM.                                                                                                                                            \n",
      "T: 2:33.                                                                                                                                                         \n",
      "Att: 44,735.                                                                                                                                                     \n",
      "Venue: Angel Stadium.                                                                                                                                            \n",
      "April 7, 2023                                                                                                                                                    \n",
      "-----------------------------------------------------------------------------------------------------------------------------------------------------------------\n",
      "\n"
     ]
    }
   ],
   "source": [
    "print(boxscore_data)"
   ]
  }
 ],
 "metadata": {
  "kernelspec": {
   "display_name": "Python 3",
   "language": "python",
   "name": "python3"
  },
  "language_info": {
   "codemirror_mode": {
    "name": "ipython",
    "version": 3
   },
   "file_extension": ".py",
   "mimetype": "text/x-python",
   "name": "python",
   "nbconvert_exporter": "python",
   "pygments_lexer": "ipython3",
   "version": "3.9.1"
  }
 },
 "nbformat": 4,
 "nbformat_minor": 2
}
