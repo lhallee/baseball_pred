{
 "cells": [
  {
   "cell_type": "markdown",
   "metadata": {},
   "source": [
    "# MLB Odds Scraper for covers.com\n",
    "This notebook puls down historic data about MLB baseball odds from covers.com. We also get the final score and date/time of the game. Data is placed in the data/ directory as a csv file."
   ]
  },
  {
   "cell_type": "markdown",
   "metadata": {},
   "source": [
    "# Imports, Etc."
   ]
  },
  {
   "cell_type": "code",
   "execution_count": 11,
   "metadata": {},
   "outputs": [],
   "source": [
    "from bs4 import BeautifulSoup as bs\n",
    "from selenium import webdriver\n",
    "from selenium.webdriver.support.ui import WebDriverWait\n",
    "from selenium.webdriver.support import expected_conditions as EC\n",
    "from selenium.webdriver.firefox.options import Options\n",
    "from selenium.webdriver.common.by import By\n",
    "\n",
    "import pandas as pd\n",
    "import numpy as np\n",
    "\n",
    "import re\n",
    "import threading\n",
    "import queue\n",
    "import time\n",
    "from datetime import datetime, timedelta\n",
    "\n",
    "#"
   ]
  },
  {
   "cell_type": "code",
   "execution_count": 12,
   "metadata": {},
   "outputs": [
    {
     "name": "stdout",
     "output_type": "stream",
     "text": [
      "The autoreload extension is already loaded. To reload it, use:\n",
      "  %reload_ext autoreload\n"
     ]
    }
   ],
   "source": [
    "%matplotlib inline\n",
    "%load_ext autoreload\n",
    "%autoreload 2\n",
    "\n",
    "import warnings\n",
    "warnings.filterwarnings('ignore')\n",
    "warnings.simplefilter(action='ignore', category=FutureWarning)"
   ]
  },
  {
   "cell_type": "markdown",
   "metadata": {},
   "source": [
    "# Build Queue"
   ]
  },
  {
   "cell_type": "code",
   "execution_count": 13,
   "metadata": {},
   "outputs": [
    {
     "data": {
      "text/plain": [
       "3299"
      ]
     },
     "execution_count": 13,
     "metadata": {},
     "output_type": "execute_result"
    }
   ],
   "source": [
    "#fill the queue with dates that we need games from\n",
    "q = queue.Queue(maxsize=0)\n",
    "\n",
    "#get last date from disk if we've already saved some data\n",
    "try:\n",
    "    game_df = pd.read_csv('data/covers.csv', low_memory=False)\n",
    "    get_day = pd.to_datetime(game_df.date.max()).strftime('%Y-%m-%d')\n",
    "except:\n",
    "    get_day = '2012-03-01'\n",
    "    \n",
    "# fill queue with all the dates until yesterday\n",
    "# fill queue with all the dates until yesterday\n",
    "yesterday = (datetime.now() - timedelta(days=1)).date()\n",
    "days = []\n",
    "while  pd.to_datetime(get_day).date() < yesterday:\n",
    "    get_day = (pd.to_datetime(get_day).date() + pd.Timedelta(days=1)).strftime('%Y-%m-%d')\n",
    "    if pd.to_datetime(get_day).month<3:continue    # baseball doesn't happen before march\n",
    "    if pd.to_datetime(get_day).month>11:continue   # baseball doesn't happen in december\n",
    "    q.put(get_day)\n",
    "q.qsize()"
   ]
  },
  {
   "cell_type": "markdown",
   "metadata": {},
   "source": [
    "# Scrape"
   ]
  },
  {
   "cell_type": "code",
   "execution_count": 14,
   "metadata": {},
   "outputs": [],
   "source": [
    "def get_covers_data(day, driver):\n",
    "    url = f'https://www.covers.com/Sports/MLB/Matchups?selectedDate={day}'\n",
    "    driver.get(url)\n",
    "    time.sleep(5) # give it a couple of more second to load\n",
    "    soup = bs(driver.page_source.encode(\"utf-8\"), \"lxml\")\n",
    "    \n",
    "    #make sure we're on the right day\n",
    "    nav_date = soup.find('a', {'class':'cmg_active_navigation_item'})\n",
    "    if nav_date['data-date']==day:\n",
    "        pass\n",
    "    else:\n",
    "        print(f\"{day}: no games\")\n",
    "        return []\n",
    "    \n",
    "    # grab the data\n",
    "    games = []\n",
    "    scraped_games = soup.findAll('div',{'class':'cmg_matchup_game_box'})\n",
    "    for g in scraped_games:\n",
    "        game = {}\n",
    "        game['home_moneyline'] = g['data-game-odd']\n",
    "        game['away_team_abbr'] = g['data-away-team-shortname-search']\n",
    "        game['date'] = g['data-game-date']\n",
    "        game['home_team_abbr'] = g['data-home-team-shortname-search']\n",
    "        try:\n",
    "            game['home_score'] =g.find('div',{'class':'cmg_matchup_list_score_home'}).text.strip()\n",
    "        except:\n",
    "            pass\n",
    "        try:\n",
    "            game['away_score'] =g.find('div',{'class':'cmg_matchup_list_score_away'}).text.strip()\n",
    "        except:\n",
    "            pass\n",
    "        games.append(game)\n",
    "    return games            "
   ]
  },
  {
   "cell_type": "code",
   "execution_count": 15,
   "metadata": {},
   "outputs": [],
   "source": [
    "def do_work(q, lock):\n",
    "    #start a web browser\n",
    "    driver = webdriver.Firefox()\n",
    "    driver.implicitly_wait(10)\n",
    "    \n",
    "    #start working through the queue\n",
    "    while not q.empty():\n",
    "        day = q.get()\n",
    "        games = get_covers_data(day, driver)\n",
    "        \n",
    "        #some days have no games\n",
    "        if len(games)==0:\n",
    "            q.task_done()\n",
    "            continue\n",
    "        \n",
    "        new_games = pd.DataFrame(games)\n",
    "        \n",
    "        #save the games to disk\n",
    "        lock.acquire()\n",
    "        try:\n",
    "            game_df = pd.read_csv('data/covers.csv', low_memory=False)\n",
    "        except:\n",
    "            game_df = pd.DataFrame()\n",
    "        game_df = pd.concat([game_df,new_games])\n",
    "        game_df.to_csv('data/covers.csv', index=False)\n",
    "        lock.release()\n",
    "        \n",
    "        q.task_done()\n",
    "        print(f\"{day} done.\")\n",
    "    driver.quit()"
   ]
  },
  {
   "cell_type": "code",
   "execution_count": 16,
   "metadata": {
    "scrolled": true
   },
   "outputs": [
    {
     "name": "stderr",
     "output_type": "stream",
     "text": [
      "There was an error managing firefox (Access is denied. (os error 5)); using driver found in the cache\n",
      "There was an error managing firefox (Access is denied. (os error 5)); using driver found in the cache\n",
      "There was an error managing firefox (Access is denied. (os error 5)); using driver found in the cache\n",
      "There was an error managing firefox (Access is denied. (os error 5)); using driver found in the cache\n",
      "There was an error managing firefox (Access is denied. (os error 5)); using driver found in the cache\n",
      "Exception in thread Thread-9:\n",
      "Traceback (most recent call last):\n",
      "  File \"c:\\python39\\lib\\threading.py\", line 954, in _bootstrap_inner\n",
      "    self.run()\n",
      "  File \"c:\\python39\\lib\\threading.py\", line 892, in run\n",
      "    self._target(*self._args, **self._kwargs)\n",
      "  File \"C:\\Users\\Public\\Documents\\Wondershare\\CreatorTemp\\ipykernel_6020\\252046409.py\", line 3, in do_work\n",
      "  File \"c:\\python39\\lib\\site-packages\\selenium\\webdriver\\firefox\\webdriver.py\", line 69, in __init__\n",
      "    super().__init__(command_executor=executor, options=options)\n",
      "  File \"c:\\python39\\lib\\site-packages\\selenium\\webdriver\\remote\\webdriver.py\", line 209, in __init__\n",
      "    self.start_session(capabilities)\n",
      "  File \"c:\\python39\\lib\\site-packages\\selenium\\webdriver\\remote\\webdriver.py\", line 293, in start_session\n",
      "    response = self.execute(Command.NEW_SESSION, caps)[\"value\"]\n",
      "  File \"c:\\python39\\lib\\site-packages\\selenium\\webdriver\\remote\\webdriver.py\", line 348, in execute\n",
      "    self.error_handler.check_response(response)\n",
      "  File \"c:\\python39\\lib\\site-packages\\selenium\\webdriver\\remote\\errorhandler.py\", line 229, in check_response\n",
      "    raise exception_class(message, screen, stacktrace)\n",
      "selenium.common.exceptions.SessionNotCreatedException: Message: Expected browser binary location, but unable to find binary in default location, no 'moz:firefoxOptions.binary' capability provided, and no binary flag set on the command line\n",
      "\n",
      "Exception in thread Thread-8:\n",
      "Traceback (most recent call last):\n",
      "  File \"c:\\python39\\lib\\threading.py\", line 954, in _bootstrap_inner\n",
      "    self.run()\n",
      "  File \"c:\\python39\\lib\\threading.py\", line 892, in run\n",
      "    self._target(*self._args, **self._kwargs)\n",
      "  File \"C:\\Users\\Public\\Documents\\Wondershare\\CreatorTemp\\ipykernel_6020\\252046409.py\", line 3, in do_work\n",
      "  File \"c:\\python39\\lib\\site-packages\\selenium\\webdriver\\firefox\\webdriver.py\", line 69, in __init__\n",
      "    super().__init__(command_executor=executor, options=options)\n",
      "  File \"c:\\python39\\lib\\site-packages\\selenium\\webdriver\\remote\\webdriver.py\", line 209, in __init__\n",
      "    self.start_session(capabilities)\n",
      "  File \"c:\\python39\\lib\\site-packages\\selenium\\webdriver\\remote\\webdriver.py\", line 293, in start_session\n",
      "    response = self.execute(Command.NEW_SESSION, caps)[\"value\"]\n",
      "  File \"c:\\python39\\lib\\site-packages\\selenium\\webdriver\\remote\\webdriver.py\", line 348, in execute\n",
      "    self.error_handler.check_response(response)\n",
      "  File \"c:\\python39\\lib\\site-packages\\selenium\\webdriver\\remote\\errorhandler.py\", line 229, in check_response\n",
      "    raise exception_class(message, screen, stacktrace)\n",
      "selenium.common.exceptions.SessionNotCreatedException: Message: Expected browser binary location, but unable to find binary in default location, no 'moz:firefoxOptions.binary' capability provided, and no binary flag set on the command line\n",
      "\n",
      "Exception in thread Thread-5:\n",
      "Traceback (most recent call last):\n",
      "  File \"c:\\python39\\lib\\threading.py\", line 954, in _bootstrap_inner\n",
      "    self.run()\n",
      "  File \"c:\\python39\\lib\\threading.py\", line 892, in run\n",
      "    self._target(*self._args, **self._kwargs)\n",
      "  File \"C:\\Users\\Public\\Documents\\Wondershare\\CreatorTemp\\ipykernel_6020\\252046409.py\", line 3, in do_work\n",
      "  File \"c:\\python39\\lib\\site-packages\\selenium\\webdriver\\firefox\\webdriver.py\", line 69, in __init__\n",
      "    super().__init__(command_executor=executor, options=options)\n",
      "  File \"c:\\python39\\lib\\site-packages\\selenium\\webdriver\\remote\\webdriver.py\", line 209, in __init__\n",
      "    self.start_session(capabilities)\n",
      "  File \"c:\\python39\\lib\\site-packages\\selenium\\webdriver\\remote\\webdriver.py\", line 293, in start_session\n",
      "    response = self.execute(Command.NEW_SESSION, caps)[\"value\"]\n",
      "  File \"c:\\python39\\lib\\site-packages\\selenium\\webdriver\\remote\\webdriver.py\", line 348, in execute\n",
      "    self.error_handler.check_response(response)\n",
      "  File \"c:\\python39\\lib\\site-packages\\selenium\\webdriver\\remote\\errorhandler.py\", line 229, in check_response\n",
      "    raise exception_class(message, screen, stacktrace)\n",
      "selenium.common.exceptions.SessionNotCreatedException: Message: Expected browser binary location, but unable to find binary in default location, no 'moz:firefoxOptions.binary' capability provided, and no binary flag set on the command line\n",
      "\n",
      "Exception in thread Thread-7:\n",
      "Traceback (most recent call last):\n",
      "  File \"c:\\python39\\lib\\threading.py\", line 954, in _bootstrap_inner\n",
      "    self.run()\n",
      "  File \"c:\\python39\\lib\\threading.py\", line 892, in run\n",
      "    self._target(*self._args, **self._kwargs)\n",
      "  File \"C:\\Users\\Public\\Documents\\Wondershare\\CreatorTemp\\ipykernel_6020\\252046409.py\", line 3, in do_work\n",
      "  File \"c:\\python39\\lib\\site-packages\\selenium\\webdriver\\firefox\\webdriver.py\", line 69, in __init__\n",
      "    super().__init__(command_executor=executor, options=options)\n",
      "  File \"c:\\python39\\lib\\site-packages\\selenium\\webdriver\\remote\\webdriver.py\", line 209, in __init__\n",
      "    self.start_session(capabilities)\n",
      "  File \"c:\\python39\\lib\\site-packages\\selenium\\webdriver\\remote\\webdriver.py\", line 293, in start_session\n",
      "    response = self.execute(Command.NEW_SESSION, caps)[\"value\"]\n",
      "  File \"c:\\python39\\lib\\site-packages\\selenium\\webdriver\\remote\\webdriver.py\", line 348, in execute\n",
      "    self.error_handler.check_response(response)\n",
      "  File \"c:\\python39\\lib\\site-packages\\selenium\\webdriver\\remote\\errorhandler.py\", line 229, in check_response\n",
      "    raise exception_class(message, screen, stacktrace)\n",
      "selenium.common.exceptions.SessionNotCreatedException: Message: Expected browser binary location, but unable to find binary in default location, no 'moz:firefoxOptions.binary' capability provided, and no binary flag set on the command line\n",
      "\n",
      "Exception in thread Thread-10:\n",
      "Traceback (most recent call last):\n",
      "  File \"c:\\python39\\lib\\threading.py\", line 954, in _bootstrap_inner\n",
      "    self.run()\n",
      "  File \"c:\\python39\\lib\\threading.py\", line 892, in run\n",
      "    self._target(*self._args, **self._kwargs)\n",
      "  File \"C:\\Users\\Public\\Documents\\Wondershare\\CreatorTemp\\ipykernel_6020\\252046409.py\", line 3, in do_work\n",
      "  File \"c:\\python39\\lib\\site-packages\\selenium\\webdriver\\firefox\\webdriver.py\", line 69, in __init__\n",
      "    super().__init__(command_executor=executor, options=options)\n",
      "  File \"c:\\python39\\lib\\site-packages\\selenium\\webdriver\\remote\\webdriver.py\", line 209, in __init__\n",
      "    self.start_session(capabilities)\n",
      "  File \"c:\\python39\\lib\\site-packages\\selenium\\webdriver\\remote\\webdriver.py\", line 293, in start_session\n",
      "    response = self.execute(Command.NEW_SESSION, caps)[\"value\"]\n",
      "  File \"c:\\python39\\lib\\site-packages\\selenium\\webdriver\\remote\\webdriver.py\", line 348, in execute\n",
      "    self.error_handler.check_response(response)\n",
      "  File \"c:\\python39\\lib\\site-packages\\selenium\\webdriver\\remote\\errorhandler.py\", line 229, in check_response\n",
      "    raise exception_class(message, screen, stacktrace)\n",
      "selenium.common.exceptions.SessionNotCreatedException: Message: Expected browser binary location, but unable to find binary in default location, no 'moz:firefoxOptions.binary' capability provided, and no binary flag set on the command line\n",
      "\n",
      "Exception in thread Thread-6:\n",
      "Traceback (most recent call last):\n",
      "  File \"c:\\python39\\lib\\threading.py\", line 954, in _bootstrap_inner\n",
      "    self.run()\n",
      "  File \"c:\\python39\\lib\\threading.py\", line 892, in run\n",
      "    self._target(*self._args, **self._kwargs)\n",
      "  File \"C:\\Users\\Public\\Documents\\Wondershare\\CreatorTemp\\ipykernel_6020\\252046409.py\", line 25, in do_work\n",
      "  File \"c:\\python39\\lib\\site-packages\\pandas\\core\\generic.py\", line 3902, in to_csv\n",
      "    return DataFrameRenderer(formatter).to_csv(\n",
      "  File \"c:\\python39\\lib\\site-packages\\pandas\\io\\formats\\format.py\", line 1152, in to_csv\n",
      "    csv_formatter.save()\n",
      "  File \"c:\\python39\\lib\\site-packages\\pandas\\io\\formats\\csvs.py\", line 247, in save\n",
      "    with get_handle(\n",
      "  File \"c:\\python39\\lib\\site-packages\\pandas\\io\\common.py\", line 739, in get_handle\n",
      "    check_parent_directory(str(handle))\n",
      "  File \"c:\\python39\\lib\\site-packages\\pandas\\io\\common.py\", line 604, in check_parent_directory\n",
      "    raise OSError(rf\"Cannot save file into a non-existent directory: '{parent}'\")\n",
      "OSError: Cannot save file into a non-existent directory: 'data'\n"
     ]
    }
   ],
   "source": [
    "num_threads = 6    # num of firefox windows\n",
    "lock = threading.Lock()\n",
    "\n",
    "#start the workers\n",
    "for i in range(num_threads):\n",
    "    worker = threading.Thread(target=do_work, args=(q,lock,))\n",
    "    worker.setDaemon(True)\n",
    "    worker.start()\n",
    "        \n",
    "#wait for workers to finish\n",
    "q.join()"
   ]
  },
  {
   "cell_type": "code",
   "execution_count": null,
   "metadata": {},
   "outputs": [],
   "source": []
  }
 ],
 "metadata": {
  "kernelspec": {
   "display_name": "Python 3",
   "language": "python",
   "name": "python3"
  },
  "language_info": {
   "codemirror_mode": {
    "name": "ipython",
    "version": 3
   },
   "file_extension": ".py",
   "mimetype": "text/x-python",
   "name": "python",
   "nbconvert_exporter": "python",
   "pygments_lexer": "ipython3",
   "version": "3.9.1"
  },
  "toc": {
   "base_numbering": 1,
   "nav_menu": {},
   "number_sections": true,
   "sideBar": true,
   "skip_h1_title": false,
   "title_cell": "Table of Contents",
   "title_sidebar": "Contents",
   "toc_cell": false,
   "toc_position": {},
   "toc_section_display": true,
   "toc_window_display": false
  }
 },
 "nbformat": 4,
 "nbformat_minor": 2
}
