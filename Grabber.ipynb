{
 "cells": [
  {
   "cell_type": "code",
   "execution_count": 38,
   "metadata": {},
   "outputs": [
    {
     "name": "stdout",
     "output_type": "stream",
     "text": [
      "There are no NaN values in the dataset\n",
      "The column 9th has 0.1% NaN values.\n",
      "There are no NaN values in the dataset\n",
      "There are no NaN values in the dataset\n",
      "The column 9th has 0.1% NaN values.\n",
      "There are no NaN values in the dataset\n",
      "The column 9th has 0.1% NaN values.\n",
      "The column Pitcher has 0.6% NaN values.\n",
      "The column 9th has 0.1% NaN values.\n",
      "The column Pitcher has 0.2% NaN values.\n",
      "The column 8th has 0.1% NaN values.\n",
      "The column 9th has 0.1% NaN values.\n",
      "There are no NaN values in the dataset\n",
      "There are no NaN values in the dataset\n",
      "There are no NaN values in the dataset\n",
      "The column Unnamed: 13 has 99.8% NaN values.\n",
      "The column Unnamed: 14 has 100.0% NaN values.\n",
      "The column Unnamed: 15 has 100.0% NaN values.\n",
      "The column Unnamed: 85 has 100.0% NaN values.\n",
      "The column Unnamed: 87 has 100.0% NaN values.\n",
      "The column roset001 has 46.8% NaN values.\n",
      "The column hollm001 has 4.9% NaN values.\n",
      "The column Unnamed: 159 has 99.4% NaN values.\n",
      "The column Unnamed: 13 has 100.0% NaN values.\n",
      "The column Unnamed: 14 has 100.0% NaN values.\n",
      "The column Unnamed: 15 has 99.9% NaN values.\n",
      "The column Unnamed: 85 has 100.0% NaN values.\n",
      "The column Unnamed: 87 has 100.0% NaN values.\n",
      "The column daviw001 has 47.5% NaN values.\n",
      "The column hosme001 has 4.5% NaN values.\n",
      "The column Unnamed: 159 has 99.2% NaN values.\n",
      "The column Unnamed: 13 has 100.0% NaN values.\n",
      "The column Unnamed: 14 has 100.0% NaN values.\n",
      "The column Unnamed: 15 has 100.0% NaN values.\n",
      "The column Unnamed: 85 has 100.0% NaN values.\n",
      "The column Unnamed: 87 has 100.0% NaN values.\n",
      "The column Unnamed: 97 has 51.5% NaN values.\n",
      "The column owinc001 has 4.9% NaN values.\n",
      "The column Unnamed: 159 has 99.2% NaN values.\n",
      "The column Unnamed: 13 has 99.9% NaN values.\n",
      "The column Unnamed: 14 has 100.0% NaN values.\n",
      "The column Unnamed: 15 has 100.0% NaN values.\n",
      "The column Unnamed: 85 has 99.9% NaN values.\n",
      "The column Unnamed: 87 has 99.9% NaN values.\n",
      "The column Unnamed: 97 has 48.8% NaN values.\n",
      "The column lambj001 has 4.9% NaN values.\n",
      "The column Unnamed: 159 has 99.5% NaN values.\n",
      "The column Unnamed: 13 has 99.8% NaN values.\n",
      "The column Unnamed: 14 has 100.0% NaN values.\n",
      "The column Unnamed: 15 has 100.0% NaN values.\n",
      "The column barkl901 has 0.1% NaN values.\n",
      "The column Unnamed: 85 has 100.0% NaN values.\n",
      "The column Unnamed: 87 has 100.0% NaN values.\n",
      "The column strih001 has 51.4% NaN values.\n",
      "The column santd002 has 4.6% NaN values.\n",
      "The column Unnamed: 159 has 99.0% NaN values.\n",
      "The column Unnamed: 13 has 99.8% NaN values.\n",
      "The column Unnamed: 14 has 100.0% NaN values.\n",
      "The column Unnamed: 15 has 100.0% NaN values.\n",
      "The column Unnamed: 17 has 100.0% NaN values.\n",
      "The column eddid901 has 0.2% NaN values.\n",
      "The column Unnamed: 85 has 100.0% NaN values.\n",
      "The column Unnamed: 87 has 100.0% NaN values.\n",
      "The column Unnamed: 97 has 53.0% NaN values.\n",
      "The column turnj001 has 4.2% NaN values.\n",
      "The column Unnamed: 159 has 96.4% NaN values.\n",
      "The column Unnamed: 13 has 99.7% NaN values.\n",
      "The column Unnamed: 14 has 100.0% NaN values.\n",
      "The column Unnamed: 15 has 100.0% NaN values.\n",
      "The column dejer901 has 0.2% NaN values.\n",
      "The column Unnamed: 85 has 100.0% NaN values.\n",
      "The column Unnamed: 87 has 100.0% NaN values.\n",
      "The column rodrr008 has 51.0% NaN values.\n",
      "The column hayek001 has 4.8% NaN values.\n",
      "The column Unnamed: 159 has 99.3% NaN values.\n",
      "The column Unnamed: 13 has 100.0% NaN values.\n",
      "The column Unnamed: 14 has 100.0% NaN values.\n",
      "The column Unnamed: 15 has 100.0% NaN values.\n",
      "The column barbs901 has 0.4% NaN values.\n",
      "The column Unnamed: 85 has 100.0% NaN values.\n",
      "The column Unnamed: 87 has 100.0% NaN values.\n",
      "The column Unnamed: 97 has 49.3% NaN values.\n",
      "The column beers001 has 4.9% NaN values.\n",
      "The column Unnamed: 159 has 99.2% NaN values.\n"
     ]
    }
   ],
   "source": [
    "import pandas as pd\n",
    "import glob\n",
    "import os\n",
    "import numpy as np\n",
    "from featureranker.utils import *\n",
    "from featureranker.plots import *\n",
    "from featureranker.rankers import *\n",
    "from tqdm.auto import tqdm\n",
    "\n",
    "xlsx_path = './betting_odds/'\n",
    "txt_path = './game_data/'\n",
    "paths = [path for path in glob.glob(xlsx_path + '*.xlsx')]\n",
    "paths_txt = [path_txt for path_txt in glob.glob(txt_path + '*.txt')]\n",
    "for path in paths:\n",
    "    xlsx_dataframes = pd.read_excel(path)\n",
    "    xlsx_dataframes.columns = xlsx_dataframes.columns.str.replace('[^a-zA-Z0-9]', '')\n",
    "    view_data(xlsx_dataframes)\n",
    "\n",
    "for path_txt in paths_txt:\n",
    "    txt_dataframes = pd.read_csv(path_txt)\n",
    "    txt_dataframes.columns = txt_dataframes.columns.str.replace('[^a-zA-Z0-9]', '')\n",
    "    view_data(txt_dataframes)\n",
    "\n",
    "# If you want to view the file in Excel, uncomment the following line\n",
    "# os.startfile(xlsx_files[0])\n"
   ]
  },
  {
   "cell_type": "code",
   "execution_count": 39,
   "metadata": {},
   "outputs": [
    {
     "name": "stdout",
     "output_type": "stream",
     "text": [
      "      20220407  0  Thu  SDN  NL    1  ARI NL.1  1.1  2  ...  \\\n",
      "0     20220407  0  Thu  CIN  NL    1  ATL   NL    1  6  ...   \n",
      "1     20220407  0  Thu  MIL  NL    1  CHN   NL    1  4  ...   \n",
      "2     20220407  0  Thu  PIT  NL    1  SLN   NL    1  0  ...   \n",
      "3     20220407  0  Thu  NYN  NL    1  WAS   NL    1  5  ...   \n",
      "4     20220407  0  Thu  HOU  AL    1  ANA   AL    1  3  ...   \n",
      "...        ... ..  ...  ...  ..  ...  ...  ...  ... ..  ...   \n",
      "2424  20221005  0  Wed  KCA  AL  162  CLE   AL  162  2  ...   \n",
      "2425  20221005  0  Wed  PHI  NL  162  HOU   AL  162  2  ...   \n",
      "2426  20221005  0  Wed  ANA  AL  162  OAK   AL  162  2  ...   \n",
      "2427  20221005  0  Wed  DET  AL  162  SEA   AL  162  4  ...   \n",
      "2428  20221005  0  Wed  NYA  AL  162  TEX   AL  162  2  ...   \n",
      "\n",
      "            Seth Beer.1  10.1  ellid002       Drew Ellis  5.3  perdg001  \\\n",
      "0       Travis d'Arnaud     2  dicka001   Alex Dickerson   10  swand001   \n",
      "1         Jason Heyward     8  wisdp001   Patrick Wisdom    5  hoern001   \n",
      "2         Yadier Molina     2  badeh001   Harrison Bader    8  edmat001   \n",
      "3         Maikel Franco     5  escoa003  Alcides Escobar    6  roblv001   \n",
      "4            Max Stassi     2  marsb002    Brandon Marsh    9  fletd002   \n",
      "...                 ...   ...       ...              ...  ...       ...   \n",
      "2424       Will Brennan     7  maill001       Luke Maile    2  stram002   \n",
      "2425        Jake Meyers     8  dubom001   Mauricio Dubon    6  maldm001   \n",
      "2426       Conner Capel     9  garcd004    Dermis Garcia    3  allen002   \n",
      "2427       Abraham Toro     5  casac001      Curt Casali    2  crawj002   \n",
      "2428  Charlie Culberson     7  tavel001    Leody Taveras    8  thomb003   \n",
      "\n",
      "       Gerardo Perdomo  6.4  Unnamed: 159  Y  \n",
      "0       Dansby Swanson    6           NaN  Y  \n",
      "1         Nico Hoerner    6           NaN  Y  \n",
      "2          Tommy Edman    4           NaN  Y  \n",
      "3        Victor Robles    8           NaN  Y  \n",
      "4       David Fletcher    6           NaN  Y  \n",
      "...                ...  ...           ... ..  \n",
      "2424       Myles Straw    8           NaN  Y  \n",
      "2425  Martin Maldonado    2           NaN  Y  \n",
      "2426        Nick Allen    6           NaN  Y  \n",
      "2427     J.P. Crawford    6           NaN  Y  \n",
      "2428    Bubba Thompson    9           NaN  Y  \n",
      "\n",
      "[2429 rows x 161 columns]\n"
     ]
    }
   ],
   "source": [
    "# print(xlsx_dataframes.head)\n",
    "print(txt_dataframes)"
   ]
  },
  {
   "cell_type": "code",
   "execution_count": 21,
   "metadata": {},
   "outputs": [
    {
     "ename": "TypeError",
     "evalue": "first argument must be an iterable of pandas objects, you passed an object of type \"DataFrame\"",
     "output_type": "error",
     "traceback": [
      "\u001b[1;31m---------------------------------------------------------------------------\u001b[0m",
      "\u001b[1;31mTypeError\u001b[0m                                 Traceback (most recent call last)",
      "\u001b[1;32mc:\\Users\\vile3\\Documents\\GitHub\\baseball_pred\\Grabber.ipynb Cell 3\u001b[0m line \u001b[0;36m2\n\u001b[0;32m     <a href='vscode-notebook-cell:/c%3A/Users/vile3/Documents/GitHub/baseball_pred/Grabber.ipynb#W1sZmlsZQ%3D%3D?line=15'>16</a>\u001b[0m         selected_columns_df \u001b[39m=\u001b[39m pd\u001b[39m.\u001b[39mconcat([selected_columns_df, temp_df])\n\u001b[0;32m     <a href='vscode-notebook-cell:/c%3A/Users/vile3/Documents/GitHub/baseball_pred/Grabber.ipynb#W1sZmlsZQ%3D%3D?line=17'>18</a>\u001b[0m     \u001b[39mreturn\u001b[39;00m selected_columns_df\n\u001b[1;32m---> <a href='vscode-notebook-cell:/c%3A/Users/vile3/Documents/GitHub/baseball_pred/Grabber.ipynb#W1sZmlsZQ%3D%3D?line=19'>20</a>\u001b[0m \u001b[39mprint\u001b[39m(process_dataframes(xlsx_dataframes))\n",
      "\u001b[1;32mc:\\Users\\vile3\\Documents\\GitHub\\baseball_pred\\Grabber.ipynb Cell 3\u001b[0m line \u001b[0;36m2\n\u001b[0;32m      <a href='vscode-notebook-cell:/c%3A/Users/vile3/Documents/GitHub/baseball_pred/Grabber.ipynb#W1sZmlsZQ%3D%3D?line=0'>1</a>\u001b[0m \u001b[39mdef\u001b[39;00m \u001b[39mprocess_dataframes\u001b[39m(xlsx_dataframes):\n\u001b[1;32m----> <a href='vscode-notebook-cell:/c%3A/Users/vile3/Documents/GitHub/baseball_pred/Grabber.ipynb#W1sZmlsZQ%3D%3D?line=1'>2</a>\u001b[0m     merged_df \u001b[39m=\u001b[39m pd\u001b[39m.\u001b[39;49mconcat(xlsx_dataframes)\n\u001b[0;32m      <a href='vscode-notebook-cell:/c%3A/Users/vile3/Documents/GitHub/baseball_pred/Grabber.ipynb#W1sZmlsZQ%3D%3D?line=2'>3</a>\u001b[0m     home_teams_df \u001b[39m=\u001b[39m merged_df[merged_df[\u001b[39m'\u001b[39m\u001b[39mVH\u001b[39m\u001b[39m'\u001b[39m] \u001b[39m==\u001b[39m \u001b[39m'\u001b[39m\u001b[39mH\u001b[39m\u001b[39m'\u001b[39m]\n\u001b[0;32m      <a href='vscode-notebook-cell:/c%3A/Users/vile3/Documents/GitHub/baseball_pred/Grabber.ipynb#W1sZmlsZQ%3D%3D?line=3'>4</a>\u001b[0m     visiting_teams_df \u001b[39m=\u001b[39m merged_df[merged_df[\u001b[39m'\u001b[39m\u001b[39mVH\u001b[39m\u001b[39m'\u001b[39m] \u001b[39m==\u001b[39m \u001b[39m'\u001b[39m\u001b[39mV\u001b[39m\u001b[39m'\u001b[39m]\n",
      "File \u001b[1;32mc:\\python39\\lib\\site-packages\\pandas\\core\\reshape\\concat.py:380\u001b[0m, in \u001b[0;36mconcat\u001b[1;34m(objs, axis, join, ignore_index, keys, levels, names, verify_integrity, sort, copy)\u001b[0m\n\u001b[0;32m    377\u001b[0m \u001b[39melif\u001b[39;00m copy \u001b[39mand\u001b[39;00m using_copy_on_write():\n\u001b[0;32m    378\u001b[0m     copy \u001b[39m=\u001b[39m \u001b[39mFalse\u001b[39;00m\n\u001b[1;32m--> 380\u001b[0m op \u001b[39m=\u001b[39m _Concatenator(\n\u001b[0;32m    381\u001b[0m     objs,\n\u001b[0;32m    382\u001b[0m     axis\u001b[39m=\u001b[39;49maxis,\n\u001b[0;32m    383\u001b[0m     ignore_index\u001b[39m=\u001b[39;49mignore_index,\n\u001b[0;32m    384\u001b[0m     join\u001b[39m=\u001b[39;49mjoin,\n\u001b[0;32m    385\u001b[0m     keys\u001b[39m=\u001b[39;49mkeys,\n\u001b[0;32m    386\u001b[0m     levels\u001b[39m=\u001b[39;49mlevels,\n\u001b[0;32m    387\u001b[0m     names\u001b[39m=\u001b[39;49mnames,\n\u001b[0;32m    388\u001b[0m     verify_integrity\u001b[39m=\u001b[39;49mverify_integrity,\n\u001b[0;32m    389\u001b[0m     copy\u001b[39m=\u001b[39;49mcopy,\n\u001b[0;32m    390\u001b[0m     sort\u001b[39m=\u001b[39;49msort,\n\u001b[0;32m    391\u001b[0m )\n\u001b[0;32m    393\u001b[0m \u001b[39mreturn\u001b[39;00m op\u001b[39m.\u001b[39mget_result()\n",
      "File \u001b[1;32mc:\\python39\\lib\\site-packages\\pandas\\core\\reshape\\concat.py:417\u001b[0m, in \u001b[0;36m_Concatenator.__init__\u001b[1;34m(self, objs, axis, join, keys, levels, names, ignore_index, verify_integrity, copy, sort)\u001b[0m\n\u001b[0;32m    403\u001b[0m \u001b[39mdef\u001b[39;00m \u001b[39m__init__\u001b[39m(\n\u001b[0;32m    404\u001b[0m     \u001b[39mself\u001b[39m,\n\u001b[0;32m    405\u001b[0m     objs: Iterable[Series \u001b[39m|\u001b[39m DataFrame] \u001b[39m|\u001b[39m Mapping[HashableT, Series \u001b[39m|\u001b[39m DataFrame],\n\u001b[1;32m   (...)\u001b[0m\n\u001b[0;32m    414\u001b[0m     sort: \u001b[39mbool\u001b[39m \u001b[39m=\u001b[39m \u001b[39mFalse\u001b[39;00m,\n\u001b[0;32m    415\u001b[0m ) \u001b[39m-\u001b[39m\u001b[39m>\u001b[39m \u001b[39mNone\u001b[39;00m:\n\u001b[0;32m    416\u001b[0m     \u001b[39mif\u001b[39;00m \u001b[39misinstance\u001b[39m(objs, (ABCSeries, ABCDataFrame, \u001b[39mstr\u001b[39m)):\n\u001b[1;32m--> 417\u001b[0m         \u001b[39mraise\u001b[39;00m \u001b[39mTypeError\u001b[39;00m(\n\u001b[0;32m    418\u001b[0m             \u001b[39m\"\u001b[39m\u001b[39mfirst argument must be an iterable of pandas \u001b[39m\u001b[39m\"\u001b[39m\n\u001b[0;32m    419\u001b[0m             \u001b[39mf\u001b[39m\u001b[39m'\u001b[39m\u001b[39mobjects, you passed an object of type \u001b[39m\u001b[39m\"\u001b[39m\u001b[39m{\u001b[39;00m\u001b[39mtype\u001b[39m(objs)\u001b[39m.\u001b[39m\u001b[39m__name__\u001b[39m\u001b[39m}\u001b[39;00m\u001b[39m\"\u001b[39m\u001b[39m'\u001b[39m\n\u001b[0;32m    420\u001b[0m         )\n\u001b[0;32m    422\u001b[0m     \u001b[39mif\u001b[39;00m join \u001b[39m==\u001b[39m \u001b[39m\"\u001b[39m\u001b[39mouter\u001b[39m\u001b[39m\"\u001b[39m:\n\u001b[0;32m    423\u001b[0m         \u001b[39mself\u001b[39m\u001b[39m.\u001b[39mintersect \u001b[39m=\u001b[39m \u001b[39mFalse\u001b[39;00m\n",
      "\u001b[1;31mTypeError\u001b[0m: first argument must be an iterable of pandas objects, you passed an object of type \"DataFrame\""
     ]
    }
   ],
   "source": [
    "def process_dataframes(xlsx_dataframes):\n",
    "    merged_df = pd.concat(xlsx_dataframes)\n",
    "    home_teams_df = merged_df[merged_df['VH'] == 'H']\n",
    "    visiting_teams_df = merged_df[merged_df['VH'] == 'V']\n",
    "\n",
    "    selected_columns_df = pd.DataFrame()\n",
    "    for i in range(len(xlsx_dataframes)):\n",
    "        year = 2010 + i\n",
    "        temp_df = pd.DataFrame({\n",
    "            'date': home_teams_df['Date'].apply(lambda x: str(year) + str(x).zfill(4)).reset_index(drop=True),\n",
    "            'home_team': home_teams_df['Team'].reset_index(drop=True),\n",
    "            'visiting_team': visiting_teams_df['Team'].reset_index(drop=True),\n",
    "            'home_open': home_teams_df['Open'].reset_index(drop=True),\n",
    "            'visiting_open': visiting_teams_df['Open'].reset_index(drop=True)\n",
    "        })\n",
    "        selected_columns_df = pd.concat([selected_columns_df, temp_df])\n",
    "\n",
    "    return selected_columns_df\n",
    "\n",
    "print(process_dataframes(xlsx_dataframes))\n"
   ]
  },
  {
   "cell_type": "code",
   "execution_count": null,
   "metadata": {},
   "outputs": [
    {
     "ename": "IndexError",
     "evalue": "single positional indexer is out-of-bounds",
     "output_type": "error",
     "traceback": [
      "\u001b[1;31m---------------------------------------------------------------------------\u001b[0m",
      "\u001b[1;31mIndexError\u001b[0m                                Traceback (most recent call last)",
      "\u001b[1;32mc:\\Users\\vile3\\.cursor-tutor\\projects\\python\\Grabber.ipynb Cell 3\u001b[0m line \u001b[0;36m1\n\u001b[0;32m     <a href='vscode-notebook-cell:/c%3A/Users/vile3/.cursor-tutor/projects/python/Grabber.ipynb#W2sZmlsZQ%3D%3D?line=15'>16</a>\u001b[0m                     selected_columns_df\u001b[39m.\u001b[39mat[i, \u001b[39m'\u001b[39m\u001b[39mvisiting_players\u001b[39m\u001b[39m'\u001b[39m] \u001b[39m=\u001b[39m matching_row\u001b[39m.\u001b[39miloc[:, \u001b[39m105\u001b[39m:\u001b[39m131\u001b[39m]\u001b[39m.\u001b[39mvalues[\u001b[39m0\u001b[39m]\n\u001b[0;32m     <a href='vscode-notebook-cell:/c%3A/Users/vile3/.cursor-tutor/projects/python/Grabber.ipynb#W2sZmlsZQ%3D%3D?line=16'>17</a>\u001b[0m     \u001b[39mreturn\u001b[39;00m selected_columns_df\n\u001b[1;32m---> <a href='vscode-notebook-cell:/c%3A/Users/vile3/.cursor-tutor/projects/python/Grabber.ipynb#W2sZmlsZQ%3D%3D?line=18'>19</a>\u001b[0m final_df \u001b[39m=\u001b[39m add_player_names(process_dataframes(xlsx_dataframes), txt_dataframes)\n\u001b[0;32m     <a href='vscode-notebook-cell:/c%3A/Users/vile3/.cursor-tutor/projects/python/Grabber.ipynb#W2sZmlsZQ%3D%3D?line=19'>20</a>\u001b[0m \u001b[39mprint\u001b[39m(final_df)\n",
      "\u001b[1;32mc:\\Users\\vile3\\.cursor-tutor\\projects\\python\\Grabber.ipynb Cell 3\u001b[0m line \u001b[0;36m9\n\u001b[0;32m      <a href='vscode-notebook-cell:/c%3A/Users/vile3/.cursor-tutor/projects/python/Grabber.ipynb#W2sZmlsZQ%3D%3D?line=6'>7</a>\u001b[0m match_home_team \u001b[39m=\u001b[39m selected_columns_df\u001b[39m.\u001b[39miloc[i][\u001b[39m'\u001b[39m\u001b[39mhome_team\u001b[39m\u001b[39m'\u001b[39m]\n\u001b[0;32m      <a href='vscode-notebook-cell:/c%3A/Users/vile3/.cursor-tutor/projects/python/Grabber.ipynb#W2sZmlsZQ%3D%3D?line=7'>8</a>\u001b[0m match_visiting_team \u001b[39m=\u001b[39m selected_columns_df\u001b[39m.\u001b[39miloc[i][\u001b[39m'\u001b[39m\u001b[39mvisiting_team\u001b[39m\u001b[39m'\u001b[39m]\n\u001b[1;32m----> <a href='vscode-notebook-cell:/c%3A/Users/vile3/.cursor-tutor/projects/python/Grabber.ipynb#W2sZmlsZQ%3D%3D?line=8'>9</a>\u001b[0m matching_row \u001b[39m=\u001b[39m txt_df[(txt_df[\u001b[39m'\u001b[39m\u001b[39mdate\u001b[39m\u001b[39m'\u001b[39m] \u001b[39m==\u001b[39m match_date) \u001b[39m&\u001b[39m (txt_df\u001b[39m.\u001b[39;49miloc[:, \u001b[39m6\u001b[39;49m]\u001b[39m.\u001b[39mvalues \u001b[39m==\u001b[39m match_home_team) \u001b[39m&\u001b[39m (txt_df\u001b[39m.\u001b[39miloc[:, \u001b[39m3\u001b[39m]\u001b[39m.\u001b[39mvalues \u001b[39m==\u001b[39m match_visiting_team)]\n\u001b[0;32m     <a href='vscode-notebook-cell:/c%3A/Users/vile3/.cursor-tutor/projects/python/Grabber.ipynb#W2sZmlsZQ%3D%3D?line=9'>10</a>\u001b[0m \u001b[39mif\u001b[39;00m \u001b[39mnot\u001b[39;00m matching_row\u001b[39m.\u001b[39mempty:\n\u001b[0;32m     <a href='vscode-notebook-cell:/c%3A/Users/vile3/.cursor-tutor/projects/python/Grabber.ipynb#W2sZmlsZQ%3D%3D?line=10'>11</a>\u001b[0m     \u001b[39mif\u001b[39;00m matching_row\u001b[39m.\u001b[39mshape[\u001b[39m0\u001b[39m] \u001b[39m>\u001b[39m \u001b[39m1\u001b[39m:\n",
      "File \u001b[1;32mc:\\python39\\lib\\site-packages\\pandas\\core\\indexing.py:1147\u001b[0m, in \u001b[0;36m_LocationIndexer.__getitem__\u001b[1;34m(self, key)\u001b[0m\n\u001b[0;32m   1145\u001b[0m     \u001b[39mif\u001b[39;00m \u001b[39mself\u001b[39m\u001b[39m.\u001b[39m_is_scalar_access(key):\n\u001b[0;32m   1146\u001b[0m         \u001b[39mreturn\u001b[39;00m \u001b[39mself\u001b[39m\u001b[39m.\u001b[39mobj\u001b[39m.\u001b[39m_get_value(\u001b[39m*\u001b[39mkey, takeable\u001b[39m=\u001b[39m\u001b[39mself\u001b[39m\u001b[39m.\u001b[39m_takeable)\n\u001b[1;32m-> 1147\u001b[0m     \u001b[39mreturn\u001b[39;00m \u001b[39mself\u001b[39;49m\u001b[39m.\u001b[39;49m_getitem_tuple(key)\n\u001b[0;32m   1148\u001b[0m \u001b[39melse\u001b[39;00m:\n\u001b[0;32m   1149\u001b[0m     \u001b[39m# we by definition only have the 0th axis\u001b[39;00m\n\u001b[0;32m   1150\u001b[0m     axis \u001b[39m=\u001b[39m \u001b[39mself\u001b[39m\u001b[39m.\u001b[39maxis \u001b[39mor\u001b[39;00m \u001b[39m0\u001b[39m\n",
      "File \u001b[1;32mc:\\python39\\lib\\site-packages\\pandas\\core\\indexing.py:1652\u001b[0m, in \u001b[0;36m_iLocIndexer._getitem_tuple\u001b[1;34m(self, tup)\u001b[0m\n\u001b[0;32m   1651\u001b[0m \u001b[39mdef\u001b[39;00m \u001b[39m_getitem_tuple\u001b[39m(\u001b[39mself\u001b[39m, tup: \u001b[39mtuple\u001b[39m):\n\u001b[1;32m-> 1652\u001b[0m     tup \u001b[39m=\u001b[39m \u001b[39mself\u001b[39;49m\u001b[39m.\u001b[39;49m_validate_tuple_indexer(tup)\n\u001b[0;32m   1653\u001b[0m     \u001b[39mwith\u001b[39;00m suppress(IndexingError):\n\u001b[0;32m   1654\u001b[0m         \u001b[39mreturn\u001b[39;00m \u001b[39mself\u001b[39m\u001b[39m.\u001b[39m_getitem_lowerdim(tup)\n",
      "File \u001b[1;32mc:\\python39\\lib\\site-packages\\pandas\\core\\indexing.py:940\u001b[0m, in \u001b[0;36m_LocationIndexer._validate_tuple_indexer\u001b[1;34m(self, key)\u001b[0m\n\u001b[0;32m    938\u001b[0m \u001b[39mfor\u001b[39;00m i, k \u001b[39min\u001b[39;00m \u001b[39menumerate\u001b[39m(key):\n\u001b[0;32m    939\u001b[0m     \u001b[39mtry\u001b[39;00m:\n\u001b[1;32m--> 940\u001b[0m         \u001b[39mself\u001b[39;49m\u001b[39m.\u001b[39;49m_validate_key(k, i)\n\u001b[0;32m    941\u001b[0m     \u001b[39mexcept\u001b[39;00m \u001b[39mValueError\u001b[39;00m \u001b[39mas\u001b[39;00m err:\n\u001b[0;32m    942\u001b[0m         \u001b[39mraise\u001b[39;00m \u001b[39mValueError\u001b[39;00m(\n\u001b[0;32m    943\u001b[0m             \u001b[39m\"\u001b[39m\u001b[39mLocation based indexing can only have \u001b[39m\u001b[39m\"\u001b[39m\n\u001b[0;32m    944\u001b[0m             \u001b[39mf\u001b[39m\u001b[39m\"\u001b[39m\u001b[39m[\u001b[39m\u001b[39m{\u001b[39;00m\u001b[39mself\u001b[39m\u001b[39m.\u001b[39m_valid_types\u001b[39m}\u001b[39;00m\u001b[39m] types\u001b[39m\u001b[39m\"\u001b[39m\n\u001b[0;32m    945\u001b[0m         ) \u001b[39mfrom\u001b[39;00m \u001b[39merr\u001b[39;00m\n",
      "File \u001b[1;32mc:\\python39\\lib\\site-packages\\pandas\\core\\indexing.py:1554\u001b[0m, in \u001b[0;36m_iLocIndexer._validate_key\u001b[1;34m(self, key, axis)\u001b[0m\n\u001b[0;32m   1552\u001b[0m     \u001b[39mreturn\u001b[39;00m\n\u001b[0;32m   1553\u001b[0m \u001b[39melif\u001b[39;00m is_integer(key):\n\u001b[1;32m-> 1554\u001b[0m     \u001b[39mself\u001b[39;49m\u001b[39m.\u001b[39;49m_validate_integer(key, axis)\n\u001b[0;32m   1555\u001b[0m \u001b[39melif\u001b[39;00m \u001b[39misinstance\u001b[39m(key, \u001b[39mtuple\u001b[39m):\n\u001b[0;32m   1556\u001b[0m     \u001b[39m# a tuple should already have been caught by this point\u001b[39;00m\n\u001b[0;32m   1557\u001b[0m     \u001b[39m# so don't treat a tuple as a valid indexer\u001b[39;00m\n\u001b[0;32m   1558\u001b[0m     \u001b[39mraise\u001b[39;00m IndexingError(\u001b[39m\"\u001b[39m\u001b[39mToo many indexers\u001b[39m\u001b[39m\"\u001b[39m)\n",
      "File \u001b[1;32mc:\\python39\\lib\\site-packages\\pandas\\core\\indexing.py:1647\u001b[0m, in \u001b[0;36m_iLocIndexer._validate_integer\u001b[1;34m(self, key, axis)\u001b[0m\n\u001b[0;32m   1645\u001b[0m len_axis \u001b[39m=\u001b[39m \u001b[39mlen\u001b[39m(\u001b[39mself\u001b[39m\u001b[39m.\u001b[39mobj\u001b[39m.\u001b[39m_get_axis(axis))\n\u001b[0;32m   1646\u001b[0m \u001b[39mif\u001b[39;00m key \u001b[39m>\u001b[39m\u001b[39m=\u001b[39m len_axis \u001b[39mor\u001b[39;00m key \u001b[39m<\u001b[39m \u001b[39m-\u001b[39mlen_axis:\n\u001b[1;32m-> 1647\u001b[0m     \u001b[39mraise\u001b[39;00m \u001b[39mIndexError\u001b[39;00m(\u001b[39m\"\u001b[39m\u001b[39msingle positional indexer is out-of-bounds\u001b[39m\u001b[39m\"\u001b[39m)\n",
      "\u001b[1;31mIndexError\u001b[0m: single positional indexer is out-of-bounds"
     ]
    }
   ],
   "source": [
    "def add_player_names(selected_columns_df, txt_dataframes):\n",
    "    player_names_df = pd.DataFrame()\n",
    "    for txt_df in txt_dataframes:\n",
    "        txt_df['date'] = txt_df.iloc[:, 0].apply(lambda x: pd.to_datetime(x.split(',')[0], format='%Y%m%d', errors='coerce'))\n",
    "        for i in range(len(selected_columns_df)):\n",
    "            match_date = selected_columns_df.iloc[i]['date']\n",
    "            match_home_team = selected_columns_df.iloc[i]['home_team']\n",
    "            match_visiting_team = selected_columns_df.iloc[i]['visiting_team']\n",
    "            matching_row = txt_df[(txt_df['date'] == match_date) & (txt_df.iloc[:, 6].values == match_home_team) & (txt_df.iloc[:, 3].values == match_visiting_team)]\n",
    "            if not matching_row.empty:\n",
    "                if matching_row.shape[0] > 1:\n",
    "                    selected_columns_df.at[i, 'home_players'] = matching_row.iloc[0, 132:158].values\n",
    "                    selected_columns_df.at[i, 'visiting_players'] = matching_row.iloc[0, 105:131].values\n",
    "                else: \n",
    "                    selected_columns_df.at[i, 'home_players'] = matching_row.iloc[:, 132:158].values[0]\n",
    "                    selected_columns_df.at[i, 'visiting_players'] = matching_row.iloc[:, 105:131].values[0]\n",
    "    return selected_columns_df\n",
    "\n",
    "final_df = add_player_names(process_dataframes(xlsx_dataframes), txt_dataframes)\n",
    "print(final_df)\n",
    "\n",
    "\n",
    "\n",
    "\n",
    "\n",
    "\n",
    "\n"
   ]
  },
  {
   "cell_type": "code",
   "execution_count": null,
   "metadata": {},
   "outputs": [
    {
     "ename": "NameError",
     "evalue": "name 'selected_columns_df' is not defined",
     "output_type": "error",
     "traceback": [
      "\u001b[1;31m---------------------------------------------------------------------------\u001b[0m",
      "\u001b[1;31mNameError\u001b[0m                                 Traceback (most recent call last)",
      "\u001b[1;32mc:\\Users\\vile3\\.cursor-tutor\\projects\\python\\Grabber.ipynb Cell 4\u001b[0m line \u001b[0;36m1\n\u001b[1;32m----> <a href='vscode-notebook-cell:/c%3A/Users/vile3/.cursor-tutor/projects/python/Grabber.ipynb#W3sZmlsZQ%3D%3D?line=0'>1</a>\u001b[0m \u001b[39mprint\u001b[39m(selected_columns_df)\n",
      "\u001b[1;31mNameError\u001b[0m: name 'selected_columns_df' is not defined"
     ]
    }
   ],
   "source": [
    "print(selected_columns_df)"
   ]
  },
  {
   "cell_type": "code",
   "execution_count": null,
   "metadata": {},
   "outputs": [
    {
     "ename": "SyntaxError",
     "evalue": "invalid syntax (37427434.py, line 1)",
     "output_type": "error",
     "traceback": [
      "\u001b[1;36m  Cell \u001b[1;32mIn[6], line 1\u001b[1;36m\u001b[0m\n\u001b[1;33m    $ git config --global user.name \"John Doe\"\u001b[0m\n\u001b[1;37m    ^\u001b[0m\n\u001b[1;31mSyntaxError\u001b[0m\u001b[1;31m:\u001b[0m invalid syntax\n"
     ]
    }
   ],
   "source": []
  }
 ],
 "metadata": {
  "kernelspec": {
   "display_name": "Python 3",
   "language": "python",
   "name": "python3"
  },
  "language_info": {
   "codemirror_mode": {
    "name": "ipython",
    "version": 3
   },
   "file_extension": ".py",
   "mimetype": "text/x-python",
   "name": "python",
   "nbconvert_exporter": "python",
   "pygments_lexer": "ipython3",
   "version": "3.9.1"
  },
  "orig_nbformat": 4
 },
 "nbformat": 4,
 "nbformat_minor": 2
}
