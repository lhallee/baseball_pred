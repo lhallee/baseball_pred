{
 "cells": [
  {
   "cell_type": "markdown",
   "metadata": {},
   "source": [
    "# Imports"
   ]
  },
  {
   "cell_type": "code",
   "execution_count": 238,
   "metadata": {},
   "outputs": [],
   "source": [
    "import pandas as pd\n",
    "import glob\n",
    "import os\n",
    "import numpy as np\n",
    "from featureranker.utils import *\n",
    "from featureranker.plots import *\n",
    "from featureranker.rankers import *\n",
    "from tqdm.auto import tqdm\n",
    "import pickle\n",
    "import torch\n",
    "import torch.nn as nn\n",
    "import torch.optim as optim\n",
    "import matplotlib.pyplot as plt\n",
    "from glob import glob\n",
    "from sklearn.preprocessing import LabelEncoder\n",
    "from sklearn import svm\n",
    "from sklearn.metrics import confusion_matrix, accuracy_score, classification_report, ConfusionMatrixDisplay\n",
    "from sklearn.preprocessing import StandardScaler\n",
    "from imblearn.under_sampling import RandomUnderSampler\n",
    "from imblearn.over_sampling import SMOTE\n",
    "from torch.utils.data import Dataset, DataLoader\n",
    "\n",
    "import warnings\n",
    "warnings.filterwarnings('ignore')"
   ]
  },
  {
   "cell_type": "markdown",
   "metadata": {},
   "source": [
    "# Functions"
   ]
  },
  {
   "cell_type": "code",
   "execution_count": 239,
   "metadata": {},
   "outputs": [],
   "source": [
    "def check_missing_players(player_list, player_data):\n",
    "    missing_players = []\n",
    "    for game in player_list:\n",
    "        for team in game:\n",
    "            for player in team:\n",
    "                if player.lower() not in player_data:\n",
    "                    missing_players.append(player)\n",
    "    return missing_players\n",
    "\n",
    "\n",
    "def get_names(df, start, stop):\n",
    "    player_list = []\n",
    "    drop_list = df.iloc[:, start:stop:3].columns.tolist()\n",
    "    name_df = df.drop(drop_list, axis=1, inplace=False)\n",
    "    name_df = name_df.iloc[:, start:stop-len(drop_list)]\n",
    "    for i in range(len(name_df)):\n",
    "        players = name_df.iloc[i].tolist()\n",
    "        players_sorted = [players[j] for j in range(0, len(players), 2)]\n",
    "        players_sorted.sort(key=lambda x: players[players.index(x) + 1])\n",
    "        player_list.append(players_sorted)\n",
    "    return player_list\n",
    "\n",
    "\n",
    "def list_stacker(pitchers, players):\n",
    "    for i in range(len(pitchers)):\n",
    "        players[i].insert(0, pitchers[i])\n",
    "    return players\n",
    "\n",
    "\n",
    "def get_game_data(paths):\n",
    "    all_data = []\n",
    "    for i in range(len(paths)):\n",
    "        df = pd.read_csv(paths[i], header=None)\n",
    "        visiting_players = get_names(df, 105, 132)\n",
    "        home_players = get_names(df, 132, 159)\n",
    "        home_pitchers = df.iloc[:, 104].tolist()\n",
    "        visiting_pitchers = df.iloc[:, 102].tolist()\n",
    "        visiting_players = list_stacker(visiting_pitchers, visiting_players)\n",
    "        home_players = list_stacker(home_pitchers, home_players)\n",
    "        visiting_scores = df.iloc[:, 9].tolist()\n",
    "        home_scores = df.iloc[:, 10].tolist()\n",
    "        all_data.extend(list(zip(visiting_players, home_players, visiting_scores, home_scores)))\n",
    "    return all_data\n",
    "\n",
    "\n",
    "def get_player_data(paths):\n",
    "    le = LabelEncoder()\n",
    "    player_dfs = []\n",
    "    for path in paths:\n",
    "        df = pd.read_csv(path)\n",
    "        df['Team'] = le.fit_transform(df['Team'])\n",
    "        if 'Pos' in df.columns:\n",
    "            df['Pos'] = le.fit_transform(df['Pos'])\n",
    "        if 'Batters' not in path:\n",
    "            df['ExtraCol1'] = 0\n",
    "            df['ExtraCol2'] = 0\n",
    "            df['ExtraCol3'] = 0\n",
    "        df.columns = ['Player'] + list(range(len(df.columns) - 1))\n",
    "        df['Player'] = df['Player'].str.lower()\n",
    "        player_dfs.append(df)\n",
    "    combined_player = pd.concat(player_dfs)\n",
    "    combined_player = combined_player.groupby('Player', as_index=False).mean()\n",
    "    final_player = combined_player.set_index('Player').T.to_dict('list')\n",
    "    return final_player\n",
    "\n",
    "\n",
    "def get_example(game, player_data):\n",
    "    visiting_players = game[0]\n",
    "    home_players = game[1]\n",
    "    visiting_vector = [player_data[player.lower()] for player in visiting_players]\n",
    "    home_vector = [player_data[player.lower()] for player in home_players]\n",
    "    stacked_vector = [item for sublist in visiting_vector + home_vector for item in sublist]\n",
    "    if game[2] > game[3]:\n",
    "        label = 0 # might need to flip\n",
    "    else:\n",
    "        label = 1\n",
    "    return stacked_vector, label\n",
    "\n",
    "\n",
    "def generate_vectors_and_labels(game_data, player_data):\n",
    "    vectors, labels = [], []\n",
    "    for game in tqdm(game_data):\n",
    "        try:\n",
    "            vector, label = get_example(game, player_data)\n",
    "            if np.isnan(vector).any() or np.isnan(label):\n",
    "                continue\n",
    "            vectors.append(vector)\n",
    "            labels.append(label)\n",
    "        except:\n",
    "            continue\n",
    "    return pd.DataFrame(np.array(vectors)), pd.DataFrame(np.array(labels))\n",
    "\n",
    "\n",
    "def simulate_betting_season(bets, df, wallet_balance=1000.0):\n",
    "\n",
    "    wallet_balance_history = [wallet_balance]  # Start with the initial wallet balance\n",
    "    for bet in bets:\n",
    "        bet_amount, bet_team, bet_date = bet\n",
    "        row = df[(df['date'] == bet_date) & ((df['home_team'] == bet_team) | (df['visiting_team'] == bet_team))]\n",
    "        if not row.empty and not row.isnull().values.any():\n",
    "            if row['winner'].values[0]==1:\n",
    "                winner = row['home_team'].values[0]\n",
    "                if winner == bet_team:\n",
    "                    if row['home_open'].values[0] > 0:\n",
    "                        wallet_balance += bet_amount * (row['home_open'].values[0] / 100.0)\n",
    "                    else:\n",
    "                        wallet_balance += bet_amount * (100.0 / abs(row['home_open'].values[0]))\n",
    "                else:\n",
    "                    wallet_balance -= bet_amount\n",
    "            else:\n",
    "                winner = row['visiting_team'].values[0]\n",
    "                if winner == bet_team:\n",
    "                    if row['visiting_open'].values[0] > 0:\n",
    "                        wallet_balance += bet_amount * (row['visiting_open'].values[0] / 100.0)\n",
    "                    else:\n",
    "                        wallet_balance += bet_amount * (100.0 / abs(row['visiting_open'].values[0]))\n",
    "                else:\n",
    "                    wallet_balance -= bet_amount\n",
    "            wallet_balance_history.append(wallet_balance)\n",
    "        else:\n",
    "            print(f\"No betting data for date: {bet_date}\")\n",
    "    return wallet_balance, wallet_balance_history\n",
    "\n",
    "\n",
    "def get_player_vector(players, player_data):\n",
    "    return [player_data[player.lower()] for player in players]\n",
    "\n",
    "\n",
    "def predict_game_outcome(player_list, player_data, model, augment=False, base_bet=100, scaler=1):\n",
    "    results, bets, skipped = [], [], []\n",
    "    for i in range(len(player_list)):\n",
    "        try:\n",
    "            visiting_players = player_list.iloc[i][0][0]\n",
    "            home_players = player_list.iloc[i][0][1]\n",
    "            visiting_vector = get_player_vector(visiting_players, player_data)\n",
    "            home_vector = get_player_vector(home_players, player_data)\n",
    "            game_vector = [item for sublist in visiting_vector + home_vector for item in sublist]  # Flatten the vectors\n",
    "            game_vector = torch.tensor([game_vector], dtype=torch.float)\n",
    "            model.eval()\n",
    "            with torch.no_grad():\n",
    "                logits = model(game_vector)\n",
    "                probs = logits.softmax(dim=-1)\n",
    "                _, pred = torch.max(logits, 1)\n",
    "                pred = pred.item()\n",
    "                prob = probs[0][pred].item()\n",
    "            results.append(pred)\n",
    "            bets.append(base_bet * prob * scaler if augment else base_bet)\n",
    "        except:\n",
    "            skipped.append(i)\n",
    "    return results, bets, skipped\n",
    "\n",
    "\n",
    "def generate_bets(results, bets, df, skipped):\n",
    "    final_bets = []\n",
    "    for i, (result, (_, row)) in enumerate(zip(results, df.iterrows())):\n",
    "        if i in skipped:\n",
    "            continue\n",
    "        if result == 1:\n",
    "            bet_team = row['home_team']\n",
    "        else:\n",
    "            bet_team = row['visiting_team']\n",
    "        bet_date = row['date']\n",
    "        final_bets.append((bets[i], bet_team, bet_date))\n",
    "    return final_bets"
   ]
  },
  {
   "cell_type": "markdown",
   "metadata": {},
   "source": [
    "# Data"
   ]
  },
  {
   "cell_type": "code",
   "execution_count": 240,
   "metadata": {},
   "outputs": [
    {
     "name": "stderr",
     "output_type": "stream",
     "text": [
      "100%|██████████| 24296/24296 [00:00<00:00, 63050.78it/s] \n",
      "100%|██████████| 898/898 [00:00<00:00, 33031.52it/s]"
     ]
    },
    {
     "name": "stdout",
     "output_type": "stream",
     "text": [
      "['./game_data/gl2010.txt', './game_data/gl2011.txt', './game_data/gl2012.txt', './game_data/gl2013.txt', './game_data/gl2014.txt', './game_data/gl2015.txt', './game_data/gl2016.txt', './game_data/gl2017.txt', './game_data/gl2018.txt', './game_data/gl2019.txt']\n",
      "['./player_data/mlb-player-stats-Batters_2015.csv', './player_data/mlb-player-stats-Batters_2016.csv', './player_data/mlb-player-stats-Batters_2017.csv', './player_data/mlb-player-stats-Batters_2018.csv', './player_data/mlb-player-stats-Batters_2019.csv', './player_data/mlb-player-stats-P_2015.csv', './player_data/mlb-player-stats-P_2016.csv', './player_data/mlb-player-stats-P_2017.csv', './player_data/mlb-player-stats-P_2018.csv', './player_data/mlb-player-stats-P_2019.csv']\n",
      "['./game_data/gl2020.txt']\n",
      "['./player_data/mlb-player-stats-Batters_2020.csv', './player_data/mlb-player-stats-P_2020.csv']\n",
      "There are no NaN values in the dataset\n",
      "There are no NaN values in the dataset\n",
      "There are no NaN values in the dataset\n",
      "There are no NaN values in the dataset\n",
      "There are no NaN values in the dataset\n",
      "There are no NaN values in the dataset\n",
      "There are no NaN values in the dataset\n",
      "There are no NaN values in the dataset\n",
      "There are no NaN values in the dataset\n",
      "There are no NaN values in the dataset\n",
      "There are no NaN values in the dataset\n",
      "There are no NaN values in the dataset\n",
      "There are no NaN values in the dataset\n",
      "There are no NaN values in the dataset\n",
      "There are no NaN values in the dataset\n",
      "There are no NaN values in the dataset\n",
      "There are no NaN values in the dataset\n",
      "There are no NaN values in the dataset\n"
     ]
    },
    {
     "name": "stderr",
     "output_type": "stream",
     "text": [
      "\n"
     ]
    }
   ],
   "source": [
    "def load_data(game_path, player_path, train_years, test_year):\n",
    "    game_csvs_train = [path.replace('\\\\', '/') for path in glob(game_path + '*.txt') if str(test_year) not in path and any(str(year) in path for year in train_years)]\n",
    "    game_csvs_test = [path.replace('\\\\', '/') for path in glob(game_path + '*.txt') if str(test_year) in path]\n",
    "\n",
    "    player_csvs_train = [path.replace('\\\\', '/') for path in glob(player_path + '*.csv') if str(test_year) not in path and any(str(year) in path for year in train_years)]\n",
    "    player_csvs_test = [path.replace('\\\\', '/') for path in glob(player_path + '*.csv') if str(test_year) in path]\n",
    "\n",
    "    train_game_data = [game for game in get_game_data(game_csvs_train) if game[2] != game[3]]\n",
    "    test_game_data = [game for game in get_game_data(game_csvs_test) if game[2] != game[3]]\n",
    "\n",
    "    train_player_data = get_player_data(player_csvs_train)\n",
    "    test_player_data = get_player_data(player_csvs_test)\n",
    "\n",
    "    X_train, y_train = generate_vectors_and_labels(train_game_data, train_player_data)\n",
    "    X_test, y_test = generate_vectors_and_labels(test_game_data, test_player_data)\n",
    "    print(game_csvs_train)\n",
    "    print(player_csvs_train)\n",
    "    print(game_csvs_test)\n",
    "    print(player_csvs_test)\n",
    "    return X_train, y_train, X_test, y_test, train_game_data, test_game_data, train_player_data, test_player_data\n",
    "\n",
    "# load data\n",
    "game_path = './game_data/'\n",
    "player_path = './player_data/'\n",
    "\n",
    "test_year = 2020\n",
    "train_years = range(2010, test_year) #train years from 2010 to test year -1 for some reason range reduces the year by 1.\n",
    "\n",
    "X_train, y_train, X_test, y_test, train_game_data, test_game_data, train_player_data, test_player_data = load_data(game_path, player_path, train_years, test_year)\n",
    "\n",
    "player_path = './player_data/'\n",
    "paths = [path.replace('\\\\', '/') for path in glob(player_path + '*.csv')]\n",
    "for path in paths:\n",
    "    df = pd.read_csv(path)\n",
    "    view_data(df)\n",
    "\n",
    "xlsx_path = './betting_odds/'\n",
    "txt_path = './alldata/gamelogs/'\n",
    "glfields_path = './alldata/gamelogs/glfields.txt'\n",
    "paths = [path for path in glob(xlsx_path + '*.xlsx')]\n",
    "paths_txt = [f'{txt_path}gl{test_year}.txt']\n",
    "schedule_paths = [f'./alldata/schedules/{year}schedule.csv' for year in range(2010, 2024)]"
   ]
  },
  {
   "cell_type": "code",
   "execution_count": 241,
   "metadata": {},
   "outputs": [
    {
     "name": "stdout",
     "output_type": "stream",
     "text": [
      "['./alldata/gamelogs/gl2020.txt']\n"
     ]
    }
   ],
   "source": [
    "print(paths_txt)"
   ]
  },
  {
   "cell_type": "code",
   "execution_count": null,
   "metadata": {},
   "outputs": [],
   "source": []
  },
  {
   "cell_type": "code",
   "execution_count": null,
   "metadata": {},
   "outputs": [],
   "source": []
  },
  {
   "cell_type": "code",
   "execution_count": 242,
   "metadata": {},
   "outputs": [],
   "source": [
    "\n",
    "\n",
    "# # load data\n",
    "# game_path = './game_data/'\n",
    "# player_path = './player_data/'\n",
    "\n",
    "# game_csvs_train = [path.replace('\\\\', '/') for path in glob(game_path + '*.txt') if '2019' not in path and '2020' not in path and '2021' not in path and '2022' not in path and '2023' not in path]\n",
    "# game_csvs_test = [path.replace('\\\\', '/') for path in glob(game_path + '*.txt') if '2019' in path]\n",
    "\n",
    "# player_csvs_train = [path.replace('\\\\', '/') for path in glob(player_path + '*.csv') if '2019' not in path and '2020' not in path and '2021' not in path and '2022' not in path and '2023' not in path]\n",
    "# player_csvs_test = [path.replace('\\\\', '/') for path in glob(player_path + '*.csv') if '2019' in path]\n",
    "\n",
    "# train_game_data = [game for game in get_game_data(game_csvs_train) if game[2] != game[3]]\n",
    "# test_game_data = [game for game in get_game_data(game_csvs_test) if game[2] != game[3]]\n",
    "\n",
    "# train_player_data = get_player_data(player_csvs_train)\n",
    "# test_player_data = get_player_data(player_csvs_test)\n",
    "\n",
    "# X_train, y_train = generate_vectors_and_labels(train_game_data, train_player_data)\n",
    "# X_test, y_test = generate_vectors_and_labels(test_game_data, test_player_data)"
   ]
  },
  {
   "cell_type": "code",
   "execution_count": null,
   "metadata": {},
   "outputs": [],
   "source": []
  },
  {
   "cell_type": "code",
   "execution_count": 243,
   "metadata": {},
   "outputs": [
    {
     "name": "stdout",
     "output_type": "stream",
     "text": [
      "           date home_team visiting_team  home_open  visiting_open\n",
      "0      20100404       BOS           NYY       -114           -106\n",
      "1      20100405       WAS           PHI        170           -200\n",
      "2      20100405       NYM           MIA       -115           -105\n",
      "3      20100405       CIN           STL        135           -155\n",
      "4      20100405       PIT           LOS        135           -155\n",
      "...         ...       ...           ...        ...            ...\n",
      "28001  20211027       HOU           ATL       -115           -105\n",
      "28002  20211029       ATL           HOU       -115           -105\n",
      "28003  20211030       ATL           HOU       -115           -105\n",
      "28004  20211031       ATL           HOU       -105           -115\n",
      "28005  20211102       HOU           ATL       -120            100\n",
      "\n",
      "[28006 rows x 5 columns]\n"
     ]
    }
   ],
   "source": [
    "xlsx_dataframes = []\n",
    "for i, path in enumerate(paths):\n",
    "    temp_df = pd.read_excel(path, skiprows=0 if i > 0 else 0)\n",
    "    temp_df.columns = temp_df.columns.str.replace('[^a-zA-Z0-9]', '')\n",
    "    year = path[-9:-5]  # extract year from file name\n",
    "    if 'Date' in temp_df.columns:\n",
    "        temp_df['Date'] = year + temp_df['Date'].astype(str).str.zfill(4)  # format date as yyyymmdd\n",
    "    xlsx_dataframes.append(temp_df)\n",
    "\n",
    "try:\n",
    "    xlsx_dataframes = pd.concat(xlsx_dataframes, ignore_index=True)\n",
    "except pd.errors.InvalidIndexError:\n",
    "    print('Error: Reindexing only valid with uniquely valued Index objects')\n",
    "\n",
    "with open(glfields_path, 'r') as file:\n",
    "    glfields_data = file.read()\n",
    "\n",
    "xlsx_dataframes = xlsx_dataframes[['Date', 'VH', 'Team', 'Open']]\n",
    "home_teams_df = xlsx_dataframes[xlsx_dataframes['VH'] == 'H'].copy()\n",
    "visiting_teams_df = xlsx_dataframes[xlsx_dataframes['VH'] == 'V'].copy()\n",
    "\n",
    "home_teams_df.rename(columns={'Date': 'date', 'Team': 'home_team', 'Open': 'home_open'}, inplace=True)\n",
    "visiting_teams_df.rename(columns={'Date': 'date', 'Team': 'visiting_team', 'Open': 'visiting_open'}, inplace=True)\n",
    "\n",
    "# Merge on 'date'\n",
    "xlsx_dataframes = pd.concat([home_teams_df.reset_index(drop=True), visiting_teams_df.reset_index(drop=True)], axis=1)\n",
    "xlsx_dataframes = xlsx_dataframes.loc[:,~xlsx_dataframes.columns.duplicated()]\n",
    "xlsx_dataframes = xlsx_dataframes[['date', 'home_team', 'visiting_team','home_open','visiting_open']]\n",
    "print(xlsx_dataframes)\n",
    "headers = [\n",
    "    \"date\",\n",
    "    \"number_of_game\",\n",
    "    \"day_of_week\",\n",
    "    \"visiting_team\",\n",
    "    \"visiting_team_league\",\n",
    "    \"visiting_team_game_number\",\n",
    "    \"home_team\",\n",
    "    \"home_team_league\",\n",
    "    \"home_team_game_number\",\n",
    "    \"visiting_team_score\",\n",
    "    \"home_team_score\",\n",
    "    \"length_of_game_in_outs\",\n",
    "    \"day_night_indicator\",\n",
    "    \"completion_information\",\n",
    "    \"forfeit_information\",\n",
    "    \"protest_information\",\n",
    "    \"park_id\",\n",
    "    \"attendance\",\n",
    "    \"time_of_game_in_minutes\",\n",
    "    \"visiting_team_line_scores\",\n",
    "    \"home_team_line_scores\",\n",
    "    \"visiting_team_at_bats\",\n",
    "    \"visiting_team_hits\",\n",
    "    \"visiting_team_doubles\",\n",
    "    \"visiting_team_triples\",\n",
    "    \"visiting_team_homeruns\",\n",
    "    \"visiting_team_RBI\",\n",
    "    \"visiting_team_sacrifice_hits\",\n",
    "    \"visiting_team_sacrifice_flies\",\n",
    "    \"visiting_team_hit_by_pitch\",\n",
    "    \"visiting_team_walks\",\n",
    "    \"visiting_team_intentional_walks\",\n",
    "    \"visiting_team_strikeouts\",\n",
    "    \"visiting_team_stolen_bases\",\n",
    "    \"visiting_team_caught_stealing\",\n",
    "    \"visiting_team_grounded_into_double_plays\",\n",
    "    \"visiting_team_awarded_first_on_catchers_interference\",\n",
    "    \"visiting_team_left_on_base\",\n",
    "    \"visiting_team_pitchers_used\",\n",
    "    \"visiting_team_individual_earned_runs\",\n",
    "    \"visiting_team_team_earned_runs\",\n",
    "    \"visiting_team_wild_pitches\",\n",
    "    \"visiting_team_balks\",\n",
    "    \"visiting_team_putouts\",\n",
    "    \"visiting_team_assists\",\n",
    "    \"visiting_team_errors\",\n",
    "    \"visiting_team_passed_balls\",\n",
    "    \"visiting_team_double_plays\",\n",
    "    \"visiting_team_triple_plays\",\n",
    "    \"home_team_at_bats\",\n",
    "    \"home_team_hits\",\n",
    "    \"home_team_doubles\",\n",
    "    \"home_team_triples\",\n",
    "    \"home_team_homeruns\",\n",
    "    \"home_team_RBI\",\n",
    "    \"home_team_sacrifice_hits\",\n",
    "    \"home_team_sacrifice_flies\",\n",
    "    \"home_team_hit_by_pitch\",\n",
    "    \"home_team_walks\",\n",
    "    \"home_team_intentional_walks\",\n",
    "    \"home_team_strikeouts\",\n",
    "    \"home_team_stolen_bases\",\n",
    "    \"home_team_caught_stealing\",\n",
    "    \"home_team_grounded_into_double_plays\",\n",
    "    \"home_team_awarded_first_on_catchers_interference\",\n",
    "    \"home_team_left_on_base\",\n",
    "    \"home_team_pitchers_used\",\n",
    "    \"home_team_individual_earned_runs\",\n",
    "    \"home_team_team_earned_runs\",\n",
    "    \"home_team_wild_pitches\",\n",
    "    \"home_team_balks\",\n",
    "    \"home_team_putouts\",\n",
    "    \"home_team_assists\",\n",
    "    \"home_team_errors\",\n",
    "    \"home_team_passed_balls\",\n",
    "    \"home_team_double_plays\",\n",
    "    \"home_team_triple_plays\",\n",
    "    \"home_plate_umpire_id\",\n",
    "    \"home_plate_umpire_name\",\n",
    "    \"first_base_umpire_id\",\n",
    "    \"first_base_umpire_name\",\n",
    "    \"second_base_umpire_id\",\n",
    "    \"second_base_umpire_name\",\n",
    "    \"third_base_umpire_id\",\n",
    "    \"third_base_umpire_name\",\n",
    "    \"left_field_umpire_id\",\n",
    "    \"left_field_umpire_name\",\n",
    "    \"right_field_umpire_id\",\n",
    "    \"right_field_umpire_name\",\n",
    "    \"visiting_team_manager_id\",\n",
    "    \"visiting_team_manager_name\",\n",
    "    \"home_team_manager_id\",\n",
    "    \"home_team_manager_name\",\n",
    "    \"winning_pitcher_id\",\n",
    "    \"winning_pitcher_name\",\n",
    "    \"losing_pitcher_id\",\n",
    "    \"losing_pitcher_name\",\n",
    "    \"saving_pitcher_id\",\n",
    "    \"saving_pitcher_name\",\n",
    "    \"game_winning_rbi_batter_id\",\n",
    "    \"game_winning_rbi_batter_name\",\n",
    "    \"visiting_starting_pitcher_id\",\n",
    "    \"visiting_starting_pitcher_name\",\n",
    "    \"home_starting_pitcher_id\",\n",
    "    \"home_starting_pitcher_name\",\n",
    "]\n",
    "for i in range(1, 10):\n",
    "    headers.extend([\n",
    "        f\"visiting_starting_player_{i}_id\",\n",
    "        f\"visiting_starting_player_{i}_name\",\n",
    "        f\"visiting_starting_player_{i}_defensive_position\"\n",
    "    ])\n",
    "\n",
    "for i in range(1, 10):\n",
    "    headers.extend([\n",
    "        f\"home_starting_player_{i}_id\",\n",
    "        f\"home_starting_player_{i}_name\",\n",
    "        f\"home_starting_player_{i}_defensive_position\"\n",
    "    ])\n",
    "\n",
    "headers.extend([\"additional_information\", \"acquisition_information\"])\n",
    "\n",
    "txt_dataframes = []\n",
    "for path_txt in paths_txt:\n",
    "    df = pd.read_csv(path_txt, delimiter = \",\", quotechar='\"', quoting=1, header = None)\n",
    "    df.columns = headers\n",
    "    txt_dataframes.append(df)\n",
    "    # view_data(df)\n",
    "# txt_dataframes = txt_dataframes.replace({',': '', '\\\"': ''}, regex=True)\n",
    "# If you want to view the file in Excel, uncomment the following line\n",
    "# os.startfile(xlsx_files[0])\n",
    "# Concatenate all dataframes in txt_dataframes into a single dataframe\n",
    "txt_dataframes_concat = pd.concat(txt_dataframes)\n",
    "\n",
    "# Determine the winning team for each game and add it as a new column 'winner'\n",
    "txt_dataframes_concat['winner'] = txt_dataframes_concat.apply(lambda row: 1 if row[\"home_team_score\"] > row[\"visiting_team_score\"] else 2 if row[\"home_team_score\"] == row[\"visiting_team_score\"] else 0, axis=1)\n",
    "\n",
    "# Drop all columns except for the visiting and home pitchers, starting players, home_team, visiting_team, date, coach, and winner\n",
    "# txt_dataframes_concat = txt_dataframes_concat[['date', 'home_team', 'visiting_team', 'home_starting_pitcher_name', 'visiting_starting_pitcher_name', \n",
    "#                                               'home_starting_player_1_name', 'home_starting_player_2_name', 'home_starting_player_3_name', \n",
    "#                                               'home_starting_player_4_name', 'home_starting_player_5_name', 'home_starting_player_6_name', \n",
    "#                                               'home_starting_player_7_name', 'home_starting_player_8_name', 'home_starting_player_9_name', \n",
    "#                                               'visiting_starting_player_1_name', 'visiting_starting_player_2_name', 'visiting_starting_player_3_name', \n",
    "#                                               'visiting_starting_player_4_name', 'visiting_starting_player_5_name', 'visiting_starting_player_6_name', \n",
    "#                                               'visiting_starting_player_7_name', 'visiting_starting_player_8_name', 'visiting_starting_player_9_name',\n",
    "#                                               'home_team_score','visiting_team_score','winner']]\n",
    "txt_dataframes_concat = txt_dataframes_concat[['date', 'home_team', 'visiting_team', 'home_starting_pitcher_name', 'visiting_starting_pitcher_name', \n",
    "                                              'home_starting_player_1_name', 'home_starting_player_2_name', 'home_starting_player_3_name', \n",
    "                                              'home_starting_player_4_name', 'home_starting_player_5_name', 'home_starting_player_6_name', \n",
    "                                              'home_starting_player_7_name', 'home_starting_player_8_name', 'home_starting_player_9_name', \n",
    "                                              'visiting_starting_player_1_name', 'visiting_starting_player_2_name', 'visiting_starting_player_3_name', \n",
    "                                              'visiting_starting_player_4_name', 'visiting_starting_player_5_name', 'visiting_starting_player_6_name', \n",
    "                                              'visiting_starting_player_7_name', 'visiting_starting_player_8_name', 'visiting_starting_player_9_name',\n",
    "                                              'winner']]\n",
    "\n",
    "xlsx_dataframes['date'] = xlsx_dataframes['date'].astype(int)\n",
    "txt_dataframes_concat['date'] = txt_dataframes_concat['date']\n",
    "# Now perform the merge operation\n",
    "merged_dataframes = pd.merge(xlsx_dataframes, txt_dataframes_concat, on=['date', 'home_team', 'visiting_team'])\n",
    "merged_dataframes_full = pd.merge(txt_dataframes_concat,xlsx_dataframes, on=['date', 'home_team', 'visiting_team'],how=\"left\")\n",
    "\n",
    "# Now, merged_data should only contain bets on actual games played\n",
    "\n",
    "player_list_concat = pd.concat(txt_dataframes)\n",
    "player_list_concat = player_list_concat[['date', 'home_team', 'visiting_team', 'home_starting_pitcher_name', 'visiting_starting_pitcher_name', \n",
    "                                              'home_starting_player_1_name', 'home_starting_player_2_name', 'home_starting_player_3_name', \n",
    "                                              'home_starting_player_4_name', 'home_starting_player_5_name', 'home_starting_player_6_name', \n",
    "                                              'home_starting_player_7_name', 'home_starting_player_8_name', 'home_starting_player_9_name', \n",
    "                                              'visiting_starting_player_1_name', 'visiting_starting_player_2_name', 'visiting_starting_player_3_name', \n",
    "                                              'visiting_starting_player_4_name', 'visiting_starting_player_5_name', 'visiting_starting_player_6_name', \n",
    "                                              'visiting_starting_player_7_name', 'visiting_starting_player_8_name', 'visiting_starting_player_9_name',\n",
    "                                              'home_team_score','visiting_team_score',\n",
    "                                              'home_starting_player_1_defensive_position', 'home_starting_player_2_defensive_position', \n",
    "                                              'home_starting_player_3_defensive_position', 'home_starting_player_4_defensive_position', \n",
    "                                              'home_starting_player_5_defensive_position', 'home_starting_player_6_defensive_position', \n",
    "                                              'home_starting_player_7_defensive_position', 'home_starting_player_8_defensive_position', \n",
    "                                              'home_starting_player_9_defensive_position', 'visiting_starting_player_1_defensive_position', \n",
    "                                              'visiting_starting_player_2_defensive_position', 'visiting_starting_player_3_defensive_position', \n",
    "                                              'visiting_starting_player_4_defensive_position', 'visiting_starting_player_5_defensive_position', \n",
    "                                              'visiting_starting_player_6_defensive_position', 'visiting_starting_player_7_defensive_position', \n",
    "                                              'visiting_starting_player_8_defensive_position', 'visiting_starting_player_9_defensive_position']]\n",
    "\n",
    "player_list_concat['lineup'] = player_list_concat.apply(lambda row: [\n",
    "    (\n",
    "        (row['visiting_starting_pitcher_name'],) +\n",
    "        tuple(row[f'visiting_starting_player_{i}_name'] for i in sorted(range(1, 10), key=lambda i: row[f'visiting_starting_player_{i}_defensive_position']))\n",
    "    ),\n",
    "    (\n",
    "        (row['home_starting_pitcher_name'],) +\n",
    "        tuple(row[f'home_starting_player_{i}_name'] for i in sorted(range(1, 10), key=lambda i: row[f'home_starting_player_{i}_defensive_position']))\n",
    "    ),\n",
    "    # row['visiting_team_score'],\n",
    "    # row['home_team_score']\n",
    "], axis=1).tolist()\n",
    "\n",
    "merged_player_dataframe = pd.merge(xlsx_dataframes, player_list_concat, on=['date', 'home_team', 'visiting_team'])"
   ]
  },
  {
   "cell_type": "code",
   "execution_count": 244,
   "metadata": {},
   "outputs": [],
   "source": [
    "# xlsx_dataframes.to_csv('output.csv', index=False)"
   ]
  },
  {
   "cell_type": "code",
   "execution_count": 245,
   "metadata": {},
   "outputs": [],
   "source": [
    "# print(merged_player_dataframe['lineup'])"
   ]
  },
  {
   "cell_type": "markdown",
   "metadata": {},
   "source": [
    "# NN"
   ]
  },
  {
   "cell_type": "code",
   "execution_count": 246,
   "metadata": {},
   "outputs": [
    {
     "data": {
      "text/plain": [
       "neural_net(\n",
       "  (gelu): GELU(approximate='none')\n",
       "  (dropout): Dropout(p=0.15, inplace=False)\n",
       "  (input_layer): Linear(in_features=440, out_features=880, bias=True)\n",
       "  (hidden_layers): ModuleList(\n",
       "    (0-1): 2 x Linear(in_features=880, out_features=880, bias=True)\n",
       "  )\n",
       "  (output_layer): Linear(in_features=880, out_features=2, bias=True)\n",
       ")"
      ]
     },
     "execution_count": 246,
     "metadata": {},
     "output_type": "execute_result"
    }
   ],
   "source": [
    "class vector_dataset(Dataset):\n",
    "    def __init__(self, X, y):\n",
    "        self.X = np.array(X)\n",
    "        self.y = np.array(y)\n",
    "\n",
    "    def __len__(self):\n",
    "        return len(self.y)\n",
    "    \n",
    "    def __getitem__(self, idx):\n",
    "        vec = torch.tensor(self.X[idx], dtype=torch.float)\n",
    "        label = torch.tensor(self.y[idx], dtype=torch.long)\n",
    "        return vec, label\n",
    "\n",
    "\n",
    "class neural_net(nn.Module):\n",
    "    def __init__(self, input_size, hidden_size, hidden_num, output_size, dropout_rate):\n",
    "        super(neural_net, self).__init__()\n",
    "        self.gelu = nn.GELU()\n",
    "        self.dropout = nn.Dropout(dropout_rate)\n",
    "        self.hidden_num = hidden_num\n",
    "        self.input_layer = nn.Linear(input_size, hidden_size)\n",
    "        self.hidden_layers = nn.ModuleList()\n",
    "        for i in range(hidden_num):\n",
    "            self.hidden_layers.append(nn.Linear(hidden_size, hidden_size))\n",
    "        self.output_layer = nn.Linear(hidden_size, output_size)\n",
    "\n",
    "    def forward(self, x):\n",
    "        x = self.gelu(self.input_layer(x))\n",
    "        x = self.dropout(x)\n",
    "        for i in range(self.hidden_num):\n",
    "            x = self.gelu(self.hidden_layers[i](x))\n",
    "            x = self.dropout(x)\n",
    "        x = self.output_layer(x)\n",
    "        return x\n",
    "\n",
    "model = neural_net(X_train.shape[1], X_train.shape[1]*2, 2, 2, 0.15)\n",
    "model"
   ]
  },
  {
   "cell_type": "code",
   "execution_count": 247,
   "metadata": {},
   "outputs": [],
   "source": [
    "train_dataset = vector_dataset(X_train, y_train)\n",
    "test_dataset = vector_dataset(X_test, y_test)\n",
    "\n",
    "train_loader = DataLoader(train_dataset, batch_size=64, shuffle=True)\n",
    "test_loader = DataLoader(test_dataset, batch_size=64, shuffle=False)\n",
    "\n",
    "optimizer = optim.Adam(model.parameters(), lr=0.0005)\n",
    "criterion = nn.CrossEntropyLoss()"
   ]
  },
  {
   "cell_type": "code",
   "execution_count": 248,
   "metadata": {},
   "outputs": [
    {
     "name": "stderr",
     "output_type": "stream",
     "text": [
      "Epoch 1: 100%|██████████| 168/168 [00:02<00:00, 73.24it/s]\n"
     ]
    },
    {
     "name": "stdout",
     "output_type": "stream",
     "text": [
      "Training Loss: 1.0653244228590102\n",
      "Validation Loss: 0.6854238311449686\n"
     ]
    },
    {
     "name": "stderr",
     "output_type": "stream",
     "text": [
      "Epoch 2: 100%|██████████| 168/168 [00:02<00:00, 75.33it/s]\n"
     ]
    },
    {
     "name": "stdout",
     "output_type": "stream",
     "text": [
      "Training Loss: 0.6972470336726734\n",
      "Validation Loss: 0.6859959363937378\n"
     ]
    },
    {
     "name": "stderr",
     "output_type": "stream",
     "text": [
      "Epoch 3: 100%|██████████| 168/168 [00:02<00:00, 75.10it/s]\n"
     ]
    },
    {
     "name": "stdout",
     "output_type": "stream",
     "text": [
      "Training Loss: 0.693287023476192\n",
      "Validation Loss: 0.6836270689964294\n"
     ]
    },
    {
     "name": "stderr",
     "output_type": "stream",
     "text": [
      "Epoch 4: 100%|██████████| 168/168 [00:02<00:00, 73.55it/s]\n"
     ]
    },
    {
     "name": "stdout",
     "output_type": "stream",
     "text": [
      "Training Loss: 0.6849165629772913\n",
      "Validation Loss: 0.6866754045089086\n"
     ]
    },
    {
     "name": "stderr",
     "output_type": "stream",
     "text": [
      "Epoch 5: 100%|██████████| 168/168 [00:02<00:00, 74.02it/s]\n"
     ]
    },
    {
     "name": "stdout",
     "output_type": "stream",
     "text": [
      "Training Loss: 0.6845546907612255\n",
      "Validation Loss: 0.6803412834803263\n"
     ]
    },
    {
     "name": "stderr",
     "output_type": "stream",
     "text": [
      "Epoch 6: 100%|██████████| 168/168 [00:02<00:00, 76.48it/s]\n"
     ]
    },
    {
     "name": "stdout",
     "output_type": "stream",
     "text": [
      "Training Loss: 0.682913906517483\n",
      "Validation Loss: 0.677610511581103\n"
     ]
    },
    {
     "name": "stderr",
     "output_type": "stream",
     "text": [
      "Epoch 7: 100%|██████████| 168/168 [00:02<00:00, 75.73it/s]\n"
     ]
    },
    {
     "name": "stdout",
     "output_type": "stream",
     "text": [
      "Training Loss: 0.6820146182463283\n",
      "Validation Loss: 0.6795714199542999\n"
     ]
    },
    {
     "name": "stderr",
     "output_type": "stream",
     "text": [
      "Epoch 8: 100%|██████████| 168/168 [00:02<00:00, 75.68it/s]\n"
     ]
    },
    {
     "name": "stdout",
     "output_type": "stream",
     "text": [
      "Training Loss: 0.6793572654326757\n",
      "Validation Loss: 0.6763610392808914\n"
     ]
    },
    {
     "name": "stderr",
     "output_type": "stream",
     "text": [
      "Epoch 9: 100%|██████████| 168/168 [00:02<00:00, 75.02it/s]\n"
     ]
    },
    {
     "name": "stdout",
     "output_type": "stream",
     "text": [
      "Training Loss: 0.6793291036571775\n",
      "Validation Loss: 0.6777396698792776\n"
     ]
    },
    {
     "name": "stderr",
     "output_type": "stream",
     "text": [
      "Epoch 10: 100%|██████████| 168/168 [00:02<00:00, 75.17it/s]\n"
     ]
    },
    {
     "name": "stdout",
     "output_type": "stream",
     "text": [
      "Training Loss: 0.6789706299702326\n",
      "Validation Loss: 0.6773988008499146\n"
     ]
    },
    {
     "name": "stderr",
     "output_type": "stream",
     "text": [
      "Epoch 11: 100%|██████████| 168/168 [00:02<00:00, 76.05it/s]\n"
     ]
    },
    {
     "name": "stdout",
     "output_type": "stream",
     "text": [
      "Training Loss: 0.6772297830099151\n",
      "Validation Loss: 0.67851655681928\n"
     ]
    },
    {
     "name": "stderr",
     "output_type": "stream",
     "text": [
      "Epoch 12: 100%|██████████| 168/168 [00:02<00:00, 75.13it/s]\n"
     ]
    },
    {
     "name": "stdout",
     "output_type": "stream",
     "text": [
      "Training Loss: 0.6754101138739359\n",
      "Validation Loss: 0.6809193591276804\n"
     ]
    },
    {
     "name": "stderr",
     "output_type": "stream",
     "text": [
      "Epoch 13: 100%|██████████| 168/168 [00:02<00:00, 76.43it/s]\n"
     ]
    },
    {
     "name": "stdout",
     "output_type": "stream",
     "text": [
      "Training Loss: 0.6760496291376296\n",
      "Validation Loss: 0.6817819674809774\n"
     ]
    },
    {
     "name": "stderr",
     "output_type": "stream",
     "text": [
      "Epoch 14: 100%|██████████| 168/168 [00:02<00:00, 75.34it/s]\n"
     ]
    },
    {
     "name": "stdout",
     "output_type": "stream",
     "text": [
      "Training Loss: 0.6762739111270223\n",
      "Validation Loss: 0.6772788564364115\n"
     ]
    },
    {
     "name": "stderr",
     "output_type": "stream",
     "text": [
      "Epoch 15: 100%|██████████| 168/168 [00:02<00:00, 76.20it/s]\n"
     ]
    },
    {
     "name": "stdout",
     "output_type": "stream",
     "text": [
      "Training Loss: 0.674716017430737\n",
      "Validation Loss: 0.6769538223743439\n"
     ]
    },
    {
     "name": "stderr",
     "output_type": "stream",
     "text": [
      "Epoch 16: 100%|██████████| 168/168 [00:02<00:00, 76.11it/s]\n"
     ]
    },
    {
     "name": "stdout",
     "output_type": "stream",
     "text": [
      "Training Loss: 0.6744574262272744\n",
      "Validation Loss: 0.675863727927208\n"
     ]
    },
    {
     "name": "stderr",
     "output_type": "stream",
     "text": [
      "Epoch 17: 100%|██████████| 168/168 [00:02<00:00, 74.72it/s]\n"
     ]
    },
    {
     "name": "stdout",
     "output_type": "stream",
     "text": [
      "Training Loss: 0.6755218757759958\n",
      "Validation Loss: 0.6752290378014246\n"
     ]
    },
    {
     "name": "stderr",
     "output_type": "stream",
     "text": [
      "Epoch 18: 100%|██████████| 168/168 [00:02<00:00, 76.72it/s]\n"
     ]
    },
    {
     "name": "stdout",
     "output_type": "stream",
     "text": [
      "Training Loss: 0.6717520895458403\n",
      "Validation Loss: 0.6786885062853495\n"
     ]
    },
    {
     "name": "stderr",
     "output_type": "stream",
     "text": [
      "Epoch 19: 100%|██████████| 168/168 [00:02<00:00, 76.90it/s]\n"
     ]
    },
    {
     "name": "stdout",
     "output_type": "stream",
     "text": [
      "Training Loss: 0.6729476866977555\n",
      "Validation Loss: 0.6784486373265585\n"
     ]
    },
    {
     "name": "stderr",
     "output_type": "stream",
     "text": [
      "Epoch 20: 100%|██████████| 168/168 [00:02<00:00, 76.30it/s]\n"
     ]
    },
    {
     "name": "stdout",
     "output_type": "stream",
     "text": [
      "Training Loss: 0.671142208079497\n",
      "Validation Loss: 0.6782841781775156\n"
     ]
    },
    {
     "name": "stderr",
     "output_type": "stream",
     "text": [
      "Epoch 21: 100%|██████████| 168/168 [00:02<00:00, 73.30it/s]\n"
     ]
    },
    {
     "name": "stdout",
     "output_type": "stream",
     "text": [
      "Training Loss: 0.6717850725565638\n",
      "Validation Loss: 0.672850156823794\n"
     ]
    },
    {
     "name": "stderr",
     "output_type": "stream",
     "text": [
      "Epoch 22: 100%|██████████| 168/168 [00:02<00:00, 75.75it/s]\n"
     ]
    },
    {
     "name": "stdout",
     "output_type": "stream",
     "text": [
      "Training Loss: 0.6695296512473197\n",
      "Validation Loss: 0.7406510810057322\n"
     ]
    },
    {
     "name": "stderr",
     "output_type": "stream",
     "text": [
      "Epoch 23: 100%|██████████| 168/168 [00:02<00:00, 75.94it/s]\n"
     ]
    },
    {
     "name": "stdout",
     "output_type": "stream",
     "text": [
      "Training Loss: 0.6724859472541582\n",
      "Validation Loss: 0.673809751868248\n"
     ]
    },
    {
     "name": "stderr",
     "output_type": "stream",
     "text": [
      "Epoch 24: 100%|██████████| 168/168 [00:02<00:00, 73.34it/s]\n"
     ]
    },
    {
     "name": "stdout",
     "output_type": "stream",
     "text": [
      "Training Loss: 0.670562489756516\n",
      "Validation Loss: 0.6757455219825109\n"
     ]
    },
    {
     "name": "stderr",
     "output_type": "stream",
     "text": [
      "Epoch 25: 100%|██████████| 168/168 [00:02<00:00, 73.58it/s]\n"
     ]
    },
    {
     "name": "stdout",
     "output_type": "stream",
     "text": [
      "Training Loss: 0.6665407021840414\n",
      "Validation Loss: 0.6724607547124227\n"
     ]
    },
    {
     "name": "stderr",
     "output_type": "stream",
     "text": [
      "Epoch 26: 100%|██████████| 168/168 [00:02<00:00, 72.31it/s]\n"
     ]
    },
    {
     "name": "stdout",
     "output_type": "stream",
     "text": [
      "Training Loss: 0.6685930894953864\n",
      "Validation Loss: 0.675990159312884\n"
     ]
    },
    {
     "name": "stderr",
     "output_type": "stream",
     "text": [
      "Epoch 27: 100%|██████████| 168/168 [00:02<00:00, 74.66it/s]\n"
     ]
    },
    {
     "name": "stdout",
     "output_type": "stream",
     "text": [
      "Training Loss: 0.6655755284286681\n",
      "Validation Loss: 0.6737957149744034\n"
     ]
    },
    {
     "name": "stderr",
     "output_type": "stream",
     "text": [
      "Epoch 28: 100%|██████████| 168/168 [00:02<00:00, 75.94it/s]\n"
     ]
    },
    {
     "name": "stdout",
     "output_type": "stream",
     "text": [
      "Training Loss: 0.6656169015027228\n",
      "Validation Loss: 0.6877917051315308\n"
     ]
    },
    {
     "name": "stderr",
     "output_type": "stream",
     "text": [
      "Epoch 29: 100%|██████████| 168/168 [00:02<00:00, 78.36it/s]\n"
     ]
    },
    {
     "name": "stdout",
     "output_type": "stream",
     "text": [
      "Training Loss: 0.6701742105540776\n",
      "Validation Loss: 0.6943445056676865\n"
     ]
    },
    {
     "name": "stderr",
     "output_type": "stream",
     "text": [
      "Epoch 30: 100%|██████████| 168/168 [00:02<00:00, 74.31it/s]\n"
     ]
    },
    {
     "name": "stdout",
     "output_type": "stream",
     "text": [
      "Training Loss: 0.6660807849395842\n",
      "Validation Loss: 0.686706339319547\n"
     ]
    },
    {
     "name": "stderr",
     "output_type": "stream",
     "text": [
      "Epoch 31: 100%|██████████| 168/168 [00:02<00:00, 70.04it/s]\n"
     ]
    },
    {
     "name": "stdout",
     "output_type": "stream",
     "text": [
      "Training Loss: 0.6663440916509855\n",
      "Validation Loss: 0.6794390728076299\n"
     ]
    },
    {
     "name": "stderr",
     "output_type": "stream",
     "text": [
      "Epoch 32: 100%|██████████| 168/168 [00:02<00:00, 75.82it/s]\n"
     ]
    },
    {
     "name": "stdout",
     "output_type": "stream",
     "text": [
      "Training Loss: 0.6644447382007327\n",
      "Validation Loss: 0.6791594823201498\n"
     ]
    },
    {
     "name": "stderr",
     "output_type": "stream",
     "text": [
      "Epoch 33: 100%|██████████| 168/168 [00:02<00:00, 73.31it/s]\n"
     ]
    },
    {
     "name": "stdout",
     "output_type": "stream",
     "text": [
      "Training Loss: 0.662770481691474\n",
      "Validation Loss: 0.6822719822327296\n"
     ]
    },
    {
     "name": "stderr",
     "output_type": "stream",
     "text": [
      "Epoch 34: 100%|██████████| 168/168 [00:02<00:00, 71.11it/s]\n"
     ]
    },
    {
     "name": "stdout",
     "output_type": "stream",
     "text": [
      "Training Loss: 0.6616651540001234\n",
      "Validation Loss: 0.6834792047739029\n"
     ]
    },
    {
     "name": "stderr",
     "output_type": "stream",
     "text": [
      "Epoch 35: 100%|██████████| 168/168 [00:02<00:00, 78.03it/s]\n"
     ]
    },
    {
     "name": "stdout",
     "output_type": "stream",
     "text": [
      "Training Loss: 0.6586805912000793\n",
      "Validation Loss: 0.6869174093008041\n"
     ]
    },
    {
     "name": "stderr",
     "output_type": "stream",
     "text": [
      "Epoch 36: 100%|██████████| 168/168 [00:02<00:00, 74.86it/s]\n"
     ]
    },
    {
     "name": "stdout",
     "output_type": "stream",
     "text": [
      "Training Loss: 0.6593887954950333\n",
      "Validation Loss: 0.6855488767226537\n"
     ]
    },
    {
     "name": "stderr",
     "output_type": "stream",
     "text": [
      "Epoch 37: 100%|██████████| 168/168 [00:02<00:00, 75.97it/s]\n"
     ]
    },
    {
     "name": "stdout",
     "output_type": "stream",
     "text": [
      "Training Loss: 0.6581884956076032\n",
      "Validation Loss: 0.6825663248697916\n"
     ]
    },
    {
     "name": "stderr",
     "output_type": "stream",
     "text": [
      "Epoch 38: 100%|██████████| 168/168 [00:02<00:00, 76.27it/s]\n"
     ]
    },
    {
     "name": "stdout",
     "output_type": "stream",
     "text": [
      "Training Loss: 0.6568363816255615\n",
      "Validation Loss: 0.6791689346234003\n"
     ]
    },
    {
     "name": "stderr",
     "output_type": "stream",
     "text": [
      "Epoch 39: 100%|██████████| 168/168 [00:02<00:00, 73.50it/s]\n"
     ]
    },
    {
     "name": "stdout",
     "output_type": "stream",
     "text": [
      "Training Loss: 0.6549929557811647\n",
      "Validation Loss: 0.6828718185424805\n"
     ]
    },
    {
     "name": "stderr",
     "output_type": "stream",
     "text": [
      "Epoch 40: 100%|██████████| 168/168 [00:02<00:00, 75.35it/s]\n"
     ]
    },
    {
     "name": "stdout",
     "output_type": "stream",
     "text": [
      "Training Loss: 0.6553041470192728\n",
      "Validation Loss: 0.6871347179015478\n",
      "Early stopping triggered\n",
      "Confusion Matrix:\n",
      "[[ 49 287]\n",
      " [ 28 403]]\n",
      "Classification Report:\n",
      "              precision    recall  f1-score   support\n",
      "\n",
      "           0       0.64      0.15      0.24       336\n",
      "           1       0.58      0.94      0.72       431\n",
      "\n",
      "    accuracy                           0.59       767\n",
      "   macro avg       0.61      0.54      0.48       767\n",
      "weighted avg       0.61      0.59      0.51       767\n",
      "\n"
     ]
    }
   ],
   "source": [
    "patience = 15\n",
    "best_loss = float('inf')\n",
    "patience_counter = 0\n",
    "best_model_path = 'best_model.pth'  # File path for saving the best model\n",
    "\n",
    "for epoch in range(50):  # number of epochs\n",
    "    model.train()\n",
    "    train_losses = []\n",
    "    for inputs, labels in tqdm(train_loader, desc=f'Epoch {epoch + 1}'):\n",
    "        optimizer.zero_grad()\n",
    "        outputs = model(inputs)\n",
    "        loss = criterion(outputs, labels.squeeze())\n",
    "        loss.backward()\n",
    "        optimizer.step()\n",
    "        train_losses.append(loss.item())\n",
    "\n",
    "    avg_train_loss = np.mean(train_losses)\n",
    "    print(f'Training Loss: {avg_train_loss}')\n",
    "\n",
    "    model.eval()\n",
    "    valid_losses = []\n",
    "    with torch.no_grad():\n",
    "        for inputs, labels in test_loader:\n",
    "            outputs = model(inputs)\n",
    "            loss = criterion(outputs, labels.squeeze())\n",
    "            valid_losses.append(loss.item())\n",
    "\n",
    "    avg_valid_loss = np.mean(valid_losses)\n",
    "    print(f'Validation Loss: {avg_valid_loss}')\n",
    "\n",
    "    # Save the model at each epoch\n",
    "    epoch_model_path = f'model_epoch_{epoch + 1}.pth'\n",
    "    torch.save(model.state_dict(), epoch_model_path)\n",
    "\n",
    "    # Update the best model if validation loss improves\n",
    "    if avg_valid_loss < best_loss:\n",
    "        best_loss = avg_valid_loss\n",
    "        torch.save(model.state_dict(), best_model_path)\n",
    "        patience_counter = 0\n",
    "    else:\n",
    "        patience_counter += 1\n",
    "        if patience_counter >= patience:\n",
    "            print('Early stopping triggered')\n",
    "            break\n",
    "\n",
    "# Load the best model\n",
    "model.load_state_dict(torch.load(best_model_path))\n",
    "\n",
    "# Evaluate the best model\n",
    "model.eval()\n",
    "all_preds = []\n",
    "all_labels = []\n",
    "with torch.no_grad():\n",
    "    for inputs, labels in test_loader:\n",
    "        outputs = model(inputs)\n",
    "        _, preds = torch.max(outputs, 1)\n",
    "        all_preds.extend(preds.cpu().numpy())\n",
    "        all_labels.extend(labels.cpu().numpy())\n",
    "\n",
    "# Calculate confusion matrix and classification report\n",
    "conf_matrix = confusion_matrix(all_labels, all_preds)\n",
    "class_report = classification_report(all_labels, all_preds)\n",
    "print('Confusion Matrix:')\n",
    "print(conf_matrix)\n",
    "print('Classification Report:')\n",
    "print(class_report)"
   ]
  },
  {
   "cell_type": "markdown",
   "metadata": {},
   "source": [
    "# Run Season"
   ]
  },
  {
   "cell_type": "code",
   "execution_count": 249,
   "metadata": {},
   "outputs": [
    {
     "name": "stdout",
     "output_type": "stream",
     "text": [
      "Number of games:  373\n",
      "Predictions:  [1, 1, 1, 0, 1, 1, 0, 1, 1, 0, 1, 0, 0, 0, 1, 0, 1, 1, 0, 1, 1, 1, 1, 1, 1, 1, 1, 1, 1, 1, 0, 1, 0, 0, 1, 1, 1, 1, 1, 1, 1, 0, 0, 1, 1, 0, 1, 0, 1, 0, 1, 1, 1, 1, 0, 0, 0, 0, 1, 0, 0, 0, 1, 1, 1, 1, 0, 1, 0, 0, 0, 1, 1, 0, 0, 1, 1, 1, 1, 0, 0, 0, 1, 1, 1, 0, 1, 1, 1, 1, 1, 0, 1, 1, 1, 1, 0, 0, 0, 1, 1, 0, 0, 0, 1]\n",
      "Bets:  [20, 20, 20, 20, 20, 20, 20, 20, 20, 20, 20, 20, 20, 20, 20, 20, 20, 20, 20, 20, 20, 20, 20, 20, 20, 20, 20, 20, 20, 20, 20, 20, 20, 20, 20, 20, 20, 20, 20, 20, 20, 20, 20, 20, 20, 20, 20, 20, 20, 20, 20, 20, 20, 20, 20, 20, 20, 20, 20, 20, 20, 20, 20, 20, 20, 20, 20, 20, 20, 20, 20, 20, 20, 20, 20, 20, 20, 20, 20, 20, 20, 20, 20, 20, 20, 20, 20, 20, 20, 20, 20, 20, 20, 20, 20, 20, 20, 20, 20, 20, 20, 20, 20, 20, 20]\n",
      "803.9414454155979\n",
      "[1000.0, 1034.0, 1014.0, 1024.8108108108108, 1004.8108108108108, 984.8108108108108, 964.8108108108108, 944.8108108108108, 924.8108108108108, 958.8108108108108, 938.8108108108108, 967.6108108108108, 947.6108108108108, 972.6108108108108, 952.6108108108108, 932.6108108108108, 946.8965250965251, 926.8965250965251, 906.8965250965251, 929.6965250965251, 942.1965250965251, 922.1965250965251, 939.5878294443512, 947.5878294443512, 956.6787385352603, 936.6787385352603, 951.4935533500751, 931.4935533500751, 911.4935533500751, 940.2935533500751, 920.2935533500751, 937.6848576979012, 917.6848576979012, 934.4915803869768, 914.4915803869768, 894.4915803869768, 909.3063952017916, 889.3063952017916, 869.3063952017916, 886.6976995496177, 904.5548424067606, 884.5548424067606, 864.5548424067606, 882.5728604247786, 862.5728604247786, 875.906193758112, 855.906193758112, 835.906193758112, 815.906193758112, 795.906193758112, 814.254817611323, 794.254817611323, 774.254817611323, 754.254817611323, 770.254817611323, 781.3659287224341, 793.130634604787, 803.9414454155979]\n"
     ]
    },
    {
     "data": {
      "image/png": "[encoded data removed]",
      "text/plain": [
       "<Figure size 640x480 with 1 Axes>"
      ]
     },
     "metadata": {},
     "output_type": "display_data"
    }
   ],
   "source": [
    "date1, date2 = int(str(test_year)+'0101'), int(str(test_year+1)+'0101')\n",
    "subset_df = merged_player_dataframe[(merged_player_dataframe['date'] >= date1) & (merged_player_dataframe['date'] <= date2)]\n",
    "player_list = subset_df['lineup'].to_frame()\n",
    "\n",
    "results, bets, skipped = predict_game_outcome(player_list, train_player_data, model, augment=False, scaler=10, base_bet=20)\n",
    "\n",
    "final_bets = generate_bets(results, bets, subset_df, skipped)\n",
    "\n",
    "print('Number of games: ', len(subset_df))\n",
    "print('Predictions: ', results)\n",
    "print('Bets: ', bets)\n",
    "\n",
    "wallet_balance, wallet_balance_history = simulate_betting_season(final_bets, merged_dataframes)\n",
    "print(wallet_balance)\n",
    "print(wallet_balance_history)\n",
    "plt.plot(wallet_balance_history)\n",
    "plt.title('Wallet Balance Over Betting Season')\n",
    "plt.xlabel('Bets')\n",
    "plt.ylabel('Wallet Balance')\n",
    "plt.show()"
   ]
  },
  {
   "cell_type": "code",
   "execution_count": 250,
   "metadata": {},
   "outputs": [
    {
     "data": {
      "text/plain": [
       "373"
      ]
     },
     "execution_count": 250,
     "metadata": {},
     "output_type": "execute_result"
    }
   ],
   "source": [
    "len(merged_dataframes)"
   ]
  },
  {
   "cell_type": "code",
   "execution_count": 263,
   "metadata": {},
   "outputs": [
    {
     "data": {
      "text/plain": [
       "105"
      ]
     },
     "execution_count": 263,
     "metadata": {},
     "output_type": "execute_result"
    }
   ],
   "source": []
  },
  {
   "cell_type": "code",
   "execution_count": 251,
   "metadata": {},
   "outputs": [
    {
     "name": "stdout",
     "output_type": "stream",
     "text": [
      "[(20, 'CIN', 20200724), (20, 'PHI', 20200724), (20, 'BOS', 20200724), (20, 'COL', 20200724), (20, 'BOS', 20200725), (20, 'MIA', 20200725), (20, 'TEX', 20200725), (20, 'PHI', 20200726), (20, 'BAL', 20200726), (20, 'TEX', 20200726), (20, 'TOR', 20200727), (20, 'PIT', 20200727), (20, 'PIT', 20200728), (20, 'TEX', 20200728), (20, 'OAK', 20200728), (20, 'TEX', 20200729), (20, 'PIT', 20200729), (20, 'MIN', 20200730), (20, 'MIN', 20200731), (20, 'CIN', 20200802), (20, 'DET', 20200802), (20, 'MIN', 20200802), (20, 'MIN', 20200803), (20, 'MIN', 20200804), (20, 'TOR', 20200804), (20, 'OAK', 20200804), (20, 'PIT', 20200805), (20, 'TEX', 20200805), (20, 'ARI', 20200805), (20, 'WAS', 20200807), (20, 'DET', 20200807), (20, 'TOR', 20200807), (20, 'OAK', 20200807), (20, 'SEA', 20200807), (20, 'PIT', 20200808), (20, 'OAK', 20200808), (20, 'ATL', 20200808), (20, 'WAS', 20200808), (20, 'CIN', 20200808), (20, 'TOR', 20200808), (20, 'WAS', 20200809), (20, 'PHI', 20200809), (20, 'ATL', 20200809), (20, 'PIT', 20200809), (20, 'BOS', 20200809), (20, 'ATL', 20200810), (20, 'MIL', 20200810), (20, 'COL', 20200810), (20, 'PHI', 20200811), (20, 'MIL', 20200811), (20, 'COL', 20200812), (20, 'PHI', 20200812), (20, 'MIL', 20200812), (20, 'TEX', 20200812), (20, 'WAS', 20200814), (20, 'CLE', 20200814), (20, 'CLE', 20200815)]\n"
     ]
    }
   ],
   "source": [
    "print(final_bets)"
   ]
  },
  {
   "cell_type": "code",
   "execution_count": null,
   "metadata": {},
   "outputs": [],
   "source": []
  },
  {
   "cell_type": "code",
   "execution_count": 252,
   "metadata": {},
   "outputs": [
    {
     "data": {
      "text/plain": [
       "2465"
      ]
     },
     "execution_count": 252,
     "metadata": {},
     "output_type": "execute_result"
    }
   ],
   "source": [
    "# len(final_bets)\n",
    "len(train_player_data)"
   ]
  },
  {
   "cell_type": "markdown",
   "metadata": {},
   "source": [
    "# Misc"
   ]
  },
  {
   "cell_type": "code",
   "execution_count": 253,
   "metadata": {},
   "outputs": [
    {
     "name": "stdout",
     "output_type": "stream",
     "text": [
      "Missing players: ['l', 'i', 'n', 'e', 'u', 'p']\n"
     ]
    },
    {
     "data": {
      "text/plain": [
       "6"
      ]
     },
     "execution_count": 253,
     "metadata": {},
     "output_type": "execute_result"
    }
   ],
   "source": [
    "missing_players = check_missing_players(player_list, train_player_data)\n",
    "print('Missing players:', missing_players)\n",
    "len(missing_players)"
   ]
  },
  {
   "cell_type": "code",
   "execution_count": 254,
   "metadata": {},
   "outputs": [
    {
     "name": "stdout",
     "output_type": "stream",
     "text": [
      "[4, 8, 9, 11, 13, 17, 18, 22, 26, 28, 29, 30, 31, 33, 36, 37, 39, 41, 44, 45, 47, 48, 51, 52, 53, 54, 55, 56, 57, 61, 70, 73, 75, 78, 79, 80, 84, 85, 88, 89, 91, 95, 96, 99, 100, 101, 102, 104, 106, 110, 111, 113, 115, 116, 118, 119, 120, 122, 124, 126, 128, 130, 133, 135, 136, 137, 138, 139, 140, 142, 143, 144, 145, 146, 147, 148, 149, 151, 152, 153, 154, 155, 156, 157, 158, 161, 162, 163, 164, 165, 166, 167, 169, 170, 172, 174, 175, 176, 177, 178, 179, 181, 182, 184, 186, 187, 188, 190, 192, 194, 195, 196, 197, 199, 200, 201, 203, 204, 205, 207, 208, 209, 210, 211, 212, 213, 214, 215, 216, 217, 220, 222, 224, 225, 226, 227, 228, 229, 232, 233, 236, 237, 238, 239, 240, 241, 242, 243, 244, 245, 246, 247, 248, 249, 251, 252, 253, 254, 255, 257, 259, 260, 261, 262, 263, 264, 265, 266, 267, 268, 269, 270, 271, 272, 273, 275, 276, 277, 278, 279, 280, 281, 282, 283, 284, 285, 286, 287, 288, 289, 290, 291, 292, 293, 294, 295, 296, 298, 299, 300, 301, 302, 303, 304, 305, 306, 307, 308, 309, 310, 311, 312, 313, 315, 316, 317, 318, 320, 322, 323, 324, 325, 326, 327, 328, 329, 330, 331, 332, 334, 335, 336, 337, 338, 339, 340, 341, 342, 343, 344, 345, 346, 347, 348, 349, 350, 351, 352, 353, 354, 355, 356, 357, 358, 359, 360, 361, 362, 363, 364, 365, 366, 367, 368, 369, 370, 371, 372]\n"
     ]
    }
   ],
   "source": [
    "print(skipped)\n",
    "# for index in skipped:missing_players_per_game = []\n"
   ]
  },
  {
   "cell_type": "code",
   "execution_count": 255,
   "metadata": {},
   "outputs": [
    {
     "data": {
      "text/plain": [
       "373"
      ]
     },
     "execution_count": 255,
     "metadata": {},
     "output_type": "execute_result"
    }
   ],
   "source": [
    "len(pd.DataFrame(train_player_data.keys()))\n",
    "len(player_list)"
   ]
  },
  {
   "cell_type": "code",
   "execution_count": 256,
   "metadata": {},
   "outputs": [],
   "source": [
    "# extra_players_per_game = []\n",
    "# for game in player_list_df.iloc[:, 0]:\n",
    "#     # Flatten the list of players for the current game\n",
    "#     game_players_flat = [player for sublist in game for player in sublist]\n",
    "#     # Convert the list into a set to remove duplicates\n",
    "#     game_player_set = set(game_players_flat)\n",
    "#     extra_players = train_player_set - game_player_set\n",
    "#     extra_players_per_game.append(extra_players)\n",
    "\n",
    "# print(extra_players_per_game)"
   ]
  },
  {
   "cell_type": "code",
   "execution_count": 260,
   "metadata": {},
   "outputs": [
    {
     "name": "stdout",
     "output_type": "stream",
     "text": [
      "Missing players for game 1: []\n",
      "Missing players for game 2: []\n",
      "Missing players for game 3: []\n",
      "Missing players for game 4: []\n",
      "Missing players for game 5: ['Evan White', 'Jose Marmolejos']\n",
      "Missing players for game 6: []\n",
      "Missing players for game 7: []\n",
      "Missing players for game 8: []\n",
      "Missing players for game 9: ['Evan White']\n",
      "Missing players for game 10: ['Shogo Akiyama']\n",
      "Missing players for game 11: []\n",
      "Missing players for game 12: ['Shogo Akiyama']\n",
      "Missing players for game 13: []\n",
      "Missing players for game 14: ['Evan White', 'Jose Marmolejos', 'Taylor Jones']\n",
      "Missing players for game 15: []\n",
      "Missing players for game 16: []\n",
      "Missing players for game 17: []\n",
      "Missing players for game 18: ['Evan White', 'Jose Marmolejos']\n",
      "Missing players for game 19: ['Santiago Espinal']\n",
      "Missing players for game 20: []\n",
      "Missing players for game 21: []\n",
      "Missing players for game 22: []\n",
      "Missing players for game 23: ['Vimael Machin']\n",
      "Missing players for game 24: []\n",
      "Missing players for game 25: []\n",
      "Missing players for game 26: []\n",
      "Missing players for game 27: ['Shogo Akiyama']\n",
      "Missing players for game 28: []\n",
      "Missing players for game 29: ['Evan White']\n",
      "Missing players for game 30: ['Daniel Johnson']\n",
      "Missing players for game 31: ['Evan White', 'Jose Marmolejos']\n",
      "Missing players for game 32: ['Shogo Akiyama', 'Rony Garcia']\n",
      "Missing players for game 33: []\n",
      "Missing players for game 34: ['Shogo Akiyama', 'Rony Garcia']\n",
      "Missing players for game 35: []\n",
      "Missing players for game 36: []\n",
      "Missing players for game 37: ['Evan White']\n",
      "Missing players for game 38: ['Daniel Johnson', 'Shogo Akiyama']\n",
      "Missing players for game 39: []\n",
      "Missing players for game 40: ['Evan White', 'Jose Marmolejos']\n",
      "Missing players for game 41: []\n",
      "Missing players for game 42: ['Shogo Akiyama']\n",
      "Missing players for game 43: []\n",
      "Missing players for game 44: []\n",
      "Missing players for game 45: ['Cristian Javier', 'Daulton Varsho']\n",
      "Missing players for game 46: ['Monte Harrison']\n",
      "Missing players for game 47: []\n",
      "Missing players for game 48: ['Tejay Antone', 'Shogo Akiyama']\n",
      "Missing players for game 49: ['Hyun-Jin Ryu']\n",
      "Missing players for game 50: []\n",
      "Missing players for game 51: []\n",
      "Missing players for game 52: ['Eddy Alvarez', 'Monte Harrison']\n",
      "Missing players for game 53: ['Joshua Allen Smith', 'Eddy Alvarez']\n",
      "Missing players for game 54: ['JT Brubaker']\n",
      "Missing players for game 55: ['Anderson Tejeda']\n",
      "Missing players for game 56: ['Shogo Akiyama']\n",
      "Missing players for game 57: ['Nate Pearson']\n",
      "Missing players for game 58: ['Brandon Bielak', 'Andy Young']\n",
      "Missing players for game 59: []\n",
      "Missing players for game 60: []\n",
      "Missing players for game 61: []\n",
      "Missing players for game 62: ['Mark Mathias']\n",
      "Missing players for game 63: []\n",
      "Missing players for game 64: []\n",
      "Missing players for game 65: []\n",
      "Missing players for game 66: []\n",
      "Missing players for game 67: []\n",
      "Missing players for game 68: []\n",
      "Missing players for game 69: []\n",
      "Missing players for game 70: []\n",
      "Missing players for game 71: ['Ryan Castellani', 'Evan White']\n",
      "Missing players for game 72: []\n",
      "Missing players for game 73: []\n",
      "Missing players for game 74: ['Spencer Howard']\n",
      "Missing players for game 75: []\n",
      "Missing players for game 76: ['Spencer Howard']\n",
      "Missing players for game 77: []\n",
      "Missing players for game 78: []\n",
      "Missing players for game 79: ['Shogo Akiyama', 'Mark Mathias']\n",
      "Missing players for game 80: ['Evan White']\n",
      "Missing players for game 81: ['Cristian Javier']\n",
      "Missing players for game 82: []\n",
      "Missing players for game 83: []\n",
      "Missing players for game 84: []\n",
      "Missing players for game 85: ['Evan White']\n",
      "Missing players for game 86: ['Monte Harrison', 'Hyun-Jin Ryu']\n",
      "Missing players for game 87: []\n",
      "Missing players for game 88: []\n",
      "Missing players for game 89: ['Andy Young']\n",
      "Missing players for game 90: ['Evan White']\n",
      "Missing players for game 91: []\n",
      "Missing players for game 92: ['Eddy Alvarez', 'Nate Pearson']\n",
      "Missing players for game 93: []\n",
      "Missing players for game 94: []\n",
      "Missing players for game 95: []\n",
      "Missing players for game 96: ['Alec Bohm']\n",
      "Missing players for game 97: ['Shogo Akiyama']\n",
      "Missing players for game 98: []\n",
      "Missing players for game 99: []\n",
      "Missing players for game 100: ['Shogo Akiyama']\n",
      "Missing players for game 101: ['Eddy Alvarez']\n",
      "Missing players for game 102: ['Ryan Castellani']\n",
      "Missing players for game 103: ['Evan White']\n",
      "Missing players for game 104: []\n",
      "Missing players for game 105: ['Daniel Castano', 'Eddy Alvarez', 'Monte Harrison']\n",
      "Missing players for game 106: []\n",
      "Missing players for game 107: ['Evan White', 'Cristian Javier']\n",
      "Missing players for game 108: []\n",
      "Missing players for game 109: []\n",
      "Missing players for game 110: []\n",
      "Missing players for game 111: ['Lewin Diaz', 'Monte Harrison']\n",
      "Missing players for game 112: ['Joseph Odom', 'Evan White']\n",
      "Missing players for game 113: []\n",
      "Missing players for game 114: ['Hyun-Jin Ryu']\n",
      "Missing players for game 115: []\n",
      "Missing players for game 116: ['Brandon Bielak']\n",
      "Missing players for game 117: ['Vimael Machin']\n",
      "Missing players for game 118: []\n",
      "Missing players for game 119: ['Daulton Varsho']\n",
      "Missing players for game 120: ['Nate Pearson', 'Santiago Espinal']\n",
      "Missing players for game 121: ['JT Brubaker']\n",
      "Missing players for game 122: []\n",
      "Missing players for game 123: ['Alec Bohm']\n",
      "Missing players for game 124: []\n",
      "Missing players for game 125: ['Santiago Espinal']\n",
      "Missing players for game 126: []\n",
      "Missing players for game 127: ['Alec Bohm', 'Kyle Hart']\n",
      "Missing players for game 128: []\n",
      "Missing players for game 129: ['Taylor Jones', 'Ryan Castellani']\n",
      "Missing players for game 130: []\n",
      "Missing players for game 131: ['Cristian Javier', 'Taylor Jones']\n",
      "Missing players for game 132: []\n",
      "Missing players for game 133: []\n",
      "Missing players for game 134: ['Ryan Jeffers']\n",
      "Missing players for game 135: []\n",
      "Missing players for game 136: ['Spencer Howard', 'Alec Bohm', 'Santiago Espinal']\n",
      "Missing players for game 137: ['Alec Bohm']\n",
      "Missing players for game 138: ['Spencer Howard', 'Alec Bohm', 'Santiago Espinal']\n",
      "Missing players for game 139: ['Alec Bohm']\n",
      "Missing players for game 140: ['Jesus Sanchez']\n",
      "Missing players for game 141: ['Ryan Mountcastle']\n",
      "Missing players for game 142: []\n",
      "Missing players for game 143: ['Isaac Paredes']\n",
      "Missing players for game 144: ['Alec Bohm', 'Cristian Pache']\n",
      "Missing players for game 145: ['Joseph Odom']\n",
      "Missing players for game 146: ['Mark Mathias']\n",
      "Missing players for game 147: ['Daniel Castano', 'Jesus Sanchez']\n",
      "Missing players for game 148: ['Sixto Sanchez', 'Jesus Sanchez', 'Wil Crowe']\n",
      "Missing players for game 149: ['Ramon Urias', 'Ryan Mountcastle']\n",
      "Missing players for game 150: ['Isaac Paredes', 'Triston McKenzie']\n",
      "Missing players for game 151: []\n",
      "Missing players for game 152: ['Evan White']\n",
      "Missing players for game 153: ['Humberto Mejia', 'Brian Navarreto', 'Jesus Sanchez']\n",
      "Missing players for game 154: ['Jonathan Arauz', 'Ryan Mountcastle']\n",
      "Missing players for game 155: ['Tarik Skubal', 'Isaac Paredes']\n",
      "Missing players for game 156: ['JT Brubaker']\n",
      "Missing players for game 157: ['Evan White']\n",
      "Missing players for game 158: ['Alec Bohm']\n",
      "Missing players for game 159: ['Jesus Sanchez']\n",
      "Missing players for game 160: []\n",
      "Missing players for game 161: []\n",
      "Missing players for game 162: ['Leody Taveras']\n",
      "Missing players for game 163: ['Ryan Castellani', 'Daulton Varsho']\n",
      "Missing players for game 164: ['Alec Bohm']\n",
      "Missing players for game 165: ['Kyle Hart', 'Santiago Espinal']\n",
      "Missing players for game 166: ['Ryan Jeffers']\n",
      "Missing players for game 167: ['Mark Payton', 'Shogo Akiyama']\n",
      "Missing players for game 168: ['Jonah Heim', 'Leody Taveras']\n",
      "Missing players for game 169: []\n",
      "Missing players for game 170: ['Alec Bohm']\n",
      "Missing players for game 171: ['Julian Merryweather', 'Santiago Espinal']\n",
      "Missing players for game 172: []\n",
      "Missing players for game 173: ['Vimael Machin', 'Leody Taveras']\n",
      "Missing players for game 174: []\n",
      "Missing players for game 175: ['Jose Garcia', 'Mark Payton', 'Shogo Akiyama']\n",
      "Missing players for game 176: ['Mark Payton', 'Shogo Akiyama', 'Mark Mathias']\n",
      "Missing players for game 177: ['Jose Garcia', 'Mark Payton', 'Shogo Akiyama']\n",
      "Missing players for game 178: ['Mark Payton', 'Shogo Akiyama', 'Mark Mathias']\n",
      "Missing players for game 179: ['Ryan Mountcastle', 'Hyun-Jin Ryu']\n",
      "Missing players for game 180: ['Alec Bohm']\n",
      "Missing players for game 181: []\n",
      "Missing players for game 182: ['Mark Mathias']\n",
      "Missing players for game 183: ['Alec Bohm']\n",
      "Missing players for game 184: []\n",
      "Missing players for game 185: ['Ryan Jeffers', 'Tarik Skubal', 'Isaac Paredes']\n",
      "Missing players for game 186: []\n",
      "Missing players for game 187: ['Ryan Jeffers', 'Tarik Skubal', 'Isaac Paredes']\n",
      "Missing players for game 188: ['Ryan Mountcastle']\n",
      "Missing players for game 189: ['JT Brubaker']\n",
      "Missing players for game 190: []\n",
      "Missing players for game 191: ['Jonah Heim', 'Vimael Machin']\n",
      "Missing players for game 192: []\n",
      "Missing players for game 193: ['Jonah Heim', 'Vimael Machin']\n",
      "Missing players for game 194: []\n",
      "Missing players for game 195: ['Casey Mize', 'Isaac Paredes']\n",
      "Missing players for game 196: ['Bobby Dalbec']\n",
      "Missing players for game 197: ['Mark Mathias']\n",
      "Missing players for game 198: ['Ryan Mountcastle']\n",
      "Missing players for game 199: []\n",
      "Missing players for game 200: ['Keegan Akin', 'Ryan Mountcastle', 'Santiago Espinal']\n",
      "Missing players for game 201: ['Spencer Howard', 'Alec Bohm']\n",
      "Missing players for game 202: ['Jonathan Arauz', 'Bobby Dalbec']\n",
      "Missing players for game 203: []\n",
      "Missing players for game 204: ['Julian Merryweather', 'Lewin Diaz']\n",
      "Missing players for game 205: ['Alec Bohm']\n",
      "Missing players for game 206: ['Ian Anderson', 'Jonathan Arauz']\n",
      "Missing players for game 207: []\n",
      "Missing players for game 208: ['Eli White', 'Leody Taveras']\n",
      "Missing players for game 209: ['Hyun-Jin Ryu', 'Santiago Espinal', 'Sixto Sanchez', 'Jazz Chisholm']\n",
      "Missing players for game 210: ['Alec Bohm']\n",
      "Missing players for game 211: ['Robinson Leyer', 'Bobby Dalbec']\n",
      "Missing players for game 212: ['Isaac Paredes']\n",
      "Missing players for game 213: ['Anderson Tejeda', 'Leody Taveras', 'Cristian Javier']\n",
      "Missing players for game 214: ['Eli White', 'Leody Taveras']\n",
      "Missing players for game 215: ['Alec Bohm']\n",
      "Missing players for game 216: ['Santiago Espinal', 'Bobby Dalbec']\n",
      "Missing players for game 217: ['Jose Garcia', \"Ke'Bryan Hayes\"]\n",
      "Missing players for game 218: ['Jose Garcia', 'Shogo Akiyama', 'Cody Ponce', \"Ke'Bryan Hayes\"]\n",
      "Missing players for game 219: []\n",
      "Missing players for game 220: []\n",
      "Missing players for game 221: ['Wil Crowe']\n",
      "Missing players for game 222: []\n",
      "Missing players for game 223: ['Wil Crowe']\n",
      "Missing players for game 224: []\n",
      "Missing players for game 225: ['Bobby Dalbec', 'Jonathan Arauz']\n",
      "Missing players for game 226: ['Isaac Paredes', 'Ryan Jeffers', 'Brent Rooker']\n",
      "Missing players for game 227: ['Isaac Paredes', 'Brent Rooker']\n",
      "Missing players for game 228: ['Kyle Cody', 'Eli White', 'Leody Taveras', 'Evan White', 'Jose Marmolejos']\n",
      "Missing players for game 229: ['Jose Garcia', 'Shogo Akiyama']\n",
      "Missing players for game 230: ['Tarik Skubal', 'Isaac Paredes', 'Ryan Jeffers', 'Brent Rooker']\n",
      "Missing players for game 231: []\n",
      "Missing players for game 232: []\n",
      "Missing players for game 233: ['Bobby Dalbec']\n",
      "Missing players for game 234: ['Anderson Tejeda', 'Eli White', 'Leody Taveras', 'Evan White', 'Jose Marmolejos']\n",
      "Missing players for game 235: []\n",
      "Missing players for game 236: []\n",
      "Missing players for game 237: ['Bobby Dalbec']\n",
      "Missing players for game 238: ['Tejay Antone', \"Ke'Bryan Hayes\"]\n",
      "Missing players for game 239: ['Casey Mize', 'Sergio Alcantara', 'Brent Rooker']\n",
      "Missing players for game 240: ['Anderson Tejeda', 'Leody Taveras', 'Joseph Odom', 'Evan White', 'Jose Marmolejos']\n",
      "Missing players for game 241: ['Jazz Chisholm', 'Ian Anderson']\n",
      "Missing players for game 242: ['Isaac Paredes', 'Ryan Jeffers', 'Brent Rooker']\n",
      "Missing players for game 243: ['Leody Taveras', 'Evan White']\n",
      "Missing players for game 244: ['Cristian Javier', 'Vimael Machin']\n",
      "Missing players for game 245: ['Bobby Dalbec', 'Alec Bohm']\n",
      "Missing players for game 246: ['Bobby Dalbec', 'Jonathan Arauz', 'Alec Bohm']\n",
      "Missing players for game 247: ['Bobby Dalbec', 'Alec Bohm']\n",
      "Missing players for game 248: ['Bobby Dalbec', 'Jonathan Arauz', 'Alec Bohm']\n",
      "Missing players for game 249: ['Sergio Alcantara']\n",
      "Missing players for game 250: ['Sixto Sanchez', 'Jazz Chisholm']\n",
      "Missing players for game 251: []\n",
      "Missing players for game 252: ['Jonah Heim', 'Vimael Machin']\n",
      "Missing players for game 253: ['Jazz Chisholm', 'Monte Harrison']\n",
      "Missing players for game 254: ['Isaac Paredes', 'Daz Cameron']\n",
      "Missing players for game 255: ['Vimael Machin']\n",
      "Missing players for game 256: ['Jonah Heim', 'Vimael Machin']\n",
      "Missing players for game 257: []\n",
      "Missing players for game 258: ['Alec Bohm', 'Jazz Chisholm']\n",
      "Missing players for game 259: []\n",
      "Missing players for game 260: ['Alec Bohm', 'Trevor Rogers', 'Jazz Chisholm']\n",
      "Missing players for game 261: ['Alec Bohm', 'Daniel Castano']\n",
      "Missing players for game 262: ['Alec Bohm', 'Trevor Rogers', 'Jazz Chisholm']\n",
      "Missing players for game 263: ['Alec Bohm', 'Daniel Castano']\n",
      "Missing players for game 264: ['Ryan Jeffers']\n",
      "Missing players for game 265: ['Vimael Machin', 'Sam Huff', 'Leody Taveras', 'Anderson Tejeda']\n",
      "Missing players for game 266: ['Evan White', 'Jose Marmolejos', 'Wyatt Mathisen']\n",
      "Missing players for game 267: ['Ian Anderson', 'Yadiel Hernandez']\n",
      "Missing players for game 268: ['Spencer Howard', 'Alec Bohm']\n",
      "Missing players for game 269: ['Daulton Jefferies', 'Jonah Heim', 'Vimael Machin', 'Leody Taveras', 'Eli White']\n",
      "Missing players for game 270: ['Vimael Machin', 'Sam Huff', 'Sherten Apostel', 'Eli White', 'Leody Taveras']\n",
      "Missing players for game 271: ['Daulton Jefferies', 'Jonah Heim', 'Vimael Machin', 'Leody Taveras', 'Eli White']\n",
      "Missing players for game 272: ['Vimael Machin', 'Sam Huff', 'Sherten Apostel', 'Eli White', 'Leody Taveras']\n",
      "Missing players for game 273: ['Evan White', 'Jose Marmolejos', 'Wyatt Mathisen', 'Pavin Smith']\n",
      "Missing players for game 274: ['Brent Rooker']\n",
      "Missing players for game 275: []\n",
      "Missing players for game 276: ['Ramon Rosso', 'Alec Bohm', 'Sixto Sanchez', 'Jazz Chisholm']\n",
      "Missing players for game 277: ['Alec Bohm', 'Braxton Garrett', 'Jazz Chisholm']\n",
      "Missing players for game 278: ['Ramon Rosso', 'Alec Bohm', 'Sixto Sanchez', 'Jazz Chisholm']\n",
      "Missing players for game 279: ['Alec Bohm', 'Braxton Garrett', 'Jazz Chisholm']\n",
      "Missing players for game 280: ['Jonah Heim', 'Anderson Tejeda', 'Leody Taveras', 'Eli White']\n",
      "Missing players for game 281: ['Triston McKenzie', 'Ryan Jeffers']\n",
      "Missing players for game 282: ['Joseph Odom', 'Evan White', 'Jose Marmolejos', 'Daulton Varsho', 'Pavin Smith']\n",
      "Missing players for game 283: ['Cody Ponce', \"Ke'Bryan Hayes\", 'Jose Garcia', 'Shogo Akiyama']\n",
      "Missing players for game 284: [\"Ke'Bryan Hayes\", 'Shogo Akiyama']\n",
      "Missing players for game 285: ['Cody Ponce', \"Ke'Bryan Hayes\", 'Jose Garcia', 'Shogo Akiyama']\n",
      "Missing players for game 286: [\"Ke'Bryan Hayes\", 'Shogo Akiyama']\n",
      "Missing players for game 287: ['Ryan Mountcastle']\n",
      "Missing players for game 288: ['Evan White', 'Jose Marmolejos']\n",
      "Missing players for game 289: ['Jonah Heim', 'Vimael Machin', 'Joseph Odom', 'Evan White', 'Jose Marmolejos']\n",
      "Missing players for game 290: ['Evan White', 'Jose Marmolejos']\n",
      "Missing players for game 291: ['Jonah Heim', 'Vimael Machin', 'Joseph Odom', 'Evan White', 'Jose Marmolejos']\n",
      "Missing players for game 292: ['Rafael Marchan', 'Alec Bohm', 'Jazz Chisholm']\n",
      "Missing players for game 293: [\"Ke'Bryan Hayes\", 'Jose Garcia', 'Shogo Akiyama']\n",
      "Missing players for game 294: ['Tanner Houck', 'Bobby Dalbec', 'Jazz Chisholm']\n",
      "Missing players for game 295: ['Ryan Mountcastle']\n",
      "Missing players for game 296: ['Kyle Cody', 'Sam Huff', 'Anderson Tejeda', 'Leody Taveras']\n",
      "Missing players for game 297: ['Jonah Heim']\n",
      "Missing players for game 298: []\n",
      "Missing players for game 299: ['JT Brubaker', \"Ke'Bryan Hayes\", 'Jose Garcia', 'Shogo Akiyama']\n",
      "Missing players for game 300: ['Mike Kickham', 'Bobby Dalbec', 'Trevor Rogers', 'Jazz Chisholm', 'Monte Harrison']\n",
      "Missing players for game 301: ['Keegan Akin', 'Ryan Mountcastle']\n",
      "Missing players for game 302: ['Anderson Tejeda', 'Leody Taveras']\n",
      "Missing players for game 303: ['Sherten Apostel', 'Anderson Tejeda', 'Eli White', 'Leody Taveras']\n",
      "Missing players for game 304: ['Casey Mize', 'Isaac Paredes', 'Daz Cameron']\n",
      "Missing players for game 305: ['Bobby Dalbec', 'Jazz Chisholm']\n",
      "Missing players for game 306: ['Alejandro Kirk', 'Alec Bohm', 'Mickey Moniak']\n",
      "Missing players for game 307: ['Santiago Espinal', 'Rafael Marchan', 'Alec Bohm', 'Mickey Moniak']\n",
      "Missing players for game 308: ['Isaac Paredes']\n",
      "Missing players for game 309: ['Sixto Sanchez', 'Jazz Chisholm']\n",
      "Missing players for game 310: ['Wil Crowe', 'Daniel Castano']\n",
      "Missing players for game 311: ['Sixto Sanchez', 'Jazz Chisholm']\n",
      "Missing players for game 312: ['Wil Crowe', 'Daniel Castano']\n",
      "Missing players for game 313: ['Daulton Varsho', 'Pavin Smith']\n",
      "Missing players for game 314: ['Hyun-Jin Ryu']\n",
      "Missing players for game 315: []\n",
      "Missing players for game 316: ['Triston McKenzie', 'Isaac Paredes', 'Daz Cameron']\n",
      "Missing players for game 317: ['Daulton Varsho', 'Pavin Smith', 'Wyatt Mathisen', 'Cristian Javier']\n",
      "Missing players for game 318: ['Adonis Medina', 'Rafael Marchan', 'Alec Bohm']\n",
      "Missing players for game 319: ['Isaac Paredes', 'Daz Cameron']\n",
      "Missing players for game 320: []\n",
      "Missing players for game 321: ['Ben Braymer', 'Braxton Garrett', 'Jazz Chisholm']\n",
      "Missing players for game 322: []\n",
      "Missing players for game 323: ['Ben Braymer', 'Braxton Garrett', 'Jazz Chisholm']\n",
      "Missing players for game 324: ['Pavin Smith', 'Daulton Varsho']\n",
      "Missing players for game 325: ['Alec Bohm']\n",
      "Missing players for game 326: ['Shogo Akiyama']\n",
      "Missing players for game 327: ['Trevor Rogers']\n",
      "Missing players for game 328: ['Evan White', 'Jose Marmolejos']\n",
      "Missing players for game 329: ['Alec Bohm', 'Mickey Moniak']\n",
      "Missing players for game 330: ['Alec Bohm', 'Yadiel Hernandez']\n",
      "Missing players for game 331: ['Alec Bohm', 'Mickey Moniak']\n",
      "Missing players for game 332: ['Alec Bohm', 'Yadiel Hernandez']\n",
      "Missing players for game 333: ['Tyler Stephenson']\n",
      "Missing players for game 334: []\n",
      "Missing players for game 335: ['Keegan Akin', 'Ryan Mountcastle', 'Ramon Urias', 'Bobby Dalbec', 'Jonathan Arauz']\n",
      "Missing players for game 336: ['Tarik Skubal', 'Isaac Paredes', 'Daz Cameron', 'Ryan Jeffers']\n",
      "Missing players for game 337: ['Ljay Newsome', 'Evan White']\n",
      "Missing players for game 338: ['Sam Huff', 'Sherten Apostel', 'Anderson Tejeda', 'Eli White', 'Leody Taveras', 'Pavin Smith', 'Daulton Varsho']\n",
      "Missing players for game 339: ['Alec Bohm', 'Yadiel Hernandez']\n",
      "Missing players for game 340: ['Wes Benjamin', 'Sam Huff', 'Sherten Apostel', 'Anderson Tejeda', 'Eli White', 'Leody Taveras', 'Wyatt Mathisen', 'Daulton Varsho']\n",
      "Missing players for game 341: ['Evan White', 'Jose Marmolejos']\n",
      "Missing players for game 342: ['Shogo Akiyama']\n",
      "Missing players for game 343: ['Sixto Sanchez']\n",
      "Missing players for game 344: ['Dean Kremer', 'Ryan Mountcastle', 'Ramon Urias', 'Bobby Dalbec']\n",
      "Missing players for game 345: ['Casey Mize', 'Isaac Paredes', 'Daz Cameron', 'Ryan Jeffers']\n",
      "Missing players for game 346: ['Ian Anderson']\n",
      "Missing players for game 347: ['Ramon Urias', 'Ryan Mountcastle', 'Bobby Dalbec']\n",
      "Missing players for game 348: ['Cristian Javier', 'Sherten Apostel', 'Leody Taveras']\n",
      "Missing players for game 349: ['Ryan Mountcastle', 'Ramon Urias']\n",
      "Missing players for game 350: [\"Ke'Bryan Hayes\", 'Jared Oliva']\n",
      "Missing players for game 351: ['Jonathan Arauz', 'Bobby Dalbec']\n",
      "Missing players for game 352: ['Kyle Cody', 'Sam Huff', 'Eli White']\n",
      "Missing players for game 353: ['Shogo Akiyama']\n",
      "Missing players for game 354: ['Joseph Odom', 'Evan White', 'Jose Marmolejos']\n",
      "Missing players for game 355: ['Pavin Smith', 'Daulton Varsho']\n",
      "Missing players for game 356: ['Antonio Santos', 'Pavin Smith', 'Wyatt Mathisen']\n",
      "Missing players for game 357: ['Pavin Smith', 'Daulton Varsho']\n",
      "Missing players for game 358: ['Antonio Santos', 'Pavin Smith', 'Wyatt Mathisen']\n",
      "Missing players for game 359: ['Ryan Mountcastle', 'Ramon Urias', 'Alejandro Kirk']\n",
      "Missing players for game 360: ['Anderson Tejeda', 'Leody Taveras']\n",
      "Missing players for game 361: [\"Ke'Bryan Hayes\"]\n",
      "Missing players for game 362: ['Tanner Houck', 'Bobby Dalbec', 'Tucker Davidson']\n",
      "Missing players for game 363: ['Shogo Akiyama', 'Ryan Jeffers']\n",
      "Missing players for game 364: ['Daulton Varsho', 'Pavin Smith']\n",
      "Missing players for game 365: ['Evan White', 'Jonah Heim']\n",
      "Missing players for game 366: ['Joseph Odom', 'Evan White', 'Jose Marmolejos', 'Vimael Machin']\n",
      "Missing players for game 367: ['Sam Huff', 'Anderson Tejeda', 'Leody Taveras']\n",
      "Missing players for game 368: ['Keegan Akin', 'Ryan Mountcastle']\n",
      "Missing players for game 369: ['JT Brubaker', \"Ke'Bryan Hayes\"]\n",
      "Missing players for game 370: ['Bobby Dalbec', 'Jonathan Arauz']\n",
      "Missing players for game 371: ['Jose Garcia']\n",
      "Missing players for game 372: ['Joseph Odom', 'Evan White', 'Jose Marmolejos']\n",
      "Missing players for game 373: ['Wyatt Mathisen', 'Daulton Varsho']\n"
     ]
    }
   ],
   "source": [
    "def check_missing_players_per_game(player_list, player_data):\n",
    "    missing_players_per_game = []\n",
    "    for game in player_list:\n",
    "        missing_players = []\n",
    "        for team in game:\n",
    "            for player in team:\n",
    "                if player.lower() not in player_data:\n",
    "                    missing_players.append(player)\n",
    "        missing_players_per_game.append(missing_players)\n",
    "    return missing_players_per_game\n",
    "\n",
    "missing_players_per_game = check_missing_players_per_game(player_list['lineup'], train_player_data) #Check if there are any wrong player names between the two datasets\n",
    "# missing_players_per_game = check_missing_players_per_game(player_list['lineup'], train_player_data) #Check if there are any players  \n",
    "for i, missing_players in enumerate(missing_players_per_game):\n",
    "    print(f'Missing players for game {i+1}:', missing_players)"
   ]
  },
  {
   "cell_type": "code",
   "execution_count": 261,
   "metadata": {},
   "outputs": [
    {
     "name": "stdout",
     "output_type": "stream",
     "text": [
      "Missing players for game 1: ['Evan White', 'Jose Marmolejos']\n",
      "Missing players for game 2: ['Evan White']\n",
      "Missing players for game 3: ['Shogo Akiyama']\n",
      "Missing players for game 4: ['Evan White', 'Jose Marmolejos', 'Taylor Jones']\n",
      "Missing players for game 5: ['Santiago Espinal']\n",
      "Missing players for game 6: ['Vimael Machin']\n",
      "Missing players for game 7: ['Daniel Johnson']\n",
      "Missing players for game 8: ['Shogo Akiyama', 'Rony Garcia']\n",
      "Missing players for game 9: ['Daniel Johnson', 'Shogo Akiyama']\n",
      "Missing players for game 10: ['Cristian Javier', 'Daulton Varsho']\n",
      "Missing players for game 11: ['Monte Harrison']\n",
      "Missing players for game 12: ['Tejay Antone', 'Shogo Akiyama']\n",
      "Missing players for game 13: ['Hyun-Jin Ryu']\n",
      "Missing players for game 14: ['Eddy Alvarez', 'Monte Harrison']\n",
      "Missing players for game 15: ['Joshua Allen Smith', 'Eddy Alvarez']\n",
      "Missing players for game 16: ['JT Brubaker']\n",
      "Missing players for game 17: ['Anderson Tejeda']\n",
      "Missing players for game 18: ['Nate Pearson']\n",
      "Missing players for game 19: ['Brandon Bielak', 'Andy Young']\n",
      "Missing players for game 20: ['Mark Mathias']\n",
      "Missing players for game 21: ['Ryan Castellani', 'Evan White']\n",
      "Missing players for game 22: ['Spencer Howard']\n",
      "Missing players for game 23: ['Shogo Akiyama', 'Mark Mathias']\n",
      "Missing players for game 24: ['Cristian Javier']\n",
      "Missing players for game 25: ['Monte Harrison', 'Hyun-Jin Ryu']\n",
      "Missing players for game 26: ['Andy Young']\n",
      "Missing players for game 27: ['Eddy Alvarez', 'Nate Pearson']\n",
      "Missing players for game 28: ['Alec Bohm']\n",
      "Missing players for game 29: ['Eddy Alvarez']\n",
      "Missing players for game 30: ['Ryan Castellani']\n",
      "Missing players for game 31: ['Daniel Castano', 'Eddy Alvarez', 'Monte Harrison']\n",
      "Missing players for game 32: ['Evan White', 'Cristian Javier']\n",
      "Missing players for game 33: ['Lewin Diaz', 'Monte Harrison']\n",
      "Missing players for game 34: ['Joseph Odom', 'Evan White']\n",
      "Missing players for game 35: ['Brandon Bielak']\n",
      "Missing players for game 36: ['Daulton Varsho']\n",
      "Missing players for game 37: ['Nate Pearson', 'Santiago Espinal']\n",
      "Missing players for game 38: ['Alec Bohm', 'Kyle Hart']\n",
      "Missing players for game 39: ['Taylor Jones', 'Ryan Castellani']\n",
      "Missing players for game 40: ['Cristian Javier', 'Taylor Jones']\n",
      "Missing players for game 41: ['Ryan Jeffers']\n",
      "Missing players for game 42: ['Spencer Howard', 'Alec Bohm', 'Santiago Espinal']\n",
      "Missing players for game 43: ['Jesus Sanchez']\n",
      "Missing players for game 44: ['Ryan Mountcastle']\n",
      "Missing players for game 45: ['Isaac Paredes']\n",
      "Missing players for game 46: ['Alec Bohm', 'Cristian Pache']\n",
      "Missing players for game 47: ['Joseph Odom']\n",
      "Missing players for game 48: ['Daniel Castano', 'Jesus Sanchez']\n",
      "Missing players for game 49: ['Sixto Sanchez', 'Jesus Sanchez', 'Wil Crowe']\n",
      "Missing players for game 50: ['Ramon Urias', 'Ryan Mountcastle']\n",
      "Missing players for game 51: ['Isaac Paredes', 'Triston McKenzie']\n",
      "Missing players for game 52: ['Humberto Mejia', 'Brian Navarreto', 'Jesus Sanchez']\n",
      "Missing players for game 53: ['Jonathan Arauz', 'Ryan Mountcastle']\n",
      "Missing players for game 54: ['Tarik Skubal', 'Isaac Paredes']\n",
      "Missing players for game 55: ['Leody Taveras']\n",
      "Missing players for game 56: ['Ryan Castellani', 'Daulton Varsho']\n",
      "Missing players for game 57: ['Kyle Hart', 'Santiago Espinal']\n",
      "Missing players for game 58: ['Mark Payton', 'Shogo Akiyama']\n",
      "Missing players for game 59: ['Jonah Heim', 'Leody Taveras']\n",
      "Missing players for game 60: ['Julian Merryweather', 'Santiago Espinal']\n",
      "Missing players for game 61: ['Vimael Machin', 'Leody Taveras']\n",
      "Missing players for game 62: ['Jose Garcia', 'Mark Payton', 'Shogo Akiyama']\n",
      "Missing players for game 63: ['Mark Payton', 'Shogo Akiyama', 'Mark Mathias']\n",
      "Missing players for game 64: ['Ryan Mountcastle', 'Hyun-Jin Ryu']\n",
      "Missing players for game 65: ['Ryan Jeffers', 'Tarik Skubal', 'Isaac Paredes']\n",
      "Missing players for game 66: ['Jonah Heim', 'Vimael Machin']\n",
      "Missing players for game 67: ['Casey Mize', 'Isaac Paredes']\n",
      "Missing players for game 68: ['Bobby Dalbec']\n",
      "Missing players for game 69: ['Keegan Akin', 'Ryan Mountcastle', 'Santiago Espinal']\n",
      "Missing players for game 70: ['Spencer Howard', 'Alec Bohm']\n",
      "Missing players for game 71: ['Jonathan Arauz', 'Bobby Dalbec']\n",
      "Missing players for game 72: ['Julian Merryweather', 'Lewin Diaz']\n",
      "Missing players for game 73: ['Ian Anderson', 'Jonathan Arauz']\n",
      "Missing players for game 74: ['Eli White', 'Leody Taveras']\n",
      "Missing players for game 75: ['Hyun-Jin Ryu', 'Santiago Espinal', 'Sixto Sanchez', 'Jazz Chisholm']\n",
      "Missing players for game 76: ['Robinson Leyer', 'Bobby Dalbec']\n",
      "Missing players for game 77: ['Anderson Tejeda', 'Leody Taveras', 'Cristian Javier']\n",
      "Missing players for game 78: ['Santiago Espinal', 'Bobby Dalbec']\n",
      "Missing players for game 79: ['Jose Garcia', \"Ke'Bryan Hayes\"]\n",
      "Missing players for game 80: ['Jose Garcia', 'Shogo Akiyama', 'Cody Ponce', \"Ke'Bryan Hayes\"]\n",
      "Missing players for game 81: ['Wil Crowe']\n",
      "Missing players for game 82: ['Bobby Dalbec', 'Jonathan Arauz']\n",
      "Missing players for game 83: ['Isaac Paredes', 'Ryan Jeffers', 'Brent Rooker']\n",
      "Missing players for game 84: ['Isaac Paredes', 'Brent Rooker']\n",
      "Missing players for game 85: ['Kyle Cody', 'Eli White', 'Leody Taveras', 'Evan White', 'Jose Marmolejos']\n",
      "Missing players for game 86: ['Jose Garcia', 'Shogo Akiyama']\n",
      "Missing players for game 87: ['Tarik Skubal', 'Isaac Paredes', 'Ryan Jeffers', 'Brent Rooker']\n",
      "Missing players for game 88: ['Anderson Tejeda', 'Eli White', 'Leody Taveras', 'Evan White', 'Jose Marmolejos']\n",
      "Missing players for game 89: ['Tejay Antone', \"Ke'Bryan Hayes\"]\n",
      "Missing players for game 90: ['Casey Mize', 'Sergio Alcantara', 'Brent Rooker']\n",
      "Missing players for game 91: ['Anderson Tejeda', 'Leody Taveras', 'Joseph Odom', 'Evan White', 'Jose Marmolejos']\n",
      "Missing players for game 92: ['Jazz Chisholm', 'Ian Anderson']\n",
      "Missing players for game 93: ['Leody Taveras', 'Evan White']\n",
      "Missing players for game 94: ['Cristian Javier', 'Vimael Machin']\n",
      "Missing players for game 95: ['Bobby Dalbec', 'Alec Bohm']\n",
      "Missing players for game 96: ['Bobby Dalbec', 'Jonathan Arauz', 'Alec Bohm']\n",
      "Missing players for game 97: ['Sergio Alcantara']\n",
      "Missing players for game 98: ['Sixto Sanchez', 'Jazz Chisholm']\n",
      "Missing players for game 99: ['Jazz Chisholm', 'Monte Harrison']\n",
      "Missing players for game 100: ['Isaac Paredes', 'Daz Cameron']\n",
      "Missing players for game 101: ['Alec Bohm', 'Jazz Chisholm']\n",
      "Missing players for game 102: ['Alec Bohm', 'Trevor Rogers', 'Jazz Chisholm']\n",
      "Missing players for game 103: ['Alec Bohm', 'Daniel Castano']\n",
      "Missing players for game 104: ['Vimael Machin', 'Sam Huff', 'Leody Taveras', 'Anderson Tejeda']\n",
      "Missing players for game 105: ['Evan White', 'Jose Marmolejos', 'Wyatt Mathisen']\n",
      "Missing players for game 106: ['Ian Anderson', 'Yadiel Hernandez']\n",
      "Missing players for game 107: ['Daulton Jefferies', 'Jonah Heim', 'Vimael Machin', 'Leody Taveras', 'Eli White']\n",
      "Missing players for game 108: ['Vimael Machin', 'Sam Huff', 'Sherten Apostel', 'Eli White', 'Leody Taveras']\n",
      "Missing players for game 109: ['Evan White', 'Jose Marmolejos', 'Wyatt Mathisen', 'Pavin Smith']\n",
      "Missing players for game 110: ['Brent Rooker']\n",
      "Missing players for game 111: ['Ramon Rosso', 'Alec Bohm', 'Sixto Sanchez', 'Jazz Chisholm']\n",
      "Missing players for game 112: ['Alec Bohm', 'Braxton Garrett', 'Jazz Chisholm']\n",
      "Missing players for game 113: ['Jonah Heim', 'Anderson Tejeda', 'Leody Taveras', 'Eli White']\n",
      "Missing players for game 114: ['Triston McKenzie', 'Ryan Jeffers']\n",
      "Missing players for game 115: ['Joseph Odom', 'Evan White', 'Jose Marmolejos', 'Daulton Varsho', 'Pavin Smith']\n",
      "Missing players for game 116: ['Cody Ponce', \"Ke'Bryan Hayes\", 'Jose Garcia', 'Shogo Akiyama']\n",
      "Missing players for game 117: [\"Ke'Bryan Hayes\", 'Shogo Akiyama']\n",
      "Missing players for game 118: ['Jonah Heim', 'Vimael Machin', 'Joseph Odom', 'Evan White', 'Jose Marmolejos']\n",
      "Missing players for game 119: ['Rafael Marchan', 'Alec Bohm', 'Jazz Chisholm']\n",
      "Missing players for game 120: [\"Ke'Bryan Hayes\", 'Jose Garcia', 'Shogo Akiyama']\n",
      "Missing players for game 121: ['Tanner Houck', 'Bobby Dalbec', 'Jazz Chisholm']\n",
      "Missing players for game 122: ['Kyle Cody', 'Sam Huff', 'Anderson Tejeda', 'Leody Taveras']\n",
      "Missing players for game 123: ['Jonah Heim']\n",
      "Missing players for game 124: ['JT Brubaker', \"Ke'Bryan Hayes\", 'Jose Garcia', 'Shogo Akiyama']\n",
      "Missing players for game 125: ['Mike Kickham', 'Bobby Dalbec', 'Trevor Rogers', 'Jazz Chisholm', 'Monte Harrison']\n",
      "Missing players for game 126: ['Keegan Akin', 'Ryan Mountcastle']\n",
      "Missing players for game 127: ['Anderson Tejeda', 'Leody Taveras']\n",
      "Missing players for game 128: ['Sherten Apostel', 'Anderson Tejeda', 'Eli White', 'Leody Taveras']\n",
      "Missing players for game 129: ['Casey Mize', 'Isaac Paredes', 'Daz Cameron']\n",
      "Missing players for game 130: ['Bobby Dalbec', 'Jazz Chisholm']\n",
      "Missing players for game 131: ['Alejandro Kirk', 'Alec Bohm', 'Mickey Moniak']\n",
      "Missing players for game 132: ['Santiago Espinal', 'Rafael Marchan', 'Alec Bohm', 'Mickey Moniak']\n",
      "Missing players for game 133: ['Wil Crowe', 'Daniel Castano']\n",
      "Missing players for game 134: ['Daulton Varsho', 'Pavin Smith']\n",
      "Missing players for game 135: ['Triston McKenzie', 'Isaac Paredes', 'Daz Cameron']\n",
      "Missing players for game 136: ['Daulton Varsho', 'Pavin Smith', 'Wyatt Mathisen', 'Cristian Javier']\n",
      "Missing players for game 137: ['Adonis Medina', 'Rafael Marchan', 'Alec Bohm']\n",
      "Missing players for game 138: ['Ben Braymer', 'Braxton Garrett', 'Jazz Chisholm']\n",
      "Missing players for game 139: ['Pavin Smith', 'Daulton Varsho']\n",
      "Missing players for game 140: ['Trevor Rogers']\n",
      "Missing players for game 141: ['Alec Bohm', 'Mickey Moniak']\n",
      "Missing players for game 142: ['Alec Bohm', 'Yadiel Hernandez']\n",
      "Missing players for game 143: ['Tyler Stephenson']\n",
      "Missing players for game 144: ['Keegan Akin', 'Ryan Mountcastle', 'Ramon Urias', 'Bobby Dalbec', 'Jonathan Arauz']\n",
      "Missing players for game 145: ['Tarik Skubal', 'Isaac Paredes', 'Daz Cameron', 'Ryan Jeffers']\n",
      "Missing players for game 146: ['Ljay Newsome', 'Evan White']\n",
      "Missing players for game 147: ['Sam Huff', 'Sherten Apostel', 'Anderson Tejeda', 'Eli White', 'Leody Taveras', 'Pavin Smith', 'Daulton Varsho']\n",
      "Missing players for game 148: ['Wes Benjamin', 'Sam Huff', 'Sherten Apostel', 'Anderson Tejeda', 'Eli White', 'Leody Taveras', 'Wyatt Mathisen', 'Daulton Varsho']\n",
      "Missing players for game 149: ['Sixto Sanchez']\n",
      "Missing players for game 150: ['Dean Kremer', 'Ryan Mountcastle', 'Ramon Urias', 'Bobby Dalbec']\n",
      "Missing players for game 151: ['Casey Mize', 'Isaac Paredes', 'Daz Cameron', 'Ryan Jeffers']\n",
      "Missing players for game 152: ['Ian Anderson']\n",
      "Missing players for game 153: ['Ramon Urias', 'Ryan Mountcastle', 'Bobby Dalbec']\n",
      "Missing players for game 154: ['Cristian Javier', 'Sherten Apostel', 'Leody Taveras']\n",
      "Missing players for game 155: ['Ryan Mountcastle', 'Ramon Urias']\n",
      "Missing players for game 156: [\"Ke'Bryan Hayes\", 'Jared Oliva']\n",
      "Missing players for game 157: ['Kyle Cody', 'Sam Huff', 'Eli White']\n",
      "Missing players for game 158: ['Joseph Odom', 'Evan White', 'Jose Marmolejos']\n",
      "Missing players for game 159: ['Antonio Santos', 'Pavin Smith', 'Wyatt Mathisen']\n",
      "Missing players for game 160: ['Ryan Mountcastle', 'Ramon Urias', 'Alejandro Kirk']\n",
      "Missing players for game 161: [\"Ke'Bryan Hayes\"]\n",
      "Missing players for game 162: ['Tanner Houck', 'Bobby Dalbec', 'Tucker Davidson']\n",
      "Missing players for game 163: ['Shogo Akiyama', 'Ryan Jeffers']\n",
      "Missing players for game 164: ['Evan White', 'Jonah Heim']\n",
      "Missing players for game 165: ['Joseph Odom', 'Evan White', 'Jose Marmolejos', 'Vimael Machin']\n",
      "Missing players for game 166: ['Sam Huff', 'Anderson Tejeda', 'Leody Taveras']\n",
      "Missing players for game 167: ['JT Brubaker', \"Ke'Bryan Hayes\"]\n",
      "Missing players for game 168: ['Jose Garcia']\n",
      "Missing players for game 169: ['Wyatt Mathisen', 'Daulton Varsho']\n"
     ]
    }
   ],
   "source": [
    "def remove_empty_and_duplicate_games(missing_players_per_game):\n",
    "    filtered_games = []\n",
    "    for game in missing_players_per_game:\n",
    "        if game and game not in filtered_games:\n",
    "            filtered_games.append(game)\n",
    "    return filtered_games\n",
    "\n",
    "filtered_games = remove_empty_and_duplicate_games(missing_players_per_game)\n",
    "for i, missing_players in enumerate(filtered_games):\n",
    "    print(f'Missing players for game {i+1}:', missing_players)\n",
    "\n"
   ]
  },
  {
   "cell_type": "code",
   "execution_count": 259,
   "metadata": {},
   "outputs": [],
   "source": [
    "# train_dataset = vector_dataset(X_train_resampled, y_train_resampled)\n",
    "# instantiate the random undersampler\n",
    "#rus = RandomUnderSampler(random_state=42)\n",
    "\n",
    "# instantiate SMOTE\n",
    "#smote = SMOTE(random_state=42)\n",
    "\n",
    "# resample X_train and y_train using undersampling\n",
    "#X_train_resampled, y_train_resampled = rus.fit_resample(X_train, y_train)\n",
    "\n",
    "# resample X_train and y_train using SMOTE\n",
    "#X_train_smote, y_train_smote = smote.fit_resample(X_train, y_train)\n",
    "\n",
    "# print the new class distribution after undersampling\n",
    "#print('Resampled dataset shape after undersampling %s' % len(X_train_resampled))\n",
    "\n",
    "# print the new class distribution after SMOTE\n",
    "#print('Resampled dataset shape after SMOTE %s' % len(X_train_smote))"
   ]
  }
 ],
 "metadata": {
  "kernelspec": {
   "display_name": "Python 3",
   "language": "python",
   "name": "python3"
  },
  "language_info": {
   "codemirror_mode": {
    "name": "ipython",
    "version": 3
   },
   "file_extension": ".py",
   "mimetype": "text/x-python",
   "name": "python",
   "nbconvert_exporter": "python",
   "pygments_lexer": "ipython3",
   "version": "3.9.1"
  }
 },
 "nbformat": 4,
 "nbformat_minor": 2
}
