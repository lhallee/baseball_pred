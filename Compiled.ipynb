{
 "cells": [
  {
   "cell_type": "markdown",
   "metadata": {},
   "source": [
    "# Imports"
   ]
  },
  {
   "cell_type": "code",
   "execution_count": 1,
   "metadata": {},
   "outputs": [],
   "source": [
    "import pandas as pd\n",
    "import glob\n",
    "import os\n",
    "import numpy as np\n",
    "from featureranker.utils import *\n",
    "from featureranker.plots import *\n",
    "from featureranker.rankers import *\n",
    "from tqdm.auto import tqdm\n",
    "import pickle\n",
    "import torch\n",
    "import torch.nn as nn\n",
    "import torch.optim as optim\n",
    "import matplotlib.pyplot as plt\n",
    "from glob import glob\n",
    "from sklearn.preprocessing import LabelEncoder\n",
    "from sklearn import svm\n",
    "from sklearn.metrics import confusion_matrix, accuracy_score, classification_report, ConfusionMatrixDisplay\n",
    "from sklearn.preprocessing import StandardScaler\n",
    "from imblearn.under_sampling import RandomUnderSampler\n",
    "from imblearn.over_sampling import SMOTE\n",
    "from torch.utils.data import Dataset, DataLoader\n",
    "\n",
    "import warnings\n",
    "warnings.filterwarnings('ignore')"
   ]
  },
  {
   "cell_type": "markdown",
   "metadata": {},
   "source": [
    "# Functions"
   ]
  },
  {
   "cell_type": "code",
   "execution_count": 39,
   "metadata": {},
   "outputs": [],
   "source": [
    "def check_missing_players(player_list, player_data):\n",
    "    missing_players = []\n",
    "    for game in player_list:\n",
    "        for team in game:\n",
    "            for player in team:\n",
    "                if player.lower() not in player_data:\n",
    "                    missing_players.append(player)\n",
    "    return missing_players\n",
    "\n",
    "\n",
    "def get_names(df, start, stop):\n",
    "    player_list = []\n",
    "    drop_list = df.iloc[:, start:stop:3].columns.tolist()\n",
    "    name_df = df.drop(drop_list, axis=1, inplace=False)\n",
    "    name_df = name_df.iloc[:, start:stop-len(drop_list)]\n",
    "    for i in range(len(name_df)):\n",
    "        players = name_df.iloc[i].tolist()\n",
    "        players_sorted = [players[j] for j in range(0, len(players), 2)]\n",
    "        players_sorted.sort(key=lambda x: players[players.index(x) + 1])\n",
    "        player_list.append(players_sorted)\n",
    "    return player_list\n",
    "\n",
    "\n",
    "def list_stacker(pitchers, players):\n",
    "    for i in range(len(pitchers)):\n",
    "        players[i].insert(0, pitchers[i])\n",
    "    return players\n",
    "\n",
    "\n",
    "def get_game_data(paths):\n",
    "    all_data = []\n",
    "    for i in range(len(paths)):\n",
    "        df = pd.read_csv(paths[i], header=None)\n",
    "        visiting_players = get_names(df, 105, 132)\n",
    "        home_players = get_names(df, 132, 159)\n",
    "        home_pitchers = df.iloc[:, 104].tolist()\n",
    "        visiting_pitchers = df.iloc[:, 102].tolist()\n",
    "        visiting_players = list_stacker(visiting_pitchers, visiting_players)\n",
    "        home_players = list_stacker(home_pitchers, home_players)\n",
    "        visiting_scores = df.iloc[:, 9].tolist()\n",
    "        home_scores = df.iloc[:, 10].tolist()\n",
    "        all_data.extend(list(zip(visiting_players, home_players, visiting_scores, home_scores)))\n",
    "    return all_data\n",
    "\n",
    "\n",
    "def get_player_data(paths):\n",
    "    le = LabelEncoder()\n",
    "    player_dfs = []\n",
    "    for path in paths:\n",
    "        df = pd.read_csv(path)\n",
    "        df['Team'] = le.fit_transform(df['Team'])\n",
    "        if 'Pos' in df.columns:\n",
    "            df['Pos'] = le.fit_transform(df['Pos'])\n",
    "        if 'Batters' not in path:\n",
    "            df['ExtraCol1'] = 0\n",
    "            df['ExtraCol2'] = 0\n",
    "            df['ExtraCol3'] = 0\n",
    "        df.columns = ['Player'] + list(range(len(df.columns) - 1))\n",
    "        df['Player'] = df['Player'].str.lower()\n",
    "        player_dfs.append(df)\n",
    "    combined_player = pd.concat(player_dfs)\n",
    "    combined_player = combined_player.groupby('Player', as_index=False).mean()\n",
    "    final_player = combined_player.set_index('Player').T.to_dict('list')\n",
    "    return final_player\n",
    "\n",
    "\n",
    "def get_example(game, player_data):\n",
    "    visiting_players = game[0]\n",
    "    home_players = game[1]\n",
    "    visiting_vector = [player_data[player.lower()] for player in visiting_players]\n",
    "    home_vector = [player_data[player.lower()] for player in home_players]\n",
    "    stacked_vector = [item for sublist in visiting_vector + home_vector for item in sublist]\n",
    "    if game[2] > game[3]:\n",
    "        label = 0 # might need to flip\n",
    "    else:\n",
    "        label = 1\n",
    "    return stacked_vector, label\n",
    "\n",
    "\n",
    "def generate_vectors_and_labels(game_data, player_data):\n",
    "    vectors, labels = [], []\n",
    "    for game in tqdm(game_data):\n",
    "        try:\n",
    "            vector, label = get_example(game, player_data)\n",
    "            if np.isnan(vector).any() or np.isnan(label):\n",
    "                continue\n",
    "            vectors.append(vector)\n",
    "            labels.append(label)\n",
    "        except:\n",
    "            continue\n",
    "    return pd.DataFrame(np.array(vectors)), pd.DataFrame(np.array(labels))\n",
    "\n",
    "\n",
    "def simulate_betting_season(bets, df, wallet_balance=10000.0):\n",
    "    wallet_balance_history = []\n",
    "    for bet in bets:\n",
    "        bet_amount, bet_team, bet_date = bet\n",
    "        row = df[(df['date'] == bet_date) & ((df['home_team'] == bet_team) | (df['visiting_team'] == bet_team))]\n",
    "        if not row.empty and not row.isnull().values.any():\n",
    "            if row['winner'].values[0]==1:\n",
    "                winner = row['home_team'].values[0]\n",
    "                if winner == bet_team:\n",
    "                    if row['home_open'].values[0] > 0:\n",
    "                        wallet_balance += bet_amount * (row['home_open'].values[0] / 100.0)\n",
    "                    else:\n",
    "                        wallet_balance += bet_amount * (100.0 / abs(row['home_open'].values[0]))\n",
    "                else:\n",
    "                    wallet_balance -= bet_amount\n",
    "            else:\n",
    "                winner = row['visiting_team'].values[0]\n",
    "                if winner == bet_team:\n",
    "                    if row['visiting_open'].values[0] > 0:\n",
    "                        wallet_balance += bet_amount * (row['visiting_open'].values[0] / 100.0)\n",
    "                    else:\n",
    "                        wallet_balance += bet_amount * (100.0 / abs(row['visiting_open'].values[0]))\n",
    "                else:\n",
    "                    wallet_balance -= bet_amount\n",
    "            wallet_balance_history.append((wallet_balance))\n",
    "        else:\n",
    "            print(f\"No betting data for date: {bet_date}\")\n",
    "    return wallet_balance, wallet_balance_history\n",
    "\n",
    "\n",
    "def get_player_vector(players, player_data):\n",
    "    return [player_data[player.lower()] for player in players]\n",
    "\n",
    "\n",
    "def predict_game_outcome(player_list, player_data, model, augment=False, base_bet=100, scaler=1):\n",
    "    results, bets, skipped = [], [], []\n",
    "    for i in range(len(player_list)):\n",
    "        try:\n",
    "            visiting_players = player_list.iloc[i][0][0]\n",
    "            home_players = player_list.iloc[i][0][1]\n",
    "            visiting_vector = get_player_vector(visiting_players, player_data)\n",
    "            home_vector = get_player_vector(home_players, player_data)\n",
    "            game_vector = [item for sublist in visiting_vector + home_vector for item in sublist]  # Flatten the vectors\n",
    "            game_vector = torch.tensor([game_vector], dtype=torch.float)\n",
    "            model.eval()\n",
    "            with torch.no_grad():\n",
    "                logits = model(game_vector)\n",
    "                probs = logits.softmax(dim=-1)\n",
    "                _, pred = torch.max(logits, 1)\n",
    "                pred = pred.item()\n",
    "                prob = probs[0][pred].item()\n",
    "            results.append(pred)\n",
    "            bets.append(base_bet * prob * scaler if augment else base_bet)\n",
    "        except:\n",
    "            skipped.append(i)\n",
    "    return results, bets, skipped\n",
    "\n",
    "\n",
    "def generate_bets(results, bets, df, skipped):\n",
    "    final_bets = []\n",
    "    for i, (result, (_, row)) in enumerate(zip(results, df.iterrows())):\n",
    "        if i in skipped:\n",
    "            continue\n",
    "        if result == 1:\n",
    "            bet_team = row['home_team']\n",
    "        else:\n",
    "            bet_team = row['visiting_team']\n",
    "        bet_date = row['date']\n",
    "        final_bets.append((bets[i], bet_team, bet_date))\n",
    "    return final_bets"
   ]
  },
  {
   "cell_type": "markdown",
   "metadata": {},
   "source": [
    "# Data"
   ]
  },
  {
   "cell_type": "code",
   "execution_count": 3,
   "metadata": {},
   "outputs": [
    {
     "name": "stdout",
     "output_type": "stream",
     "text": [
      "There are no NaN values in the dataset\n",
      "There are no NaN values in the dataset\n",
      "There are no NaN values in the dataset\n",
      "There are no NaN values in the dataset\n",
      "There are no NaN values in the dataset\n",
      "There are no NaN values in the dataset\n",
      "There are no NaN values in the dataset\n",
      "There are no NaN values in the dataset\n",
      "There are no NaN values in the dataset\n",
      "There are no NaN values in the dataset\n",
      "There are no NaN values in the dataset\n",
      "There are no NaN values in the dataset\n",
      "There are no NaN values in the dataset\n",
      "There are no NaN values in the dataset\n",
      "There are no NaN values in the dataset\n",
      "There are no NaN values in the dataset\n",
      "There are no NaN values in the dataset\n",
      "There are no NaN values in the dataset\n"
     ]
    }
   ],
   "source": [
    "player_path = './player_data/'\n",
    "paths = [path.replace('\\\\', '/') for path in glob(player_path + '*.csv')]\n",
    "for path in paths:\n",
    "    df = pd.read_csv(path)\n",
    "    view_data(df)\n",
    "\n",
    "xlsx_path = './betting_odds/'\n",
    "txt_path = './alldata/gamelogs/'\n",
    "glfields_path = './alldata/gamelogs/glfields.txt'\n",
    "paths = [path for path in glob(xlsx_path + '*.xlsx')]\n",
    "paths_txt = [f'{txt_path}gl20{year}.txt' for year in range(10, 24)]\n",
    "schedule_paths = [f'./alldata/schedules/{year}schedule.csv' for year in range(2010, 2024)]\n",
    "\n",
    "# load data\n",
    "game_path = './game_data/'\n",
    "player_path = './player_data/'\n",
    "\n",
    "game_csvs_train = [path.replace('\\\\', '/') for path in glob(game_path + '*.txt') if '2022' if '2023' if '2021' not in path]\n",
    "game_csvs_test = [path.replace('\\\\', '/') for path in glob(game_path + '*.txt') if '2021' in path]\n",
    "\n",
    "player_csvs_train = [path.replace('\\\\', '/') for path in glob(player_path + '*.csv') if '2021' if '2022' not in path and '2023' not in path]\n",
    "player_csvs_test = [path.replace('\\\\', '/') for path in glob(player_path + '*.csv') if '2021' in path]\n",
    "\n",
    "train_game_data = [game for game in get_game_data(game_csvs_train) if game[2] != game[3]]\n",
    "test_game_data = [game for game in get_game_data(game_csvs_test) if game[2] != game[3]]\n",
    "\n",
    "train_player_data = get_player_data(player_csvs_train)\n",
    "test_player_data = get_player_data(player_csvs_test)\n",
    "\n",
    "X_train, y_train = generate_vectors_and_labels(train_game_data, train_player_data)\n",
    "X_test, y_test = generate_vectors_and_labels(test_game_data, test_player_data)"
   ]
  },
  {
   "cell_type": "code",
   "execution_count": 4,
   "metadata": {},
   "outputs": [],
   "source": [
    "xlsx_dataframes = []\n",
    "for i, path in enumerate(paths):\n",
    "    temp_df = pd.read_excel(path, skiprows=0 if i > 0 else 0)\n",
    "    temp_df.columns = temp_df.columns.str.replace('[^a-zA-Z0-9]', '')\n",
    "    year = path[-9:-5]  # extract year from file name\n",
    "    if 'Date' in temp_df.columns:\n",
    "        temp_df['Date'] = year + temp_df['Date'].astype(str).str.zfill(4)  # format date as yyyymmdd\n",
    "    xlsx_dataframes.append(temp_df)\n",
    "\n",
    "try:\n",
    "    xlsx_dataframes = pd.concat(xlsx_dataframes, ignore_index=True)\n",
    "except pd.errors.InvalidIndexError:\n",
    "    print('Error: Reindexing only valid with uniquely valued Index objects')\n",
    "\n",
    "with open(glfields_path, 'r') as file:\n",
    "    glfields_data = file.read()\n",
    "\n",
    "xlsx_dataframes = xlsx_dataframes[['Date', 'VH', 'Team', 'Open']]\n",
    "home_teams_df = xlsx_dataframes[xlsx_dataframes['VH'] == 'H'].copy()\n",
    "visiting_teams_df = xlsx_dataframes[xlsx_dataframes['VH'] == 'V'].copy()\n",
    "\n",
    "home_teams_df.columns = ['date', 'VH', 'home_team', 'home_open']\n",
    "visiting_teams_df.columns = ['date', 'VH', 'visiting_team', 'visiting_open']\n",
    "home_teams_df=home_teams_df[['date','home_team','home_open']]\n",
    "visiting_teams_df=visiting_teams_df[['date','visiting_team','visiting_open']]\n",
    "xlsx_dataframes=pd.merge(home_teams_df,visiting_teams_df,on='date')\n",
    "xlsx_dataframes = xlsx_dataframes[['date', 'home_team', 'visiting_team','home_open','visiting_open']]\n",
    "\n",
    "headers = [\n",
    "    \"date\",\n",
    "    \"number_of_game\",\n",
    "    \"day_of_week\",\n",
    "    \"visiting_team\",\n",
    "    \"visiting_team_league\",\n",
    "    \"visiting_team_game_number\",\n",
    "    \"home_team\",\n",
    "    \"home_team_league\",\n",
    "    \"home_team_game_number\",\n",
    "    \"visiting_team_score\",\n",
    "    \"home_team_score\",\n",
    "    \"length_of_game_in_outs\",\n",
    "    \"day_night_indicator\",\n",
    "    \"completion_information\",\n",
    "    \"forfeit_information\",\n",
    "    \"protest_information\",\n",
    "    \"park_id\",\n",
    "    \"attendance\",\n",
    "    \"time_of_game_in_minutes\",\n",
    "    \"visiting_team_line_scores\",\n",
    "    \"home_team_line_scores\",\n",
    "    \"visiting_team_at_bats\",\n",
    "    \"visiting_team_hits\",\n",
    "    \"visiting_team_doubles\",\n",
    "    \"visiting_team_triples\",\n",
    "    \"visiting_team_homeruns\",\n",
    "    \"visiting_team_RBI\",\n",
    "    \"visiting_team_sacrifice_hits\",\n",
    "    \"visiting_team_sacrifice_flies\",\n",
    "    \"visiting_team_hit_by_pitch\",\n",
    "    \"visiting_team_walks\",\n",
    "    \"visiting_team_intentional_walks\",\n",
    "    \"visiting_team_strikeouts\",\n",
    "    \"visiting_team_stolen_bases\",\n",
    "    \"visiting_team_caught_stealing\",\n",
    "    \"visiting_team_grounded_into_double_plays\",\n",
    "    \"visiting_team_awarded_first_on_catchers_interference\",\n",
    "    \"visiting_team_left_on_base\",\n",
    "    \"visiting_team_pitchers_used\",\n",
    "    \"visiting_team_individual_earned_runs\",\n",
    "    \"visiting_team_team_earned_runs\",\n",
    "    \"visiting_team_wild_pitches\",\n",
    "    \"visiting_team_balks\",\n",
    "    \"visiting_team_putouts\",\n",
    "    \"visiting_team_assists\",\n",
    "    \"visiting_team_errors\",\n",
    "    \"visiting_team_passed_balls\",\n",
    "    \"visiting_team_double_plays\",\n",
    "    \"visiting_team_triple_plays\",\n",
    "    \"home_team_at_bats\",\n",
    "    \"home_team_hits\",\n",
    "    \"home_team_doubles\",\n",
    "    \"home_team_triples\",\n",
    "    \"home_team_homeruns\",\n",
    "    \"home_team_RBI\",\n",
    "    \"home_team_sacrifice_hits\",\n",
    "    \"home_team_sacrifice_flies\",\n",
    "    \"home_team_hit_by_pitch\",\n",
    "    \"home_team_walks\",\n",
    "    \"home_team_intentional_walks\",\n",
    "    \"home_team_strikeouts\",\n",
    "    \"home_team_stolen_bases\",\n",
    "    \"home_team_caught_stealing\",\n",
    "    \"home_team_grounded_into_double_plays\",\n",
    "    \"home_team_awarded_first_on_catchers_interference\",\n",
    "    \"home_team_left_on_base\",\n",
    "    \"home_team_pitchers_used\",\n",
    "    \"home_team_individual_earned_runs\",\n",
    "    \"home_team_team_earned_runs\",\n",
    "    \"home_team_wild_pitches\",\n",
    "    \"home_team_balks\",\n",
    "    \"home_team_putouts\",\n",
    "    \"home_team_assists\",\n",
    "    \"home_team_errors\",\n",
    "    \"home_team_passed_balls\",\n",
    "    \"home_team_double_plays\",\n",
    "    \"home_team_triple_plays\",\n",
    "    \"home_plate_umpire_id\",\n",
    "    \"home_plate_umpire_name\",\n",
    "    \"first_base_umpire_id\",\n",
    "    \"first_base_umpire_name\",\n",
    "    \"second_base_umpire_id\",\n",
    "    \"second_base_umpire_name\",\n",
    "    \"third_base_umpire_id\",\n",
    "    \"third_base_umpire_name\",\n",
    "    \"left_field_umpire_id\",\n",
    "    \"left_field_umpire_name\",\n",
    "    \"right_field_umpire_id\",\n",
    "    \"right_field_umpire_name\",\n",
    "    \"visiting_team_manager_id\",\n",
    "    \"visiting_team_manager_name\",\n",
    "    \"home_team_manager_id\",\n",
    "    \"home_team_manager_name\",\n",
    "    \"winning_pitcher_id\",\n",
    "    \"winning_pitcher_name\",\n",
    "    \"losing_pitcher_id\",\n",
    "    \"losing_pitcher_name\",\n",
    "    \"saving_pitcher_id\",\n",
    "    \"saving_pitcher_name\",\n",
    "    \"game_winning_rbi_batter_id\",\n",
    "    \"game_winning_rbi_batter_name\",\n",
    "    \"visiting_starting_pitcher_id\",\n",
    "    \"visiting_starting_pitcher_name\",\n",
    "    \"home_starting_pitcher_id\",\n",
    "    \"home_starting_pitcher_name\",\n",
    "]\n",
    "for i in range(1, 10):\n",
    "    headers.extend([\n",
    "        f\"visiting_starting_player_{i}_id\",\n",
    "        f\"visiting_starting_player_{i}_name\",\n",
    "        f\"visiting_starting_player_{i}_defensive_position\"\n",
    "    ])\n",
    "\n",
    "for i in range(1, 10):\n",
    "    headers.extend([\n",
    "        f\"home_starting_player_{i}_id\",\n",
    "        f\"home_starting_player_{i}_name\",\n",
    "        f\"home_starting_player_{i}_defensive_position\"\n",
    "    ])\n",
    "\n",
    "headers.extend([\"additional_information\", \"acquisition_information\"])\n",
    "\n",
    "txt_dataframes = []\n",
    "for path_txt in paths_txt:\n",
    "    df = pd.read_csv(path_txt, delimiter = \",\", quotechar='\"', quoting=1, header = None)\n",
    "    df.columns = headers\n",
    "    txt_dataframes.append(df)\n",
    "    # view_data(df)\n",
    "# txt_dataframes = txt_dataframes.replace({',': '', '\\\"': ''}, regex=True)\n",
    "# If you want to view the file in Excel, uncomment the following line\n",
    "# os.startfile(xlsx_files[0])\n",
    "# Concatenate all dataframes in txt_dataframes into a single dataframe\n",
    "txt_dataframes_concat = pd.concat(txt_dataframes)\n",
    "\n",
    "# Determine the winning team for each game and add it as a new column 'winner'\n",
    "txt_dataframes_concat['winner'] = txt_dataframes_concat.apply(lambda row: 1 if row[\"home_team_score\"] > row[\"visiting_team_score\"] else 2 if row[\"home_team_score\"] == row[\"visiting_team_score\"] else 0, axis=1)\n",
    "\n",
    "# Drop all columns except for the visiting and home pitchers, starting players, home_team, visiting_team, date, coach, and winner\n",
    "# txt_dataframes_concat = txt_dataframes_concat[['date', 'home_team', 'visiting_team', 'home_starting_pitcher_name', 'visiting_starting_pitcher_name', \n",
    "#                                               'home_starting_player_1_name', 'home_starting_player_2_name', 'home_starting_player_3_name', \n",
    "#                                               'home_starting_player_4_name', 'home_starting_player_5_name', 'home_starting_player_6_name', \n",
    "#                                               'home_starting_player_7_name', 'home_starting_player_8_name', 'home_starting_player_9_name', \n",
    "#                                               'visiting_starting_player_1_name', 'visiting_starting_player_2_name', 'visiting_starting_player_3_name', \n",
    "#                                               'visiting_starting_player_4_name', 'visiting_starting_player_5_name', 'visiting_starting_player_6_name', \n",
    "#                                               'visiting_starting_player_7_name', 'visiting_starting_player_8_name', 'visiting_starting_player_9_name',\n",
    "#                                               'home_team_score','visiting_team_score','winner']]\n",
    "txt_dataframes_concat = txt_dataframes_concat[['date', 'home_team', 'visiting_team', 'home_starting_pitcher_name', 'visiting_starting_pitcher_name', \n",
    "                                              'home_starting_player_1_name', 'home_starting_player_2_name', 'home_starting_player_3_name', \n",
    "                                              'home_starting_player_4_name', 'home_starting_player_5_name', 'home_starting_player_6_name', \n",
    "                                              'home_starting_player_7_name', 'home_starting_player_8_name', 'home_starting_player_9_name', \n",
    "                                              'visiting_starting_player_1_name', 'visiting_starting_player_2_name', 'visiting_starting_player_3_name', \n",
    "                                              'visiting_starting_player_4_name', 'visiting_starting_player_5_name', 'visiting_starting_player_6_name', \n",
    "                                              'visiting_starting_player_7_name', 'visiting_starting_player_8_name', 'visiting_starting_player_9_name',\n",
    "                                              'winner']]\n",
    "\n",
    "xlsx_dataframes['date'] = xlsx_dataframes['date'].astype(int)\n",
    "txt_dataframes_concat['date'] = txt_dataframes_concat['date']\n",
    "# Now perform the merge operation\n",
    "merged_dataframes = pd.merge(xlsx_dataframes, txt_dataframes_concat, on=['date', 'home_team', 'visiting_team'])\n",
    "merged_dataframes_full = pd.merge(txt_dataframes_concat,xlsx_dataframes, on=['date', 'home_team', 'visiting_team'],how=\"left\")\n",
    "\n",
    "# Now, merged_data should only contain bets on actual games played\n",
    "\n",
    "player_list_concat = pd.concat(txt_dataframes)\n",
    "player_list_concat = player_list_concat[['date', 'home_team', 'visiting_team', 'home_starting_pitcher_name', 'visiting_starting_pitcher_name', \n",
    "                                              'home_starting_player_1_name', 'home_starting_player_2_name', 'home_starting_player_3_name', \n",
    "                                              'home_starting_player_4_name', 'home_starting_player_5_name', 'home_starting_player_6_name', \n",
    "                                              'home_starting_player_7_name', 'home_starting_player_8_name', 'home_starting_player_9_name', \n",
    "                                              'visiting_starting_player_1_name', 'visiting_starting_player_2_name', 'visiting_starting_player_3_name', \n",
    "                                              'visiting_starting_player_4_name', 'visiting_starting_player_5_name', 'visiting_starting_player_6_name', \n",
    "                                              'visiting_starting_player_7_name', 'visiting_starting_player_8_name', 'visiting_starting_player_9_name',\n",
    "                                              'home_team_score','visiting_team_score',\n",
    "                                              'home_starting_player_1_defensive_position', 'home_starting_player_2_defensive_position', \n",
    "                                              'home_starting_player_3_defensive_position', 'home_starting_player_4_defensive_position', \n",
    "                                              'home_starting_player_5_defensive_position', 'home_starting_player_6_defensive_position', \n",
    "                                              'home_starting_player_7_defensive_position', 'home_starting_player_8_defensive_position', \n",
    "                                              'home_starting_player_9_defensive_position', 'visiting_starting_player_1_defensive_position', \n",
    "                                              'visiting_starting_player_2_defensive_position', 'visiting_starting_player_3_defensive_position', \n",
    "                                              'visiting_starting_player_4_defensive_position', 'visiting_starting_player_5_defensive_position', \n",
    "                                              'visiting_starting_player_6_defensive_position', 'visiting_starting_player_7_defensive_position', \n",
    "                                              'visiting_starting_player_8_defensive_position', 'visiting_starting_player_9_defensive_position']]\n",
    "\n",
    "player_list_concat['lineup'] = player_list_concat.apply(lambda row: [\n",
    "    (\n",
    "        (row['visiting_starting_pitcher_name'],) +\n",
    "        tuple(row[f'visiting_starting_player_{i}_name'] for i in sorted(range(1, 10), key=lambda i: row[f'visiting_starting_player_{i}_defensive_position']))\n",
    "    ),\n",
    "    (\n",
    "        (row['home_starting_pitcher_name'],) +\n",
    "        tuple(row[f'home_starting_player_{i}_name'] for i in sorted(range(1, 10), key=lambda i: row[f'home_starting_player_{i}_defensive_position']))\n",
    "    ),\n",
    "    # row['visiting_team_score'],\n",
    "    # row['home_team_score']\n",
    "], axis=1).tolist()\n",
    "\n",
    "merged_player_dataframe = pd.merge(xlsx_dataframes, player_list_concat, on=['date', 'home_team', 'visiting_team'])"
   ]
  },
  {
   "cell_type": "code",
   "execution_count": 5,
   "metadata": {},
   "outputs": [
    {
     "name": "stdout",
     "output_type": "stream",
     "text": [
      "0        [(Roy Halladay, Roy Halladay, Carlos Ruiz, Rya...\n",
      "1        [(Ubaldo Jimenez, Ubaldo Jimenez, Chris Iannet...\n",
      "2        [(Shaun Marcum, John Buck, Lyle Overbay, Aaron...\n",
      "3        [(Felix Hernandez, Rob Johnson, Casey Kotchman...\n",
      "4        [(Greg Smith, Greg Smith, Chris Iannetta, Todd...\n",
      "                               ...                        \n",
      "11200    [(Ashton Goudeau, Ashton Goudeau, Dom Nunez, C...\n",
      "11201    [(Aaron Civale, Austin Hedges, Yu Chang, Andre...\n",
      "11202    [(Bruce Zimmermann, Pedro Severino, Ryan Mount...\n",
      "11203    [(Cole Irvin, Yan Gomes, Seth Brown, Tony Kemp...\n",
      "11204    [(Chris Sale, Chris Sale, Christian Vazquez, K...\n",
      "Name: lineup, Length: 11205, dtype: object\n"
     ]
    }
   ],
   "source": [
    "print(merged_player_dataframe['lineup'])"
   ]
  },
  {
   "cell_type": "markdown",
   "metadata": {},
   "source": [
    "# NN"
   ]
  },
  {
   "cell_type": "code",
   "execution_count": 8,
   "metadata": {},
   "outputs": [
    {
     "data": {
      "text/plain": [
       "neural_net(\n",
       "  (gelu): GELU(approximate='none')\n",
       "  (dropout): Dropout(p=0.15, inplace=False)\n",
       "  (input_layer): Linear(in_features=440, out_features=880, bias=True)\n",
       "  (hidden_layers): ModuleList(\n",
       "    (0-1): 2 x Linear(in_features=880, out_features=880, bias=True)\n",
       "  )\n",
       "  (output_layer): Linear(in_features=880, out_features=2, bias=True)\n",
       ")"
      ]
     },
     "execution_count": 8,
     "metadata": {},
     "output_type": "execute_result"
    }
   ],
   "source": [
    "class vector_dataset(Dataset):\n",
    "    def __init__(self, X, y):\n",
    "        self.X = np.array(X)\n",
    "        self.y = np.array(y)\n",
    "\n",
    "    def __len__(self):\n",
    "        return len(self.y)\n",
    "    \n",
    "    def __getitem__(self, idx):\n",
    "        vec = torch.tensor(self.X[idx], dtype=torch.float)\n",
    "        label = torch.tensor(self.y[idx], dtype=torch.long)\n",
    "        return vec, label\n",
    "\n",
    "\n",
    "class neural_net(nn.Module):\n",
    "    def __init__(self, input_size, hidden_size, hidden_num, output_size, dropout_rate):\n",
    "        super(neural_net, self).__init__()\n",
    "        self.gelu = nn.GELU()\n",
    "        self.dropout = nn.Dropout(dropout_rate)\n",
    "        self.hidden_num = hidden_num\n",
    "        self.input_layer = nn.Linear(input_size, hidden_size)\n",
    "        self.hidden_layers = nn.ModuleList()\n",
    "        for i in range(hidden_num):\n",
    "            self.hidden_layers.append(nn.Linear(hidden_size, hidden_size))\n",
    "        self.output_layer = nn.Linear(hidden_size, output_size)\n",
    "\n",
    "    def forward(self, x):\n",
    "        x = self.gelu(self.input_layer(x))\n",
    "        x = self.dropout(x)\n",
    "        for i in range(self.hidden_num):\n",
    "            x = self.gelu(self.hidden_layers[i](x))\n",
    "            x = self.dropout(x)\n",
    "        x = self.output_layer(x)\n",
    "        return x\n",
    "\n",
    "model = neural_net(X_train.shape[1], X_train.shape[1]*2, 2, 2, 0.15)\n",
    "model"
   ]
  },
  {
   "cell_type": "code",
   "execution_count": 9,
   "metadata": {},
   "outputs": [],
   "source": [
    "train_dataset = vector_dataset(X_train, y_train)\n",
    "test_dataset = vector_dataset(X_test, y_test)\n",
    "\n",
    "train_loader = DataLoader(train_dataset, batch_size=64, shuffle=True)\n",
    "test_loader = DataLoader(test_dataset, batch_size=64, shuffle=False)\n",
    "\n",
    "optimizer = optim.Adam(model.parameters(), lr=0.0005)\n",
    "criterion = nn.CrossEntropyLoss()"
   ]
  },
  {
   "cell_type": "code",
   "execution_count": 10,
   "metadata": {},
   "outputs": [
    {
     "data": {
      "application/vnd.jupyter.widget-view+json": {
       "model_id": "64ea3e79a3384823af965ecd0b3c0c0a",
       "version_major": 2,
       "version_minor": 0
      },
      "text/plain": [
       "Epoch 1:   0%|          | 0/189 [00:00<?, ?it/s]"
      ]
     },
     "metadata": {},
     "output_type": "display_data"
    },
    {
     "name": "stdout",
     "output_type": "stream",
     "text": [
      "Training Loss: 1.033853702444248\n",
      "Validation Loss: 0.7012053114526412\n"
     ]
    },
    {
     "data": {
      "application/vnd.jupyter.widget-view+json": {
       "model_id": "d7816b74fb4e4450969efc4ba5cf8126",
       "version_major": 2,
       "version_minor": 0
      },
      "text/plain": [
       "Epoch 2:   0%|          | 0/189 [00:00<?, ?it/s]"
      ]
     },
     "metadata": {},
     "output_type": "display_data"
    },
    {
     "name": "stdout",
     "output_type": "stream",
     "text": [
      "Training Loss: 0.6968144071165217\n",
      "Validation Loss: 0.688846148112241\n"
     ]
    },
    {
     "data": {
      "application/vnd.jupyter.widget-view+json": {
       "model_id": "12a8f27bb77243cf874160c331df3e38",
       "version_major": 2,
       "version_minor": 0
      },
      "text/plain": [
       "Epoch 3:   0%|          | 0/189 [00:00<?, ?it/s]"
      ]
     },
     "metadata": {},
     "output_type": "display_data"
    },
    {
     "name": "stdout",
     "output_type": "stream",
     "text": [
      "Training Loss: 0.6892649040966438\n",
      "Validation Loss: 0.7008608947781956\n"
     ]
    },
    {
     "data": {
      "application/vnd.jupyter.widget-view+json": {
       "model_id": "cff995ae508a484a89a8639d4827b64b",
       "version_major": 2,
       "version_minor": 0
      },
      "text/plain": [
       "Epoch 4:   0%|          | 0/189 [00:00<?, ?it/s]"
      ]
     },
     "metadata": {},
     "output_type": "display_data"
    },
    {
     "name": "stdout",
     "output_type": "stream",
     "text": [
      "Training Loss: 0.68525213539285\n",
      "Validation Loss: 0.6816746382152333\n"
     ]
    },
    {
     "data": {
      "application/vnd.jupyter.widget-view+json": {
       "model_id": "1228515e8bcc41e5b87e28d6235df8d8",
       "version_major": 2,
       "version_minor": 0
      },
      "text/plain": [
       "Epoch 5:   0%|          | 0/189 [00:00<?, ?it/s]"
      ]
     },
     "metadata": {},
     "output_type": "display_data"
    },
    {
     "name": "stdout",
     "output_type": "stream",
     "text": [
      "Training Loss: 0.6822845090633978\n",
      "Validation Loss: 0.8242382564965416\n"
     ]
    },
    {
     "data": {
      "application/vnd.jupyter.widget-view+json": {
       "model_id": "5391d6debcfa494ba74433f05f9c13cd",
       "version_major": 2,
       "version_minor": 0
      },
      "text/plain": [
       "Epoch 6:   0%|          | 0/189 [00:00<?, ?it/s]"
      ]
     },
     "metadata": {},
     "output_type": "display_data"
    },
    {
     "name": "stdout",
     "output_type": "stream",
     "text": [
      "Training Loss: 0.6848160173527147\n",
      "Validation Loss: 0.675530798294965\n"
     ]
    },
    {
     "data": {
      "application/vnd.jupyter.widget-view+json": {
       "model_id": "95060d530ede404a89961e4b78e775af",
       "version_major": 2,
       "version_minor": 0
      },
      "text/plain": [
       "Epoch 7:   0%|          | 0/189 [00:00<?, ?it/s]"
      ]
     },
     "metadata": {},
     "output_type": "display_data"
    },
    {
     "name": "stdout",
     "output_type": "stream",
     "text": [
      "Training Loss: 0.6807742569812392\n",
      "Validation Loss: 0.6788323556675631\n"
     ]
    },
    {
     "data": {
      "application/vnd.jupyter.widget-view+json": {
       "model_id": "ac483e1220ee4dd5b97d328e3c05bec5",
       "version_major": 2,
       "version_minor": 0
      },
      "text/plain": [
       "Epoch 8:   0%|          | 0/189 [00:00<?, ?it/s]"
      ]
     },
     "metadata": {},
     "output_type": "display_data"
    },
    {
     "name": "stdout",
     "output_type": "stream",
     "text": [
      "Training Loss: 0.6786158065947275\n",
      "Validation Loss: 0.6959022318615633\n"
     ]
    },
    {
     "data": {
      "application/vnd.jupyter.widget-view+json": {
       "model_id": "43d26ec08d734883b0067c14bb39e34c",
       "version_major": 2,
       "version_minor": 0
      },
      "text/plain": [
       "Epoch 9:   0%|          | 0/189 [00:00<?, ?it/s]"
      ]
     },
     "metadata": {},
     "output_type": "display_data"
    },
    {
     "name": "stdout",
     "output_type": "stream",
     "text": [
      "Training Loss: 0.6803805894321866\n",
      "Validation Loss: 0.6786747399498435\n"
     ]
    },
    {
     "data": {
      "application/vnd.jupyter.widget-view+json": {
       "model_id": "5649875963074fe3b36960c9d88f4fed",
       "version_major": 2,
       "version_minor": 0
      },
      "text/plain": [
       "Epoch 10:   0%|          | 0/189 [00:00<?, ?it/s]"
      ]
     },
     "metadata": {},
     "output_type": "display_data"
    },
    {
     "name": "stdout",
     "output_type": "stream",
     "text": [
      "Training Loss: 0.6797959394555874\n",
      "Validation Loss: 0.6749596578233382\n"
     ]
    },
    {
     "data": {
      "application/vnd.jupyter.widget-view+json": {
       "model_id": "b408a6ba831e46919860492fcaed068c",
       "version_major": 2,
       "version_minor": 0
      },
      "text/plain": [
       "Epoch 11:   0%|          | 0/189 [00:00<?, ?it/s]"
      ]
     },
     "metadata": {},
     "output_type": "display_data"
    },
    {
     "name": "stdout",
     "output_type": "stream",
     "text": [
      "Training Loss: 0.6771694106399697\n",
      "Validation Loss: 0.7137994766235352\n"
     ]
    },
    {
     "data": {
      "application/vnd.jupyter.widget-view+json": {
       "model_id": "f38c4aef907848e4b07ab1ff990442e3",
       "version_major": 2,
       "version_minor": 0
      },
      "text/plain": [
       "Epoch 12:   0%|          | 0/189 [00:00<?, ?it/s]"
      ]
     },
     "metadata": {},
     "output_type": "display_data"
    },
    {
     "name": "stdout",
     "output_type": "stream",
     "text": [
      "Training Loss: 0.6794115323869009\n",
      "Validation Loss: 0.6746663819341099\n"
     ]
    },
    {
     "data": {
      "application/vnd.jupyter.widget-view+json": {
       "model_id": "4aa452f621254a9bb9262bd50e796cf1",
       "version_major": 2,
       "version_minor": 0
      },
      "text/plain": [
       "Epoch 13:   0%|          | 0/189 [00:00<?, ?it/s]"
      ]
     },
     "metadata": {},
     "output_type": "display_data"
    },
    {
     "name": "stdout",
     "output_type": "stream",
     "text": [
      "Training Loss: 0.6760768161879646\n",
      "Validation Loss: 0.6849343163125655\n"
     ]
    },
    {
     "data": {
      "application/vnd.jupyter.widget-view+json": {
       "model_id": "e71e956188d846ff87a6e2295dcf1c08",
       "version_major": 2,
       "version_minor": 0
      },
      "text/plain": [
       "Epoch 14:   0%|          | 0/189 [00:00<?, ?it/s]"
      ]
     },
     "metadata": {},
     "output_type": "display_data"
    },
    {
     "name": "stdout",
     "output_type": "stream",
     "text": [
      "Training Loss: 0.674619803037593\n",
      "Validation Loss: 0.6820904980687534\n"
     ]
    },
    {
     "data": {
      "application/vnd.jupyter.widget-view+json": {
       "model_id": "3949be287ee94f459a032aa1a7fcf1b9",
       "version_major": 2,
       "version_minor": 0
      },
      "text/plain": [
       "Epoch 15:   0%|          | 0/189 [00:00<?, ?it/s]"
      ]
     },
     "metadata": {},
     "output_type": "display_data"
    },
    {
     "name": "stdout",
     "output_type": "stream",
     "text": [
      "Training Loss: 0.6758340691763257\n",
      "Validation Loss: 0.6735437687705544\n"
     ]
    },
    {
     "data": {
      "application/vnd.jupyter.widget-view+json": {
       "model_id": "5e59eabef5f34e309c6913f925a18995",
       "version_major": 2,
       "version_minor": 0
      },
      "text/plain": [
       "Epoch 16:   0%|          | 0/189 [00:00<?, ?it/s]"
      ]
     },
     "metadata": {},
     "output_type": "display_data"
    },
    {
     "name": "stdout",
     "output_type": "stream",
     "text": [
      "Training Loss: 0.6744722310828153\n",
      "Validation Loss: 0.676187706344268\n"
     ]
    },
    {
     "data": {
      "application/vnd.jupyter.widget-view+json": {
       "model_id": "2103c013fa874d9d8dae990bb2155609",
       "version_major": 2,
       "version_minor": 0
      },
      "text/plain": [
       "Epoch 17:   0%|          | 0/189 [00:00<?, ?it/s]"
      ]
     },
     "metadata": {},
     "output_type": "display_data"
    },
    {
     "name": "stdout",
     "output_type": "stream",
     "text": [
      "Training Loss: 0.6742984188927544\n",
      "Validation Loss: 0.6797993954490212\n"
     ]
    },
    {
     "data": {
      "application/vnd.jupyter.widget-view+json": {
       "model_id": "e87ed5b679654c429d8b23805ad14c2e",
       "version_major": 2,
       "version_minor": 0
      },
      "text/plain": [
       "Epoch 18:   0%|          | 0/189 [00:00<?, ?it/s]"
      ]
     },
     "metadata": {},
     "output_type": "display_data"
    },
    {
     "name": "stdout",
     "output_type": "stream",
     "text": [
      "Training Loss: 0.6713211512754834\n",
      "Validation Loss: 0.7281791585333207\n"
     ]
    },
    {
     "data": {
      "application/vnd.jupyter.widget-view+json": {
       "model_id": "ee751747dbe94905953bd8b7055b7718",
       "version_major": 2,
       "version_minor": 0
      },
      "text/plain": [
       "Epoch 19:   0%|          | 0/189 [00:00<?, ?it/s]"
      ]
     },
     "metadata": {},
     "output_type": "display_data"
    },
    {
     "name": "stdout",
     "output_type": "stream",
     "text": [
      "Training Loss: 0.672950820948081\n",
      "Validation Loss: 0.6959876961567822\n"
     ]
    },
    {
     "data": {
      "application/vnd.jupyter.widget-view+json": {
       "model_id": "59990d9f63d4493ba037ed4ba9b25e89",
       "version_major": 2,
       "version_minor": 0
      },
      "text/plain": [
       "Epoch 20:   0%|          | 0/189 [00:00<?, ?it/s]"
      ]
     },
     "metadata": {},
     "output_type": "display_data"
    },
    {
     "name": "stdout",
     "output_type": "stream",
     "text": [
      "Training Loss: 0.6708559182585863\n",
      "Validation Loss: 0.6776240064817316\n",
      "Early stopping triggered\n",
      "Confusion Matrix:\n",
      "[[462 527]\n",
      " [372 791]]\n",
      "Classification Report:\n",
      "              precision    recall  f1-score   support\n",
      "\n",
      "           0       0.55      0.47      0.51       989\n",
      "           1       0.60      0.68      0.64      1163\n",
      "\n",
      "    accuracy                           0.58      2152\n",
      "   macro avg       0.58      0.57      0.57      2152\n",
      "weighted avg       0.58      0.58      0.58      2152\n",
      "\n"
     ]
    }
   ],
   "source": [
    "patience = 5\n",
    "best_loss = float('inf')\n",
    "patience_counter = 0\n",
    "best_model_path = 'best_model.pth'  # File path for saving the best model\n",
    "\n",
    "for epoch in range(50):  # number of epochs\n",
    "    model.train()\n",
    "    train_losses = []\n",
    "    for inputs, labels in tqdm(train_loader, desc=f'Epoch {epoch + 1}'):\n",
    "        optimizer.zero_grad()\n",
    "        outputs = model(inputs)\n",
    "        loss = criterion(outputs, labels.squeeze())\n",
    "        loss.backward()\n",
    "        optimizer.step()\n",
    "        train_losses.append(loss.item())\n",
    "\n",
    "    avg_train_loss = np.mean(train_losses)\n",
    "    print(f'Training Loss: {avg_train_loss}')\n",
    "\n",
    "    model.eval()\n",
    "    valid_losses = []\n",
    "    with torch.no_grad():\n",
    "        for inputs, labels in test_loader:\n",
    "            outputs = model(inputs)\n",
    "            loss = criterion(outputs, labels.squeeze())\n",
    "            valid_losses.append(loss.item())\n",
    "\n",
    "    avg_valid_loss = np.mean(valid_losses)\n",
    "    print(f'Validation Loss: {avg_valid_loss}')\n",
    "\n",
    "    # Save the model at each epoch\n",
    "    epoch_model_path = f'model_epoch_{epoch + 1}.pth'\n",
    "    torch.save(model.state_dict(), epoch_model_path)\n",
    "\n",
    "    # Update the best model if validation loss improves\n",
    "    if avg_valid_loss < best_loss:\n",
    "        best_loss = avg_valid_loss\n",
    "        torch.save(model.state_dict(), best_model_path)\n",
    "        patience_counter = 0\n",
    "    else:\n",
    "        patience_counter += 1\n",
    "        if patience_counter >= patience:\n",
    "            print('Early stopping triggered')\n",
    "            break\n",
    "\n",
    "# Load the best model\n",
    "model.load_state_dict(torch.load(best_model_path))\n",
    "\n",
    "# Evaluate the best model\n",
    "model.eval()\n",
    "all_preds = []\n",
    "all_labels = []\n",
    "with torch.no_grad():\n",
    "    for inputs, labels in test_loader:\n",
    "        outputs = model(inputs)\n",
    "        _, preds = torch.max(outputs, 1)\n",
    "        all_preds.extend(preds.cpu().numpy())\n",
    "        all_labels.extend(labels.cpu().numpy())\n",
    "\n",
    "# Calculate confusion matrix and classification report\n",
    "conf_matrix = confusion_matrix(all_labels, all_preds)\n",
    "class_report = classification_report(all_labels, all_preds)\n",
    "print('Confusion Matrix:')\n",
    "print(conf_matrix)\n",
    "print('Classification Report:')\n",
    "print(class_report)"
   ]
  },
  {
   "cell_type": "markdown",
   "metadata": {},
   "source": [
    "# Run Season"
   ]
  },
  {
   "cell_type": "code",
   "execution_count": 43,
   "metadata": {},
   "outputs": [
    {
     "name": "stdout",
     "output_type": "stream",
     "text": [
      "Number of games:  1051\n",
      "Predictions:  [1, 1, 0, 1, 0, 1, 1, 1, 0, 0, 1, 1, 1, 1, 0, 0, 1, 1, 0, 1, 1, 1, 0, 0, 1, 0, 1, 0, 1, 0, 1, 0, 1, 1, 1, 0, 1, 0, 1, 1, 0, 0, 0, 1, 0, 0, 0, 1, 0, 0, 1, 0, 0, 1, 1, 0, 1, 1, 1, 0, 1, 1, 1, 1, 1, 1, 1, 1, 1, 0, 1, 0, 0, 0, 0, 0, 0, 0, 0, 0, 1, 1, 1, 1, 1, 1, 1, 1, 1, 1, 1, 1, 1, 1, 0, 1, 1, 1, 1, 1, 1, 0, 0, 1, 1, 1, 1, 1, 0, 1, 1, 1, 1, 0, 1, 0, 1, 0, 1, 0, 1, 1, 1, 1, 1, 1, 1, 1, 1, 1, 1, 1, 1, 1, 1, 1, 1, 1, 0, 1, 0, 1, 1, 1, 1, 0, 1, 1, 0, 1, 1, 0, 0, 0, 0, 0, 0, 0, 0, 1, 1, 1, 1, 0, 1, 0, 1, 0, 1, 1, 0, 1, 0, 1, 1, 0, 1, 1, 1, 1, 0, 0, 1, 1, 1, 0, 1, 1, 0, 1, 0, 1, 1, 1, 1, 1, 1, 1, 0, 0, 1, 1, 0, 1, 1, 0, 1, 1, 0, 1, 1, 0, 1, 0, 0, 0, 1, 1, 0, 0, 0, 0, 1, 0, 1, 0, 1, 0, 0, 1, 1, 0, 1, 0, 1, 0, 1, 0, 0, 0, 0, 1, 0, 0, 1, 0, 1, 1, 1, 1, 1, 0, 1, 0, 1, 0, 1, 1, 1, 0, 0, 1, 1, 1, 0, 1, 1, 0, 1, 1, 0, 1, 1, 1, 0, 0, 0, 1, 0, 0, 1, 0, 1, 0, 0, 0, 1, 1, 0, 0, 1, 1, 1, 0, 1, 0, 1, 1, 0, 1, 1, 1, 0, 0, 1, 1, 1, 1, 0, 1, 1, 1, 1, 1, 1, 0, 0, 1, 1, 1, 1, 1, 1, 1, 1, 0, 1, 1, 1, 1, 1, 1, 1, 1, 1, 1, 1, 1, 1, 1, 1, 1, 1, 1, 1, 1, 1, 0, 1, 1, 0, 1, 0, 1, 0, 1, 0, 1, 1, 0, 1, 0, 1, 0, 0, 0, 0, 0, 1, 1, 1, 0, 0, 0, 0, 1, 1, 0, 1, 1, 0, 0, 1, 1, 1, 1, 1, 0, 1, 0, 1, 0, 1, 0, 0, 1, 1, 1, 1, 1, 1, 1, 1, 1, 0, 0, 1, 1, 0, 0, 1, 1, 1, 1, 1, 1, 0, 1, 0, 0, 1, 1, 1, 0, 1, 1, 0, 1, 0, 0, 1, 1, 1, 1, 1, 0, 1, 1, 0, 1, 0, 1, 1, 1, 1, 0, 0, 1, 1, 0, 1, 0, 0, 1, 0, 0, 1, 0, 1, 1, 0, 0, 1, 0, 1, 0, 1, 1, 0, 0, 0, 1, 0, 0, 0, 0, 0, 0, 0, 0, 0, 0, 0, 0, 0, 1, 0, 1, 1, 1, 1, 0, 1, 1, 1, 0, 0, 1, 1, 0, 0, 0, 0, 0, 0, 0, 0, 1, 0, 1, 1, 1, 1, 1, 1, 1, 1, 1, 1, 1, 1, 1, 1, 1, 1, 0, 1, 0, 1, 0, 1, 0, 1, 0, 1, 1, 1, 1, 1, 1, 1, 0, 0, 1, 0, 1, 0, 0, 1, 1, 1, 0, 0, 0, 0, 0, 1, 1, 0, 0, 0, 0, 0, 1, 0, 0, 0, 0, 1, 1, 0, 0, 0, 1, 1, 0, 1, 1, 0, 1, 1, 1, 1, 0, 1, 1, 1, 1, 1, 1, 1, 1, 1, 0, 1, 1, 1, 0, 1, 0, 0, 0, 0, 0, 0, 0, 0, 1, 1, 0, 1, 1, 1, 1, 1, 1, 1, 1, 1, 1, 1, 1, 1, 1, 0, 0, 1, 1, 1, 1, 1, 1, 1, 1, 1, 0, 1, 0, 1, 1, 0, 0, 1, 1, 1, 0, 1, 1, 1, 1, 1, 0, 1, 0, 0, 1, 1, 0, 0, 1, 0, 1, 0, 1, 0, 0, 0, 0, 0, 0, 0, 0, 0, 0, 1, 0, 1, 0, 1, 0, 1, 0, 1, 0, 0, 0, 1, 0, 0, 0, 0, 0, 0, 1, 1, 0, 0, 1, 1, 0, 1, 1, 0, 1, 1, 0, 1, 0, 1, 0, 1, 0, 1, 1, 1, 1, 1, 0, 1, 1, 1, 1, 1, 1, 1, 1, 1, 1, 1, 1, 1, 1, 1, 1, 1, 1, 1, 1, 1, 1, 1, 1, 0, 0, 0, 0, 1, 1, 0, 1, 0, 1, 1, 0, 0, 1, 1, 1, 0, 0, 1, 0, 1, 1, 1, 1, 1, 0, 0, 0, 0, 0, 0, 0, 0, 0, 0, 1, 0, 0, 1, 0, 0, 1, 0, 1, 0, 0, 0, 1, 0, 0, 0, 1, 0, 0, 0, 1, 0, 1, 1, 1, 1, 1, 1, 0, 1, 1, 1, 1, 0, 1, 0, 1, 1, 1, 1, 1, 0, 1, 0, 1, 1, 1, 1, 1, 1, 1, 1, 1, 0, 1, 1, 1, 1, 0, 1, 1, 1, 0, 0, 1, 0, 0, 1, 0, 0, 1, 0, 0, 0, 0, 0, 1, 0, 0, 0, 0, 1, 0, 0, 0, 1, 0, 0, 0, 0, 1, 0, 0, 1, 0, 0, 0, 1, 0, 1, 1, 1, 0, 1, 1, 1, 1, 1, 0, 0, 1, 1, 1, 1, 0, 1, 1, 1, 1, 1, 0, 1, 1, 1, 1, 1, 1, 0, 1, 1, 1, 1, 0, 1, 1, 1, 0, 1, 0, 1, 1, 1, 1, 1, 0, 1, 0, 1, 0, 1, 0, 1, 1, 1, 0, 1, 1, 0, 1, 0, 1, 1, 0, 0, 0, 1, 0, 0, 1, 0, 1, 0, 1, 0, 1, 0, 0, 1, 0, 0, 0, 0, 1, 0, 1, 0, 0, 0, 1, 1, 1, 1, 1, 1, 1, 1, 1, 0, 1, 1, 1, 1, 1, 1, 0, 1, 1, 1, 1, 0, 1, 1, 1, 1, 1, 1, 1, 1, 1, 1, 1, 1, 1, 1, 1, 1, 1, 1, 1, 1, 1, 0, 1, 1, 0, 0, 0, 1, 1, 1, 0, 1, 0, 0, 1, 1, 0, 0, 1, 1, 0, 0, 1, 0, 1, 0, 1, 0, 0, 0, 1, 0, 0, 1, 1, 1, 0, 0, 0, 0, 0, 1, 1, 0]\n",
      "Bets:  [100, 100, 100, 100, 100, 100, 100, 100, 100, 100, 100, 100, 100, 100, 100, 100, 100, 100, 100, 100, 100, 100, 100, 100, 100, 100, 100, 100, 100, 100, 100, 100, 100, 100, 100, 100, 100, 100, 100, 100, 100, 100, 100, 100, 100, 100, 100, 100, 100, 100, 100, 100, 100, 100, 100, 100, 100, 100, 100, 100, 100, 100, 100, 100, 100, 100, 100, 100, 100, 100, 100, 100, 100, 100, 100, 100, 100, 100, 100, 100, 100, 100, 100, 100, 100, 100, 100, 100, 100, 100, 100, 100, 100, 100, 100, 100, 100, 100, 100, 100, 100, 100, 100, 100, 100, 100, 100, 100, 100, 100, 100, 100, 100, 100, 100, 100, 100, 100, 100, 100, 100, 100, 100, 100, 100, 100, 100, 100, 100, 100, 100, 100, 100, 100, 100, 100, 100, 100, 100, 100, 100, 100, 100, 100, 100, 100, 100, 100, 100, 100, 100, 100, 100, 100, 100, 100, 100, 100, 100, 100, 100, 100, 100, 100, 100, 100, 100, 100, 100, 100, 100, 100, 100, 100, 100, 100, 100, 100, 100, 100, 100, 100, 100, 100, 100, 100, 100, 100, 100, 100, 100, 100, 100, 100, 100, 100, 100, 100, 100, 100, 100, 100, 100, 100, 100, 100, 100, 100, 100, 100, 100, 100, 100, 100, 100, 100, 100, 100, 100, 100, 100, 100, 100, 100, 100, 100, 100, 100, 100, 100, 100, 100, 100, 100, 100, 100, 100, 100, 100, 100, 100, 100, 100, 100, 100, 100, 100, 100, 100, 100, 100, 100, 100, 100, 100, 100, 100, 100, 100, 100, 100, 100, 100, 100, 100, 100, 100, 100, 100, 100, 100, 100, 100, 100, 100, 100, 100, 100, 100, 100, 100, 100, 100, 100, 100, 100, 100, 100, 100, 100, 100, 100, 100, 100, 100, 100, 100, 100, 100, 100, 100, 100, 100, 100, 100, 100, 100, 100, 100, 100, 100, 100, 100, 100, 100, 100, 100, 100, 100, 100, 100, 100, 100, 100, 100, 100, 100, 100, 100, 100, 100, 100, 100, 100, 100, 100, 100, 100, 100, 100, 100, 100, 100, 100, 100, 100, 100, 100, 100, 100, 100, 100, 100, 100, 100, 100, 100, 100, 100, 100, 100, 100, 100, 100, 100, 100, 100, 100, 100, 100, 100, 100, 100, 100, 100, 100, 100, 100, 100, 100, 100, 100, 100, 100, 100, 100, 100, 100, 100, 100, 100, 100, 100, 100, 100, 100, 100, 100, 100, 100, 100, 100, 100, 100, 100, 100, 100, 100, 100, 100, 100, 100, 100, 100, 100, 100, 100, 100, 100, 100, 100, 100, 100, 100, 100, 100, 100, 100, 100, 100, 100, 100, 100, 100, 100, 100, 100, 100, 100, 100, 100, 100, 100, 100, 100, 100, 100, 100, 100, 100, 100, 100, 100, 100, 100, 100, 100, 100, 100, 100, 100, 100, 100, 100, 100, 100, 100, 100, 100, 100, 100, 100, 100, 100, 100, 100, 100, 100, 100, 100, 100, 100, 100, 100, 100, 100, 100, 100, 100, 100, 100, 100, 100, 100, 100, 100, 100, 100, 100, 100, 100, 100, 100, 100, 100, 100, 100, 100, 100, 100, 100, 100, 100, 100, 100, 100, 100, 100, 100, 100, 100, 100, 100, 100, 100, 100, 100, 100, 100, 100, 100, 100, 100, 100, 100, 100, 100, 100, 100, 100, 100, 100, 100, 100, 100, 100, 100, 100, 100, 100, 100, 100, 100, 100, 100, 100, 100, 100, 100, 100, 100, 100, 100, 100, 100, 100, 100, 100, 100, 100, 100, 100, 100, 100, 100, 100, 100, 100, 100, 100, 100, 100, 100, 100, 100, 100, 100, 100, 100, 100, 100, 100, 100, 100, 100, 100, 100, 100, 100, 100, 100, 100, 100, 100, 100, 100, 100, 100, 100, 100, 100, 100, 100, 100, 100, 100, 100, 100, 100, 100, 100, 100, 100, 100, 100, 100, 100, 100, 100, 100, 100, 100, 100, 100, 100, 100, 100, 100, 100, 100, 100, 100, 100, 100, 100, 100, 100, 100, 100, 100, 100, 100, 100, 100, 100, 100, 100, 100, 100, 100, 100, 100, 100, 100, 100, 100, 100, 100, 100, 100, 100, 100, 100, 100, 100, 100, 100, 100, 100, 100, 100, 100, 100, 100, 100, 100, 100, 100, 100, 100, 100, 100, 100, 100, 100, 100, 100, 100, 100, 100, 100, 100, 100, 100, 100, 100, 100, 100, 100, 100, 100, 100, 100, 100, 100, 100, 100, 100, 100, 100, 100, 100, 100, 100, 100, 100, 100, 100, 100, 100, 100, 100, 100, 100, 100, 100, 100, 100, 100, 100, 100, 100, 100, 100, 100, 100, 100, 100, 100, 100, 100, 100, 100, 100, 100, 100, 100, 100, 100, 100, 100, 100, 100, 100, 100, 100, 100, 100, 100, 100, 100, 100, 100, 100, 100, 100, 100, 100, 100, 100, 100, 100, 100, 100, 100, 100, 100, 100, 100, 100, 100, 100, 100, 100, 100, 100, 100, 100, 100, 100, 100, 100, 100, 100, 100, 100, 100, 100, 100, 100, 100, 100, 100, 100, 100, 100, 100, 100, 100, 100, 100, 100, 100, 100, 100, 100, 100, 100, 100, 100, 100, 100, 100, 100, 100, 100, 100, 100, 100, 100, 100, 100, 100, 100, 100, 100, 100, 100, 100, 100, 100, 100, 100, 100, 100, 100, 100, 100, 100, 100, 100, 100, 100, 100, 100, 100, 100, 100, 100, 100, 100, 100, 100, 100, 100, 100, 100, 100, 100, 100, 100, 100, 100, 100, 100, 100, 100, 100, 100, 100, 100, 100, 100, 100, 100, 100, 100, 100, 100, 100, 100, 100, 100, 100, 100, 100, 100, 100, 100, 100, 100, 100, 100, 100, 100, 100, 100, 100, 100, 100, 100, 100, 100, 100, 100, 100, 100, 100, 100, 100, 100, 100, 100, 100, 100, 100, 100, 100, 100, 100, 100, 100, 100, 100, 100, 100, 100, 100, 100, 100, 100, 100, 100, 100, 100, 100, 100, 100, 100, 100, 100, 100, 100, 100, 100, 100, 100, 100, 100, 100, 100, 100, 100, 100, 100, 100, 100, 100, 100, 100, 100, 100, 100, 100, 100, 100, 100, 100, 100, 100, 100, 100, 100, 100, 100, 100, 100, 100, 100, 100, 100, 100, 100, 100, 100, 100, 100, 100, 100, 100, 100, 100, 100, 100, 100, 100, 100, 100, 100, 100, 100, 100, 100, 100, 100, 100, 100, 100, 100, 100, 100, 100, 100, 100, 100, 100, 100, 100, 100, 100, 100, 100, 100, 100, 100, 100, 100, 100, 100, 100, 100]\n",
      "13968.540873760705\n",
      "[10095.238095238095, 10265.238095238095, 10360.47619047619, 10455.714285714286, 10570.714285714286, 10470.714285714286, 10554.04761904762, 10705.04761904762, 10860.04761904762, 10934.121693121695, 10834.121693121695, 10954.121693121695, 10854.121693121695, 10754.121693121695, 10845.030784030785, 10928.364117364119, 10999.79268879269, 10899.79268879269, 10962.29268879269, 11026.808817824947, 11093.475484491613, 10993.475484491613, 10893.475484491613, 10793.475484491613, 10846.107063438982, 10908.607063438982, 10808.607063438982, 10871.107063438982, 10771.107063438982, 10833.607063438982, 10733.607063438982, 10796.107063438982, 10696.107063438982, 10779.440396772316, 10679.440396772316, 10579.440396772316, 10659.440396772316, 10714.99595232787, 10770.551507883425, 10831.157568489485, 10731.157568489485, 10821.247658579576, 10721.247658579576, 10621.247658579576, 10521.247658579576, 10421.247658579576, 10584.247658579576, 10484.247658579576, 10384.247658579576, 10458.32173265365, 10558.32173265365, 10678.32173265365, 10749.750304082221, 10802.38188302959, 10702.38188302959, 10851.38188302959, 10751.38188302959, 10651.38188302959, 10551.38188302959, 10681.38188302959, 10581.38188302959, 10481.38188302959, 10381.38188302959, 10281.38188302959, 10181.38188302959, 10081.38188302959, 9981.38188302959, 9881.38188302959, 9781.38188302959, 9870.667597315303, 9770.667597315303, 9895.667597315303, 10020.667597315303, 10145.667597315303, 10270.667597315303, 10395.667597315303, 10520.667597315303, 10645.667597315303, 10770.667597315303, 10962.667597315303, 11019.81045445816, 10919.81045445816, 10982.31045445816, 11044.81045445816, 10944.81045445816, 10844.81045445816, 10744.81045445816, 10644.81045445816, 10544.81045445816, 10444.81045445816, 10344.81045445816, 10244.81045445816, 10294.81045445816, 10194.81045445816, 10299.81045445816, 10360.41651506422, 10460.41651506422, 10551.32560597331, 10651.32560597331, 10717.992272639976, 10794.915349563053, 10907.915349563053, 10976.880866804431, 11048.309438233002, 10948.309438233002, 10848.309438233002, 10939.218529142092, 11016.141606065168, 10916.141606065168, 10816.141606065168, 10716.141606065168, 10803.098127804298, 10890.054649543428, 10790.054649543428, 10877.011171282558, 10777.011171282558, 10863.967693021688, 10763.967693021688, 10850.924214760818, 10750.924214760818, 10650.924214760818, 10753.924214760818, 10653.924214760818, 10753.924214760818, 10653.924214760818, 10727.998288834893, 10842.998288834893, 10742.998288834893, 10642.998288834893, 10542.998288834893, 10442.998288834893, 10342.998288834893, 10242.998288834893, 10142.998288834893, 10042.998288834893, 9942.998288834893, 9842.998288834893, 9742.998288834893, 9642.998288834893, 9714.426860263464, 9791.34993718654, 9868.273014109616, 9937.238531350995, 9837.238531350995, 9737.238531350995, 9803.905198017661, 9703.905198017661, 9790.861719756791, 9690.861719756791, 9738.480767375839, 9638.480767375839, 9753.480767375839, 9868.480767375839, 9983.480767375839, 10098.480767375839, 10213.480767375839, 10328.480767375839, 10443.480767375839, 10558.480767375839, 10458.480767375839, 10558.480767375839, 10619.086827981899, 10679.692888587959, 10579.692888587959, 10635.248444143514, 10535.248444143514, 10435.248444143514, 10515.248444143514, 10560.70298959806, 10460.70298959806, 10360.70298959806, 10260.70298959806, 10160.70298959806, 10251.61208050715, 10331.61208050715, 10390.435609918914, 10290.435609918914, 10377.392131658044, 10457.392131658044, 10357.392131658044, 10502.392131658044, 10402.392131658044, 10522.392131658044, 10591.357648899422, 10658.024315566088, 10558.024315566088, 10610.655894513457, 10730.655894513457, 10630.655894513457, 10684.70994856751, 10584.70994856751, 10484.70994856751, 10556.13851999608, 10456.13851999608, 10507.420571278131, 10560.0521502255, 10460.0521502255, 10547.00867196463, 10447.00867196463, 10347.00867196463, 10247.00867196463, 10367.00867196463, 10457.91776287372, 10357.91776287372, 10257.91776287372, 10367.91776287372, 10467.91776287372, 10367.91776287372, 10267.91776287372, 10312.362207318165, 10212.362207318165, 10279.028873984831, 10350.457445413402, 10480.457445413402, 10542.957445413402, 10611.92296265478, 10511.92296265478, 10588.846039577857, 10698.846039577857, 10778.846039577857, 10678.846039577857, 10578.846039577857, 10669.755130486947, 10738.720647728325, 10638.720647728325, 10538.720647728325, 10438.720647728325, 10338.720647728325, 10407.686164969704, 10474.35283163637, 10551.275908559446, 10622.704479988017, 10699.627556911093, 10599.627556911093, 10686.584078650223, 10781.822173888319, 10872.731264797409, 10992.731264797409, 11122.731264797409, 11185.231264797409, 11259.305338871483, 11159.305338871483, 11294.305338871483, 11377.638672204817, 11477.638672204817, 11377.638672204817, 11277.638672204817, 11364.595193943947, 11414.595193943947, 11314.595193943947, 11214.595193943947, 11319.595193943947, 11410.504284853037, 11460.504284853037, 11508.123332472085, 11591.45666580542, 11706.45666580542, 11606.45666580542, 11506.45666580542, 11562.012221360974, 11462.012221360974, 11533.440792789545, 11587.494846843598, 11687.494846843598, 11587.494846843598, 11674.451368582728, 11574.451368582728, 11657.784701916062, 11711.838755970115, 11611.838755970115, 11511.838755970115, 11578.505422636781, 11478.505422636781, 11532.559476690834, 11432.559476690834, 11332.559476690834, 11437.559476690834, 11337.559476690834, 11442.559476690834, 11533.468567599924, 11433.468567599924, 11538.468567599924, 11438.468567599924, 11525.425089339054, 11640.425089339054, 11540.425089339054, 11593.056668286423, 11662.022185527801, 11752.931276436891, 11652.931276436891, 11700.55032405594, 11600.55032405594, 11691.45941496503, 11816.45941496503, 11866.45941496503, 11766.45941496503, 11820.513469019083, 11883.013469019083, 11954.442040447653, 11854.442040447653, 11909.997596003208, 11976.664262669874, 12091.664262669874, 11991.664262669874, 12071.664262669874, 12127.219818225429, 12207.219818225429, 12107.219818225429, 12007.219818225429, 11907.219818225429, 11807.219818225429, 11707.219818225429, 11607.219818225429, 11654.838865844476, 11554.838865844476, 11641.795387583606, 11541.795387583606, 11591.795387583606, 11647.350943139161, 11752.350943139161, 11839.307464878291, 11739.307464878291, 11639.307464878291, 11726.263986617421, 11626.263986617421, 11695.2295038588, 11775.2295038588, 11844.195021100179, 11927.528354433513, 11996.493871674891, 11896.493871674891, 11796.493871674891, 11696.493871674891, 11596.493871674891, 11496.493871674891, 11396.493871674891, 11296.493871674891, 11196.493871674891, 11279.827205008225, 11363.160538341559, 11446.493871674893, 11529.827205008227, 11613.16053834156, 11696.493871674895, 11779.827205008229, 11863.160538341563, 11763.160538341563, 11854.069629250653, 11914.675689856713, 11814.675689856713, 11905.584780765803, 11805.584780765803, 11896.493871674893, 11796.493871674893, 11887.402962583983, 11787.402962583983, 11878.312053493073, 11958.312053493073, 12017.135582904837, 12072.691138460392, 12187.691138460392, 12087.691138460392, 12130.244329949754, 12221.153420858844, 12346.153420858844, 12246.153420858844, 12146.153420858844, 12217.581992287414, 12278.188052893474, 12178.188052893474, 12255.11112981655, 12395.11112981655, 12295.11112981655, 12195.11112981655, 12264.07664705793, 12330.743313724595, 12410.743313724595, 12310.743313724595, 12410.743313724595, 12466.29886928015, 12586.29886928015, 12486.29886928015, 12386.29886928015, 12486.29886928015, 12533.917916899198, 12633.917916899198, 12533.917916899198, 12610.840993822274, 12735.840993822274, 12635.840993822274, 12678.394185311636, 12578.394185311636, 12478.394185311636, 12555.317262234712, 12455.317262234712, 12355.317262234712, 12396.133588765324, 12487.042679674414, 12387.042679674414, 12487.042679674414, 12547.648740280474, 12447.648740280474, 12347.648740280474, 12408.254800886534, 12308.254800886534, 12395.211322625664, 12442.830370244712, 12519.753447167788, 12419.753447167788, 12514.991542405884, 12414.991542405884, 12314.991542405884, 12362.610590024931, 12262.610590024931, 12336.684664099006, 12392.24021965456, 12292.24021965456, 12379.19674139369, 12279.19674139369, 12179.19674139369, 12216.233778430727, 12278.733778430727, 12355.656855353804, 12418.156855353804, 12489.585426782374, 12522.918760115708, 12422.918760115708, 12322.918760115708, 12222.918760115708, 12122.918760115708, 12022.918760115708, 12083.524820721768, 12128.979366176314, 12028.979366176314, 11928.979366176314, 12005.90244309939, 12085.90244309939, 11985.90244309939, 11885.90244309939, 11965.90244309939, 11865.90244309939, 11928.40244309939, 11828.40244309939, 11887.225972511154, 11939.857551458523, 11839.857551458523, 11919.857551458523, 11819.857551458523, 11878.681080870287, 11778.681080870287, 11818.681080870287, 11905.637602609417, 12035.637602609417, 12190.637602609417, 12090.637602609417, 11990.637602609417, 12130.637602609417, 12193.137602609417, 12323.137602609417, 12223.137602609417, 12333.137602609417, 12391.96113202118, 12511.96113202118, 12586.035206095255, 12486.035206095255, 12572.991727834386, 12472.991727834386, 12577.991727834386, 12640.491727834386, 12540.491727834386, 12440.491727834386, 12340.491727834386, 12407.158394501052, 12461.212448555105, 12530.177965796483, 12617.134487535614, 12704.091009274744, 12604.091009274744, 12691.047531013874, 12749.871060425638, 12812.371060425638, 12712.371060425638, 12795.704393758971, 12886.613484668062, 12973.570006407192, 13056.903339740526, 13117.509400346586, 13176.33292975835, 13076.33292975835, 12976.33292975835, 13018.886121247711, 12918.886121247711, 12818.886121247711, 12718.886121247711, 12795.809198170788, 12695.809198170788, 12595.809198170788, 12679.142531504122, 12716.179568541158, 12616.179568541158, 12516.179568541158, 12416.179568541158, 12316.179568541158, 12216.179568541158, 12116.179568541158, 12016.179568541158, 11916.179568541158, 11816.179568541158, 11890.253642615233, 11942.885221562601, 11983.701548093213, 12148.701548093213, 12217.667065334592, 12294.590142257668, 12361.256808924334, 12432.685380352905, 12332.685380352905, 12432.685380352905, 12491.508909764669, 12545.562963818722, 12445.562963818722, 12345.562963818722, 12408.062963818722, 12308.062963818722, 12208.062963818722, 12468.062963818722, 12518.062963818722, 12678.062963818722, 12578.062963818722, 12738.062963818722, 12638.062963818722, 12798.062963818722, 12698.062963818722, 12858.062963818722, 12758.062963818722, 12658.062963818722, 12558.062963818722, 12458.062963818722, 12358.062963818722, 12258.062963818722, 12318.669024424782, 12372.723078478835, 12477.723078478835, 12572.96117371693, 12631.784703128695, 12531.784703128695, 12590.608232540459, 12490.608232540459, 12390.608232540459, 12555.608232540459, 12609.662286594512, 12665.217842150067, 12756.126933059157, 12656.126933059157, 12556.126933059157, 12686.126933059157, 12836.126933059157, 12916.126933059157, 12816.126933059157, 12716.126933059157, 12616.126933059157, 12676.732993665217, 12576.732993665217, 12476.732993665217, 12519.286185154579, 12419.286185154579, 12524.286185154579, 12424.286185154579, 12324.286185154579, 12395.71475658315, 12464.680273824528, 12555.589364733618, 12455.589364733618, 12508.220943680986, 12582.295017755061, 12665.628351088395, 12565.628351088395, 12624.451880500159, 12693.417397741538, 12593.417397741538, 12688.655492979633, 12588.655492979633, 12633.099937424078, 12699.766604090744, 12599.766604090744, 12704.766604090744, 12809.766604090744, 12914.766604090744, 13019.766604090744, 13124.766604090744, 13229.766604090744, 13334.766604090744, 13439.766604090744, 13530.675694999834, 13573.228886489196, 13618.683431943742, 13702.016765277076, 13788.973287016206, 13688.973287016206, 13588.973287016206, 13488.973287016206, 13388.973287016206, 13288.973287016206, 13188.973287016206, 13088.973287016206, 12988.973287016206, 12888.973287016206, 12933.417731460651, 12833.417731460651, 12733.417731460651, 12633.417731460651, 12675.970922950013, 12718.524114439375, 12761.077305928737, 12803.630497418098, 12846.18368890746, 12888.736880396822, 12931.290071886184, 12973.843263375546, 13057.17659670888, 13135.30159670888, 13035.30159670888, 13126.21068761797, 13171.665233072516, 13071.665233072516, 12971.665233072516, 13062.574323981606, 13116.628378035659, 13016.628378035659, 13088.05694946423, 12988.05694946423, 13068.05694946423, 12968.05694946423, 13039.4855208928, 12939.4855208928, 13013.559594966875, 13096.892928300209, 13170.967002374284, 13247.89007929736, 13287.89007929736, 13187.89007929736, 13087.89007929736, 12987.89007929736, 13037.89007929736, 13157.89007929736, 13057.89007929736, 13116.713608709124, 13159.266800198486, 13264.266800198486, 13341.189877121562, 13424.523210454896, 13324.523210454896, 13378.57726450895, 13278.57726450895, 13350.00583593752, 13250.00583593752, 13150.00583593752, 13226.928912860596, 13303.851989783672, 13370.518656450338, 13433.018656450338, 13333.018656450338, 13407.092730524413, 13490.426063857747, 13585.664159095842, 13657.092730524413, 13728.521301952984, 13799.949873381554, 13871.378444810125, 13942.807016238696, 14014.235587667266, 14085.664159095837, 14157.092730524408, 14209.724309471776, 14272.224309471776, 14367.462404709871, 14267.462404709871, 14397.462404709871, 14297.462404709871, 14427.462404709871, 14327.462404709871, 14457.462404709871, 14357.462404709871, 14487.462404709871, 14387.462404709871, 14461.536478783946, 14361.536478783946, 14428.203145450612, 14328.203145450612, 14228.203145450612, 14315.159667189742, 14215.159667189742, 14277.659667189742, 14177.659667189742, 14249.088238618313, 14149.088238618313, 14236.044760357443, 14283.66380797649, 14183.66380797649, 14242.487337388255, 14142.487337388255, 14190.106385007302, 14090.106385007302, 13990.106385007302, 14024.589143627993, 14119.827238866088, 14165.281784320634, 14225.887844926694, 14275.887844926694, 14336.493905532754, 14379.047097022116, 14279.047097022116, 14326.666144641164, 14226.666144641164, 14269.219336130525, 14319.219336130525, 14385.886002797191, 14285.886002797191, 14348.386002797191, 14248.386002797191, 14292.830447241637, 14340.449494860684, 14240.449494860684, 14307.11616152735, 14365.939690939114, 14424.763220350878, 14483.586749762642, 14542.410279174406, 14601.23380858617, 14660.057337997934, 14718.880867409698, 14777.704396821462, 14816.165935283001, 14716.165935283001, 14767.447986565052, 14806.663672839562, 14852.118218294108, 14903.40026957616, 14948.854815030705, 15004.41037058626, 14904.41037058626, 14940.774006949896, 14840.774006949896, 14740.774006949896, 14827.730528689026, 14888.336589295086, 14788.336589295086, 14843.89214485064, 14743.89214485064, 14643.89214485064, 14720.815221773717, 14770.815221773717, 14809.276760235256, 14929.276760235256, 14988.10028964702, 14888.10028964702, 14938.10028964702, 14838.10028964702, 14896.923819058784, 14980.257152392118, 15018.718690853657, 14918.718690853657, 15068.718690853657, 15198.718690853657, 15098.718690853657, 15134.432976567943, 15211.35605349102, 15263.987632438388, 15163.987632438388, 15063.987632438388, 14963.987632438388, 14863.987632438388, 14763.987632438388, 14663.987632438388, 14563.987632438388, 14463.987632438388, 14363.987632438388, 14263.987632438388, 14322.811161850152, 14372.811161850152, 14407.293920470842, 14487.293920470842, 14387.293920470842, 14287.293920470842, 14356.25943771222, 14430.333511786295, 14521.242602695385, 14421.242602695385, 14483.742602695385, 14383.742602695385, 14283.742602695385, 14333.742602695385, 14233.742602695385, 14324.651693604475, 14383.47522301624, 14283.47522301624, 14183.47522301624, 14227.919667460685, 14286.743196872449, 14332.197742326995, 14232.197742326995, 14291.021271738759, 14191.021271738759, 14220.433036444641, 14268.05208406369, 14308.05208406369, 14353.506629518235, 14398.961174972781, 14457.784704384545, 14494.148340748181, 14394.148340748181, 14294.148340748181, 14339.602886202727, 14398.42641561449, 14442.870860058936, 14342.870860058936, 14242.870860058936, 14142.870860058936, 14201.6943894707, 14275.768463544775, 14371.00655878287, 14400.418323488753, 14487.374845227883, 14387.374845227883, 14447.980905833943, 14347.980905833943, 14388.797232364555, 14288.797232364555, 14188.797232364555, 14288.797232364555, 14188.797232364555, 14088.797232364555, 14144.35278792011, 14044.35278792011, 13944.35278792011, 13844.35278792011, 13898.406841974163, 13929.656841974163, 13974.101286418609, 14040.767953085275, 14094.822007139328, 14224.822007139328, 14270.276552593874, 14170.276552593874, 14212.829744083236, 14112.829744083236, 14175.329744083236, 14075.329744083236, 14115.329744083236, 14015.329744083236, 13915.329744083236, 13815.329744083236, 13715.329744083236, 13615.329744083236, 13515.329744083236, 13586.758315511806, 13639.389894459175, 13722.723227792509, 13756.056561125843, 13818.556561125843, 13718.556561125843, 13805.513082864973, 13705.513082864973, 13782.436159788049, 13682.436159788049, 13582.436159788049, 13482.436159788049, 13519.473196825085, 13419.473196825085, 13496.396273748162, 13396.396273748162, 13455.219803159926, 13514.04333257169, 13414.04333257169, 13529.04333257169, 13429.04333257169, 13484.598888127244, 13384.598888127244, 13284.598888127244, 13184.598888127244, 13289.598888127244, 13352.098888127244, 13403.380939409295, 13450.999987028343, 13350.999987028343, 13455.999987028343, 13524.965504269721, 13576.247555551772, 13476.247555551772, 13376.247555551772, 13276.247555551772, 13411.247555551772, 13311.247555551772, 13356.702101006318, 13466.702101006318, 13511.146545450763, 13602.055636359853, 13732.055636359853, 13787.611191915408, 13878.520282824498, 13778.520282824498, 13678.520282824498, 13737.343812236262, 13637.343812236262, 13757.343812236262, 13657.343812236262, 13557.343812236262, 13457.343812236262, 13502.798357690808, 13402.798357690808, 13489.754879429938, 13389.754879429938, 13439.754879429938, 13339.754879429938, 13393.808933483991, 13454.414994090052, 13516.914994090052, 13562.369539544598, 13677.369539544598, 13577.369539544598, 13477.369539544598, 13514.406576581634, 13414.406576581634, 13451.44361361867, 13351.44361361867, 13388.480650655707, 13288.480650655707, 13325.517687692743, 13225.517687692743, 13125.517687692743, 13025.517687692743, 13105.517687692743, 13005.517687692743, 13043.979226154283, 13088.423670598728, 12988.423670598728, 13041.055249546096, 12941.055249546096, 12841.055249546096, 12893.686828493464, 12793.686828493464, 12693.686828493464, 12767.76090256754, 12917.76090256754, 13032.76090256754, 12932.76090256754, 13047.76090256754, 12947.76090256754, 13062.76090256754, 12962.76090256754, 13077.76090256754, 12977.76090256754, 12877.76090256754, 12949.18947399611, 13124.18947399611, 13211.14599573524, 13111.14599573524, 13286.14599573524, 13366.14599573524, 13266.14599573524, 13311.600541189786, 13501.600541189786, 13568.267207856452, 13610.820399345814, 13697.776921084944, 13597.776921084944, 13497.776921084944, 13525.945935169451, 13568.499126658813, 13468.499126658813, 13368.499126658813, 13405.53616369585, 13461.091719251404, 13361.091719251404, 13261.091719251404, 13303.644910740766, 13346.198102230128, 13376.501132533158, 13414.236981589762, 13466.86856053713, 13562.106655775226, 13617.66221133078, 13517.66221133078, 13417.66221133078, 13317.66221133078, 13217.66221133078, 13276.485740742544, 13176.485740742544, 13224.104788361592, 13124.104788361592, 13024.104788361592, 12924.104788361592, 12958.587546982282, 13118.587546982282, 13018.587546982282, 13057.803233256793, 12957.803233256793, 13037.803233256793, 13167.803233256793, 13217.803233256793, 13269.085284538844, 13169.085284538844, 13294.085284538844, 13374.085284538844, 13412.546823000383, 13471.370352412147, 13562.279443321237, 13631.244960562615, 13683.876539509984, 13583.876539509984, 13639.432095065538, 13759.432095065538, 13810.71414634759, 13710.71414634759, 13764.768200401642, 13664.768200401642, 13748.101533734976, 13648.101533734976, 13710.601533734976, 13610.601533734976, 13510.601533734976, 13620.601533734976, 13715.839628973072, 13615.839628973072, 13654.30116743461, 13716.80116743461, 13812.039262672706, 13712.039262672706, 13612.039262672706, 13512.039262672706, 13412.039262672706, 13312.039262672706, 13395.37259600604, 13425.67562630907, 13515.76571639916, 13634.76571639916, 13687.12173734157, 13792.12173734157, 13692.12173734157, 13592.12173734157, 13632.12173734157, 13757.12173734157, 13819.62173734157, 13886.288404008235, 13948.788404008235, 13848.788404008235, 13748.788404008235, 13844.02649924633, 13871.804277024108, 13923.086328306159, 13968.540873760705]\n"
     ]
    },
    {
     "data": {
      "image/png": "[encoded data removed]",
      "text/plain": [
       "<Figure size 640x480 with 1 Axes>"
      ]
     },
     "metadata": {},
     "output_type": "display_data"
    }
   ],
   "source": [
    "date1, date2 = 20210101, 20220101\n",
    "subset_df = merged_player_dataframe[(merged_player_dataframe['date'] >= date1) & (merged_player_dataframe['date'] <= date2)]\n",
    "\n",
    "player_list = subset_df['lineup'].to_frame()\n",
    "\n",
    "results, bets, skipped = predict_game_outcome(player_list, train_player_data, model, augment=False, scaler=1, base_bet=100)\n",
    "\n",
    "final_bets = generate_bets(results, bets, subset_df, skipped)\n",
    "\n",
    "print('Number of games: ', len(subset_df))\n",
    "print('Predictions: ', results)\n",
    "print('Bets: ', bets)\n",
    "\n",
    "wallet_balance, wallet_balance_history = simulate_betting_season(final_bets, merged_dataframes)\n",
    "print(wallet_balance)\n",
    "print(wallet_balance_history)\n",
    "plt.plot(wallet_balance_history)\n",
    "plt.title('Wallet Balance Over Betting Season')\n",
    "plt.xlabel('Bets')\n",
    "plt.ylabel('Wallet Balance')\n",
    "plt.show()"
   ]
  },
  {
   "cell_type": "markdown",
   "metadata": {},
   "source": [
    "# Misc"
   ]
  },
  {
   "cell_type": "code",
   "execution_count": 33,
   "metadata": {},
   "outputs": [
    {
     "name": "stdout",
     "output_type": "stream",
     "text": [
      "Missing players: ['l', 'i', 'n', 'e', 'u', 'p']\n"
     ]
    },
    {
     "data": {
      "text/plain": [
       "6"
      ]
     },
     "execution_count": 33,
     "metadata": {},
     "output_type": "execute_result"
    }
   ],
   "source": [
    "missing_players = check_missing_players(player_list, train_player_data)\n",
    "print('Missing players:', missing_players)\n",
    "len(missing_players)"
   ]
  },
  {
   "cell_type": "code",
   "execution_count": null,
   "metadata": {},
   "outputs": [],
   "source": [
    "# train_dataset = vector_dataset(X_train_resampled, y_train_resampled)\n",
    "# instantiate the random undersampler\n",
    "#rus = RandomUnderSampler(random_state=42)\n",
    "\n",
    "# instantiate SMOTE\n",
    "#smote = SMOTE(random_state=42)\n",
    "\n",
    "# resample X_train and y_train using undersampling\n",
    "#X_train_resampled, y_train_resampled = rus.fit_resample(X_train, y_train)\n",
    "\n",
    "# resample X_train and y_train using SMOTE\n",
    "#X_train_smote, y_train_smote = smote.fit_resample(X_train, y_train)\n",
    "\n",
    "# print the new class distribution after undersampling\n",
    "#print('Resampled dataset shape after undersampling %s' % len(X_train_resampled))\n",
    "\n",
    "# print the new class distribution after SMOTE\n",
    "#print('Resampled dataset shape after SMOTE %s' % len(X_train_smote))"
   ]
  }
 ],
 "metadata": {
  "kernelspec": {
   "display_name": "Python 3",
   "language": "python",
   "name": "python3"
  },
  "language_info": {
   "codemirror_mode": {
    "name": "ipython",
    "version": 3
   },
   "file_extension": ".py",
   "mimetype": "text/x-python",
   "name": "python",
   "nbconvert_exporter": "python",
   "pygments_lexer": "ipython3",
   "version": "3.10.11"
  }
 },
 "nbformat": 4,
 "nbformat_minor": 2
}
