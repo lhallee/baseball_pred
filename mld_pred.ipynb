{
 "cells": [
  {
   "cell_type": "markdown",
   "metadata": {},
   "source": [
    "# Imports"
   ]
  },
  {
   "cell_type": "code",
   "execution_count": 2,
   "metadata": {},
   "outputs": [],
   "source": [
    "import torch\n",
    "import torch.nn as nn\n",
    "import torch.optim as optim\n",
    "import pandas as pd\n",
    "import numpy as np\n",
    "import matplotlib.pyplot as plt\n",
    "from glob import glob\n",
    "from tqdm.auto import tqdm\n",
    "from featureranker.utils import *\n",
    "from featureranker.plots import *\n",
    "from featureranker.rankers import *\n",
    "from sklearn.preprocessing import LabelEncoder\n",
    "from sklearn.model_selection import GridSearchCV\n",
    "from sklearn import svm\n",
    "from sklearn.metrics import confusion_matrix, accuracy_score, classification_report, ConfusionMatrixDisplay\n",
    "from sklearn.preprocessing import StandardScaler\n",
    "from imblearn.under_sampling import RandomUnderSampler\n",
    "from imblearn.over_sampling import SMOTE\n",
    "from torch.utils.data import Dataset, DataLoader\n",
    "\n",
    "import warnings\n",
    "warnings.filterwarnings('ignore')"
   ]
  },
  {
   "cell_type": "markdown",
   "metadata": {},
   "source": [
    "# Functions"
   ]
  },
  {
   "cell_type": "code",
   "execution_count": 3,
   "metadata": {},
   "outputs": [],
   "source": [
    "# functions\n",
    "def get_names(df, start, stop):\n",
    "    player_list = []\n",
    "    drop_list = df.iloc[:, start:stop:3].columns.tolist()\n",
    "    name_df = df.drop(drop_list, axis=1, inplace=False)\n",
    "    name_df = name_df.iloc[:, start:stop-len(drop_list)]\n",
    "    for i in range(len(name_df)):\n",
    "        players = name_df.iloc[i].tolist()\n",
    "        players_sorted = [players[j] for j in range(0, len(players), 2)]\n",
    "        players_sorted.sort(key=lambda x: players[players.index(x) + 1])\n",
    "        player_list.append(players_sorted)\n",
    "    return player_list\n",
    "\n",
    "\n",
    "def list_stacker(pitchers, players):\n",
    "    for i in range(len(pitchers)):\n",
    "        players[i].insert(0, pitchers[i])\n",
    "    return players\n",
    "\n",
    "\n",
    "def get_game_data(paths):\n",
    "    all_data = []\n",
    "    for i in range(len(paths)):\n",
    "        df = pd.read_csv(paths[i], header=None)\n",
    "        visiting_players = get_names(df, 105, 132)\n",
    "        home_players = get_names(df, 132, 159)\n",
    "        home_pitchers = df.iloc[:, 104].tolist()\n",
    "        visiting_pitchers = df.iloc[:, 102].tolist()\n",
    "        visiting_players = list_stacker(visiting_pitchers, visiting_players)\n",
    "        home_players = list_stacker(home_pitchers, home_players)\n",
    "        visiting_scores = df.iloc[:, 9].tolist()\n",
    "        home_scores = df.iloc[:, 10].tolist()\n",
    "        all_data.extend(list(zip(visiting_players, home_players, visiting_scores, home_scores)))\n",
    "    return all_data\n",
    "\n",
    "\n",
    "def get_player_data(paths):\n",
    "    le = LabelEncoder()\n",
    "    player_dfs = []\n",
    "    for path in paths:\n",
    "        df = pd.read_csv(path)\n",
    "        df['Team'] = le.fit_transform(df['Team'])\n",
    "        if 'Pos' in df.columns:\n",
    "            df['Pos'] = le.fit_transform(df['Pos'])\n",
    "        if 'Batters' not in path:\n",
    "            df['ExtraCol1'] = 0\n",
    "            df['ExtraCol2'] = 0\n",
    "            df['ExtraCol3'] = 0\n",
    "        df.columns = ['Player'] + list(range(len(df.columns) - 1))\n",
    "        df['Player'] = df['Player'].str.lower()\n",
    "        player_dfs.append(df)\n",
    "    combined_player = pd.concat(player_dfs)\n",
    "    combined_player = combined_player.groupby('Player', as_index=False).mean()\n",
    "    final_player = combined_player.set_index('Player').T.to_dict('list')\n",
    "    return final_player\n",
    "\n",
    "\n",
    "def get_example(game, player_data):\n",
    "    visiting_players = game[0]\n",
    "    home_players = game[1]\n",
    "    visiting_vector = [player_data[player.lower()] for player in visiting_players]\n",
    "    home_vector = [player_data[player.lower()] for player in home_players]\n",
    "    stacked_vector = [item for sublist in visiting_vector + home_vector for item in sublist]\n",
    "    if game[2] > game[3]:\n",
    "        label = 0\n",
    "    else:\n",
    "        label = 1\n",
    "    return stacked_vector, label\n",
    "\n",
    "\n",
    "def generate_vectors_and_labels(game_data, player_data):\n",
    "    vectors, labels = [], []\n",
    "    for game in tqdm(game_data):\n",
    "        try:\n",
    "            vector, label = get_example(game, player_data)\n",
    "            if np.isnan(vector).any() or np.isnan(label):\n",
    "                continue\n",
    "            vectors.append(vector)\n",
    "            labels.append(label)\n",
    "        except:\n",
    "            continue\n",
    "    return pd.DataFrame(np.array(vectors)), pd.DataFrame(np.array(labels))\n",
    "\n",
    "\n",
    "def generate_vector(game, player_data):\n",
    "    visiting_players = game[0]\n",
    "    home_players = game[1]\n",
    "    visiting_vector = [player_data[player.lower()] for player in visiting_players]\n",
    "    home_vector = [player_data[player.lower()] for player in home_players]\n",
    "    vector = [item for sublist in visiting_vector + home_vector for item in sublist]\n",
    "    return np.array(vector)\n",
    "\n",
    "\n",
    "# NN\n",
    "class vector_dataset(Dataset):\n",
    "    def __init__(self, X, y):\n",
    "        self.X = np.array(X)\n",
    "        self.y = np.array(y)\n",
    "\n",
    "    def __len__(self):\n",
    "        return len(self.y)\n",
    "    \n",
    "    def __getitem__(self, idx):\n",
    "        vec = torch.tensor(self.X[idx], dtype=torch.float)\n",
    "        label = torch.tensor(self.y[idx], dtype=torch.long)\n",
    "        return vec, label\n",
    "\n",
    "\n",
    "class neural_net(nn.Module):\n",
    "    def __init__(self, input_size, hidden_size, hidden_num, output_size, dropout_rate):\n",
    "        super(neural_net, self).__init__()\n",
    "        self.gelu = nn.GELU()\n",
    "        self.dropout = nn.Dropout(dropout_rate)\n",
    "        self.hidden_num = hidden_num\n",
    "        self.input_layer = nn.Linear(input_size, hidden_size)\n",
    "        self.hidden_layers = nn.ModuleList()\n",
    "        for i in range(hidden_num):\n",
    "            self.hidden_layers.append(nn.Linear(hidden_size, hidden_size))\n",
    "        self.output_layer = nn.Linear(hidden_size, output_size)\n",
    "\n",
    "    def forward(self, x):\n",
    "        x = self.gelu(self.input_layer(x))\n",
    "        x = self.dropout(x)\n",
    "        for i in range(self.hidden_num):\n",
    "            x = self.gelu(self.hidden_layers[i](x))\n",
    "            x = self.dropout(x)\n",
    "        x = self.output_layer(x)\n",
    "        return x\n",
    "\n",
    "\n",
    "def train(model,\n",
    "          train_loader,\n",
    "          test_loader,\n",
    "          optimizer,\n",
    "          criterion,\n",
    "          best_model_path='./best_model.pth',\n",
    "          patience=10,\n",
    "          epochs=100):\n",
    "    for epoch in range(epochs):  # number of epochs\n",
    "        model.train()\n",
    "        train_losses = []\n",
    "        for inputs, labels in tqdm(train_loader, desc=f\"Epoch {epoch + 1}\"):\n",
    "            optimizer.zero_grad()\n",
    "            outputs = model(inputs)\n",
    "            loss = criterion(outputs, labels.squeeze())\n",
    "            loss.backward()\n",
    "            optimizer.step()\n",
    "            train_losses.append(loss.item())\n",
    "\n",
    "        avg_train_loss = np.mean(train_losses)\n",
    "        print(f'Training Loss: {avg_train_loss}')\n",
    "\n",
    "        model.eval()\n",
    "        valid_losses = []\n",
    "        with torch.no_grad():\n",
    "            for inputs, labels in test_loader:\n",
    "                outputs = model(inputs)\n",
    "                loss = criterion(outputs, labels.squeeze())\n",
    "                valid_losses.append(loss.item())\n",
    "\n",
    "        avg_valid_loss = np.mean(valid_losses)\n",
    "        print(f'Validation Loss: {avg_valid_loss}')\n",
    "\n",
    "        # Update the best model if validation loss improves\n",
    "        if avg_valid_loss < best_loss:\n",
    "            best_loss = avg_valid_loss\n",
    "            torch.save(model.state_dict(), best_model_path)\n",
    "            patience_counter = 0\n",
    "        else:\n",
    "            patience_counter += 1\n",
    "            if patience_counter >= patience:\n",
    "                print(\"Early stopping triggered\")\n",
    "                break\n",
    "\n",
    "    # Load the best model\n",
    "    model.load_state_dict(torch.load(best_model_path))\n",
    "\n",
    "    # Evaluate the best model\n",
    "    model.eval()\n",
    "    all_preds = []\n",
    "    all_labels = []\n",
    "    with torch.no_grad():\n",
    "        for inputs, labels in test_loader:\n",
    "            outputs = model(inputs)\n",
    "            _, preds = torch.max(outputs, 1)\n",
    "            all_preds.extend(preds.cpu().numpy())\n",
    "            all_labels.extend(labels.cpu().numpy())\n",
    "    return model, all_preds, all_labels\n",
    "\n",
    "\n",
    "def eval(model, games):\n",
    "    total = len(games)\n",
    "    for i, game in enumerate(games):\n",
    "        try:\n",
    "            \n",
    "            if np.isnan(vector).any():\n",
    "            print('NAN in data')\n",
    "    except:\n",
    "        print('Some players were not found')"
   ]
  },
  {
   "cell_type": "markdown",
   "metadata": {},
   "source": [
    "# Load data"
   ]
  },
  {
   "cell_type": "code",
   "execution_count": 4,
   "metadata": {},
   "outputs": [
    {
     "name": "stdout",
     "output_type": "stream",
     "text": [
      "There are no NaN values in the dataset\n",
      "There are no NaN values in the dataset\n",
      "There are no NaN values in the dataset\n",
      "There are no NaN values in the dataset\n",
      "There are no NaN values in the dataset\n",
      "There are no NaN values in the dataset\n",
      "There are no NaN values in the dataset\n",
      "There are no NaN values in the dataset\n",
      "There are no NaN values in the dataset\n",
      "There are no NaN values in the dataset\n",
      "There are no NaN values in the dataset\n",
      "There are no NaN values in the dataset\n",
      "There are no NaN values in the dataset\n",
      "There are no NaN values in the dataset\n",
      "There are no NaN values in the dataset\n",
      "There are no NaN values in the dataset\n",
      "There are no NaN values in the dataset\n",
      "There are no NaN values in the dataset\n"
     ]
    }
   ],
   "source": [
    "player_path = './player_data/'\n",
    "paths = [path.replace('\\\\', '/') for path in glob(player_path + '*.csv')]\n",
    "for path in paths:\n",
    "    df = pd.read_csv(path)\n",
    "    view_data(df)"
   ]
  },
  {
   "cell_type": "code",
   "execution_count": 5,
   "metadata": {},
   "outputs": [
    {
     "data": {
      "application/vnd.jupyter.widget-view+json": {
       "model_id": "6b00aa82babe4ac1a8704be29f3e0e1e",
       "version_major": 2,
       "version_minor": 0
      },
      "text/plain": [
       "  0%|          | 0/27624 [00:00<?, ?it/s]"
      ]
     },
     "metadata": {},
     "output_type": "display_data"
    },
    {
     "data": {
      "application/vnd.jupyter.widget-view+json": {
       "model_id": "cc8a51917ad04a5e8a592b3b5d1976d3",
       "version_major": 2,
       "version_minor": 0
      },
      "text/plain": [
       "  0%|          | 0/2429 [00:00<?, ?it/s]"
      ]
     },
     "metadata": {},
     "output_type": "display_data"
    }
   ],
   "source": [
    "# load data\n",
    "test_year = '2021'\n",
    "game_path = './game_data/'\n",
    "player_path = './player_data/'\n",
    "\n",
    "game_csvs_train = [path.replace('\\\\', '/') for path in glob(game_path + '*.txt') if test_year not in path]\n",
    "game_csvs_test = [path.replace('\\\\', '/') for path in glob(game_path + '*.txt') if test_year in path]\n",
    "\n",
    "player_csvs_train = [path.replace('\\\\', '/') for path in glob(player_path + '*.csv') if test_year not in path]\n",
    "player_csvs_test = [path.replace('\\\\', '/') for path in glob(player_path + '*.csv') if test_year in path]\n",
    "\n",
    "train_game_data = [game for game in get_game_data(game_csvs_train) if game[2] != game[3]]\n",
    "test_game_data = [game for game in get_game_data(game_csvs_test) if game[2] != game[3]]\n",
    "\n",
    "train_player_data = get_player_data(player_csvs_train)\n",
    "test_player_data = get_player_data(player_csvs_test)\n",
    "\n",
    "X_train, y_train = generate_vectors_and_labels(train_game_data, train_player_data)\n",
    "X_test, y_test = generate_vectors_and_labels(test_game_data, test_player_data)\n",
    "\n",
    "scaler = StandardScaler()\n",
    "X_train = scaler.fit_transform(X_train)\n",
    "X_test = scaler.transform(X_test)"
   ]
  },
  {
   "cell_type": "markdown",
   "metadata": {},
   "source": [
    "# Train NN"
   ]
  },
  {
   "cell_type": "code",
   "execution_count": null,
   "metadata": {},
   "outputs": [
    {
     "data": {
      "application/vnd.jupyter.widget-view+json": {
       "model_id": "a4bab9f7a10142f1bf082469f1a6e9b1",
       "version_major": 2,
       "version_minor": 0
      },
      "text/plain": [
       "Epoch 1:   0%|          | 0/190 [00:00<?, ?it/s]"
      ]
     },
     "metadata": {},
     "output_type": "display_data"
    },
    {
     "name": "stdout",
     "output_type": "stream",
     "text": [
      "Training Loss: 0.6842927506095484\n",
      "Validation Loss: 0.6787519774266652\n"
     ]
    },
    {
     "data": {
      "application/vnd.jupyter.widget-view+json": {
       "model_id": "619b83dfc2b848439bbb6cae9bf48d94",
       "version_major": 2,
       "version_minor": 0
      },
      "text/plain": [
       "Epoch 2:   0%|          | 0/190 [00:00<?, ?it/s]"
      ]
     },
     "metadata": {},
     "output_type": "display_data"
    },
    {
     "name": "stdout",
     "output_type": "stream",
     "text": [
      "Training Loss: 0.6723089403227756\n",
      "Validation Loss: 0.6763949990272522\n"
     ]
    },
    {
     "data": {
      "application/vnd.jupyter.widget-view+json": {
       "model_id": "f38d6dc469ed4b54b71014716c929f2c",
       "version_major": 2,
       "version_minor": 0
      },
      "text/plain": [
       "Epoch 3:   0%|          | 0/190 [00:00<?, ?it/s]"
      ]
     },
     "metadata": {},
     "output_type": "display_data"
    },
    {
     "name": "stdout",
     "output_type": "stream",
     "text": [
      "Training Loss: 0.6627314542469226\n",
      "Validation Loss: 0.6691953177962985\n"
     ]
    },
    {
     "data": {
      "application/vnd.jupyter.widget-view+json": {
       "model_id": "e14869f1a9204133a515cf49908868c3",
       "version_major": 2,
       "version_minor": 0
      },
      "text/plain": [
       "Epoch 4:   0%|          | 0/190 [00:00<?, ?it/s]"
      ]
     },
     "metadata": {},
     "output_type": "display_data"
    },
    {
     "name": "stdout",
     "output_type": "stream",
     "text": [
      "Training Loss: 0.652692867580213\n",
      "Validation Loss: 0.6726098890815463\n"
     ]
    },
    {
     "data": {
      "application/vnd.jupyter.widget-view+json": {
       "model_id": "000a489df9bf43a983ee55825d451b67",
       "version_major": 2,
       "version_minor": 0
      },
      "text/plain": [
       "Epoch 5:   0%|          | 0/190 [00:00<?, ?it/s]"
      ]
     },
     "metadata": {},
     "output_type": "display_data"
    },
    {
     "name": "stdout",
     "output_type": "stream",
     "text": [
      "Training Loss: 0.6357242261108599\n",
      "Validation Loss: 0.6952334727559771\n"
     ]
    },
    {
     "data": {
      "application/vnd.jupyter.widget-view+json": {
       "model_id": "c2ae5fc6a9394974bda7d81681b0df46",
       "version_major": 2,
       "version_minor": 0
      },
      "text/plain": [
       "Epoch 6:   0%|          | 0/190 [00:00<?, ?it/s]"
      ]
     },
     "metadata": {},
     "output_type": "display_data"
    },
    {
     "name": "stdout",
     "output_type": "stream",
     "text": [
      "Training Loss: 0.6181881989303388\n",
      "Validation Loss: 0.693275375025613\n"
     ]
    },
    {
     "data": {
      "application/vnd.jupyter.widget-view+json": {
       "model_id": "d76aee6b7b5d471a94aaf67e690d6895",
       "version_major": 2,
       "version_minor": 0
      },
      "text/plain": [
       "Epoch 7:   0%|          | 0/190 [00:00<?, ?it/s]"
      ]
     },
     "metadata": {},
     "output_type": "display_data"
    },
    {
     "name": "stdout",
     "output_type": "stream",
     "text": [
      "Training Loss: 0.5885709141430102\n",
      "Validation Loss: 0.712985424058778\n"
     ]
    },
    {
     "data": {
      "application/vnd.jupyter.widget-view+json": {
       "model_id": "a4d93cc09144466799f52edda9284483",
       "version_major": 2,
       "version_minor": 0
      },
      "text/plain": [
       "Epoch 8:   0%|          | 0/190 [00:00<?, ?it/s]"
      ]
     },
     "metadata": {},
     "output_type": "display_data"
    },
    {
     "name": "stdout",
     "output_type": "stream",
     "text": [
      "Training Loss: 0.5541800818945232\n",
      "Validation Loss: 0.7652790567704609\n",
      "Early stopping triggered\n",
      "Confusion Matrix:\n",
      "[[661 292]\n",
      " [426 411]]\n",
      "Classification Report:\n",
      "              precision    recall  f1-score   support\n",
      "\n",
      "           0       0.61      0.69      0.65       953\n",
      "           1       0.58      0.49      0.53       837\n",
      "\n",
      "    accuracy                           0.60      1790\n",
      "   macro avg       0.60      0.59      0.59      1790\n",
      "weighted avg       0.60      0.60      0.59      1790\n",
      "\n"
     ]
    }
   ],
   "source": [
    "model = neural_net(X_train.shape[1], X_train.shape[1]*2, 2, 2, 0.2)\n",
    "\n",
    "train_dataset = vector_dataset(X_train, y_train)\n",
    "test_dataset = vector_dataset(X_test, y_test)\n",
    "\n",
    "train_loader = DataLoader(train_dataset, batch_size=64, shuffle=True)\n",
    "test_loader = DataLoader(test_dataset, batch_size=64, shuffle=False)\n",
    "\n",
    "optimizer = optim.Adam(model.parameters(), lr=0.0005)\n",
    "criterion = nn.CrossEntropyLoss()\n",
    "\n",
    "patience = 5\n",
    "best_loss = float('inf')\n",
    "patience_counter = 0\n",
    "best_model_path = 'best_model.pth'  # File path for saving the best model\n",
    "\n",
    "model, all_preds, all_labels = train(model=model, train_loader=)\n",
    "# Calculate confusion matrix and classification report\n",
    "conf_matrix = confusion_matrix(all_labels, all_preds)\n",
    "class_report = classification_report(all_labels, all_preds)\n",
    "print(\"Confusion Matrix:\")\n",
    "print(conf_matrix)\n",
    "print(\"Classification Report:\")\n",
    "print(class_report)"
   ]
  },
  {
   "cell_type": "markdown",
   "metadata": {},
   "source": [
    "# Train SVM"
   ]
  },
  {
   "cell_type": "code",
   "execution_count": 9,
   "metadata": {},
   "outputs": [
    {
     "name": "stdout",
     "output_type": "stream",
     "text": [
      "Fitting 3 folds for each of 48 candidates, totalling 144 fits\n",
      "[CV 1/3] END ........C=0.1, gamma=1, kernel=rbf;, score=0.536 total time=  32.8s\n",
      "[CV 2/3] END ........C=0.1, gamma=1, kernel=rbf;, score=0.536 total time=  32.1s\n"
     ]
    }
   ],
   "source": [
    "# SVM\n",
    "# Define hyperparameters for search\n",
    "param_grid = param_grid = {'C': [0.1, 1, 10, 100], 'gamma': [1, 0.1, 0.01, 0.001],'kernel': ['rbf', 'poly', 'sigmoid']}\n",
    "\n",
    "\n",
    "# Grid search for hyperparameters\n",
    "clf = GridSearchCV(svm.SVC(), param_grid, refit=True, cv=3, verbose=3)\n",
    "clf.fit(X_train, y_train)\n",
    "\n",
    "# Predict using the best model\n",
    "y_pred = clf.predict(X_test)\n",
    "\n",
    "class_report = classification_report(y_test, y_pred)\n",
    "\n",
    "cm = confusion_matrix(y_test, y_pred, labels=clf.classes_)\n",
    "disp = ConfusionMatrixDisplay(confusion_matrix=cm,\n",
    "                               display_labels=clf.classes_)\n",
    "disp.plot()\n",
    "\n",
    "print(\"Classification Report:\")\n",
    "print(class_report)"
   ]
  },
  {
   "cell_type": "markdown",
   "metadata": {},
   "source": [
    "# Feature ranking"
   ]
  },
  {
   "cell_type": "code",
   "execution_count": 6,
   "metadata": {},
   "outputs": [
    {
     "name": "stdout",
     "output_type": "stream",
     "text": [
      "Fitting 3 folds for each of 10 candidates, totalling 30 fits\n"
     ]
    },
    {
     "data": {
      "image/png": "[encoded data removed]",
      "text/plain": [
       "<Figure size 800x600 with 2 Axes>"
      ]
     },
     "metadata": {},
     "output_type": "display_data"
    },
    {
     "name": "stdout",
     "output_type": "stream",
     "text": [
      "Fitting 3 folds for each of 10 candidates, totalling 30 fits\n"
     ]
    }
   ],
   "source": [
    "# forests and feature ranking\n",
    "hypers = classification_hyper_param_search(X_train, y_train, 3, 10)\n",
    "xb_hypers = hypers[0]['best_params']\n",
    "rf_hypers = hypers[1]['best_params']\n",
    "ranking = classification_ranking(X_train, y_train, rf_hypers, xb_hypers)\n",
    "scoring = voting(ranking)\n",
    "#plot_ranking(scoring, title='Classification example')"
   ]
  },
  {
   "cell_type": "markdown",
   "metadata": {},
   "source": [
    "# Wallet"
   ]
  },
  {
   "cell_type": "code",
   "execution_count": null,
   "metadata": {},
   "outputs": [],
   "source": []
  },
  {
   "cell_type": "code",
   "execution_count": null,
   "metadata": {},
   "outputs": [],
   "source": [
    "\"\"\"\n",
    "EXTRA\n",
    "def get_player_data(paths):\n",
    "    player_dfs = [pd.read_csv(path) for path in paths]\n",
    "    player_dfs = [df.assign(Name=df['last_name, first_name'].apply(lambda x: ' '.join(x.split(', ')[::-1]).lower())).drop(columns=['player_id', 'last_name, first_name']) for df in player_dfs]\n",
    "    combined_player = pd.concat(player_dfs).groupby('Name', as_index=False).mean()\n",
    "    final_player = combined_player.set_index('Name').T.to_dict('list')\n",
    "    return final_player\n",
    "\n",
    "df.iloc[:, 102] # visiting pitchers\n",
    "df.iloc[:, 104] # home pitchers\n",
    "df.iloc[:, 105:132] # visiting players\n",
    "df.iloc[:, 132:159] # home players\n",
    "df.iloc[:, 9] # visiting score\n",
    "df.iloc[:, 10] # home score\n",
    "df.iloc[:, 3] # visiting team\n",
    "df.iloc[:, 6] # home team\n",
    "visiting_teams = df.iloc[:, 3].tolist()\n",
    "home_teams = df.iloc[:, 6].tolist()\n",
    "\"\"\"\n",
    "\n",
    "\"\"\"\n",
    "# instantiate the random undersampler\n",
    "rus = RandomUnderSampler(random_state=42)\n",
    "\n",
    "# instantiate SMOTE\n",
    "smote = SMOTE(random_state=42)\n",
    "\n",
    "# resample X_train and y_train using undersampling\n",
    "X_train_resampled, y_train_resampled = rus.fit_resample(X_train, y_train)\n",
    "\n",
    "# resample X_train and y_train using SMOTE\n",
    "X_train_smote, y_train_smote = smote.fit_resample(X_train, y_train)\n",
    "\n",
    "# print the new class distribution after undersampling\n",
    "print('Resampled dataset shape after undersampling %s' % len(X_train_resampled))\n",
    "\n",
    "# print the new class distribution after SMOTE\n",
    "print('Resampled dataset shape after SMOTE %s' % len(X_train_smote))\n",
    "\"\"\""
   ]
  }
 ],
 "metadata": {
  "kernelspec": {
   "display_name": "Python 3",
   "language": "python",
   "name": "python3"
  },
  "language_info": {
   "codemirror_mode": {
    "name": "ipython",
    "version": 3
   },
   "file_extension": ".py",
   "mimetype": "text/x-python",
   "name": "python",
   "nbconvert_exporter": "python",
   "pygments_lexer": "ipython3",
   "version": "3.10.11"
  }
 },
 "nbformat": 4,
 "nbformat_minor": 2
}
