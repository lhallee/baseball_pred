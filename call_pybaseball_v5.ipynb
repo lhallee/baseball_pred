{
  "cells": [
    {
      "cell_type": "code",
      "execution_count": null,
      "metadata": {
        "colab": {
          "base_uri": "https://localhost:8080/"
        },
        "id": "fQliy8kyV9Rh",
        "outputId": "979b93f0-fc32-407b-ead9-07ffcec89768"
      },
      "outputs": [
        {
          "name": "stdout",
          "output_type": "stream",
          "text": [
            "Requirement already satisfied: scikit-learn in /usr/local/lib/python3.10/dist-packages (1.2.2)\n",
            "Collecting scikit-learn\n",
            "  Downloading scikit_learn-1.4.1.post1-cp310-cp310-manylinux_2_17_x86_64.manylinux2014_x86_64.whl (12.1 MB)\n",
            "\u001b[2K     \u001b[90m━━━━━━━━━━━━━━━━━━━━━━━━━━━━━━━━━━━━━━━━\u001b[0m \u001b[32m12.1/12.1 MB\u001b[0m \u001b[31m34.1 MB/s\u001b[0m eta \u001b[36m0:00:00\u001b[0m\n",
            "\u001b[?25hRequirement already satisfied: imbalanced-learn in /usr/local/lib/python3.10/dist-packages (0.10.1)\n",
            "Collecting imbalanced-learn\n",
            "  Downloading imbalanced_learn-0.12.0-py3-none-any.whl (257 kB)\n",
            "\u001b[2K     \u001b[90m━━━━━━━━━━━━━━━━━━━━━━━━━━━━━━━━━━━━━━━━\u001b[0m \u001b[32m257.7/257.7 kB\u001b[0m \u001b[31m28.2 MB/s\u001b[0m eta \u001b[36m0:00:00\u001b[0m\n",
            "\u001b[?25hRequirement already satisfied: numpy<2.0,>=1.19.5 in /usr/local/lib/python3.10/dist-packages (from scikit-learn) (1.25.2)\n",
            "Requirement already satisfied: scipy>=1.6.0 in /usr/local/lib/python3.10/dist-packages (from scikit-learn) (1.11.4)\n",
            "Requirement already satisfied: joblib>=1.2.0 in /usr/local/lib/python3.10/dist-packages (from scikit-learn) (1.3.2)\n",
            "Requirement already satisfied: threadpoolctl>=2.0.0 in /usr/local/lib/python3.10/dist-packages (from scikit-learn) (3.2.0)\n",
            "Installing collected packages: scikit-learn, imbalanced-learn\n",
            "  Attempting uninstall: scikit-learn\n",
            "    Found existing installation: scikit-learn 1.2.2\n",
            "    Uninstalling scikit-learn-1.2.2:\n",
            "      Successfully uninstalled scikit-learn-1.2.2\n",
            "  Attempting uninstall: imbalanced-learn\n",
            "    Found existing installation: imbalanced-learn 0.10.1\n",
            "    Uninstalling imbalanced-learn-0.10.1:\n",
            "      Successfully uninstalled imbalanced-learn-0.10.1\n",
            "Successfully installed imbalanced-learn-0.12.0 scikit-learn-1.4.1.post1\n"
          ]
        }
      ],
      "source": [
        "!pip install --upgrade scikit-learn imbalanced-learn"
      ]
    },
    {
      "cell_type": "code",
      "execution_count": null,
      "metadata": {
        "colab": {
          "base_uri": "https://localhost:8080/"
        },
        "id": "IMlLmjP3WAZz",
        "outputId": "c84b18a5-f61c-4811-8395-2e20767aef38"
      },
      "outputs": [
        {
          "name": "stdout",
          "output_type": "stream",
          "text": [
            "Collecting pybaseball\n",
            "  Downloading pybaseball-2.2.7-py3-none-any.whl (426 kB)\n",
            "\u001b[2K     \u001b[90m━━━━━━━━━━━━━━━━━━━━━━━━━━━━━━━━━━━━━━━━\u001b[0m \u001b[32m426.1/426.1 kB\u001b[0m \u001b[31m7.5 MB/s\u001b[0m eta \u001b[36m0:00:00\u001b[0m\n",
            "\u001b[?25hRequirement already satisfied: numpy>=1.13.0 in /usr/local/lib/python3.10/dist-packages (from pybaseball) (1.25.2)\n",
            "Requirement already satisfied: pandas>=1.0.3 in /usr/local/lib/python3.10/dist-packages (from pybaseball) (1.5.3)\n",
            "Requirement already satisfied: beautifulsoup4>=4.4.0 in /usr/local/lib/python3.10/dist-packages (from pybaseball) (4.12.3)\n",
            "Requirement already satisfied: requests>=2.18.1 in /usr/local/lib/python3.10/dist-packages (from pybaseball) (2.31.0)\n",
            "Requirement already satisfied: lxml>=4.2.1 in /usr/local/lib/python3.10/dist-packages (from pybaseball) (4.9.4)\n",
            "Requirement already satisfied: pyarrow>=1.0.1 in /usr/local/lib/python3.10/dist-packages (from pybaseball) (10.0.1)\n",
            "Collecting pygithub>=1.51 (from pybaseball)\n",
            "  Downloading PyGithub-2.2.0-py3-none-any.whl (350 kB)\n",
            "\u001b[2K     \u001b[90m━━━━━━━━━━━━━━━━━━━━━━━━━━━━━━━━━━━━━━━━\u001b[0m \u001b[32m350.2/350.2 kB\u001b[0m \u001b[31m13.4 MB/s\u001b[0m eta \u001b[36m0:00:00\u001b[0m\n",
            "\u001b[?25hRequirement already satisfied: scipy>=1.4.0 in /usr/local/lib/python3.10/dist-packages (from pybaseball) (1.11.4)\n",
            "Requirement already satisfied: matplotlib>=2.0.0 in /usr/local/lib/python3.10/dist-packages (from pybaseball) (3.7.1)\n",
            "Requirement already satisfied: tqdm>=4.50.0 in /usr/local/lib/python3.10/dist-packages (from pybaseball) (4.66.2)\n",
            "Requirement already satisfied: attrs>=20.3.0 in /usr/local/lib/python3.10/dist-packages (from pybaseball) (23.2.0)\n",
            "Requirement already satisfied: soupsieve>1.2 in /usr/local/lib/python3.10/dist-packages (from beautifulsoup4>=4.4.0->pybaseball) (2.5)\n",
            "Requirement already satisfied: contourpy>=1.0.1 in /usr/local/lib/python3.10/dist-packages (from matplotlib>=2.0.0->pybaseball) (1.2.0)\n",
            "Requirement already satisfied: cycler>=0.10 in /usr/local/lib/python3.10/dist-packages (from matplotlib>=2.0.0->pybaseball) (0.12.1)\n",
            "Requirement already satisfied: fonttools>=4.22.0 in /usr/local/lib/python3.10/dist-packages (from matplotlib>=2.0.0->pybaseball) (4.48.1)\n",
            "Requirement already satisfied: kiwisolver>=1.0.1 in /usr/local/lib/python3.10/dist-packages (from matplotlib>=2.0.0->pybaseball) (1.4.5)\n",
            "Requirement already satisfied: packaging>=20.0 in /usr/local/lib/python3.10/dist-packages (from matplotlib>=2.0.0->pybaseball) (23.2)\n",
            "Requirement already satisfied: pillow>=6.2.0 in /usr/local/lib/python3.10/dist-packages (from matplotlib>=2.0.0->pybaseball) (9.4.0)\n",
            "Requirement already satisfied: pyparsing>=2.3.1 in /usr/local/lib/python3.10/dist-packages (from matplotlib>=2.0.0->pybaseball) (3.1.1)\n",
            "Requirement already satisfied: python-dateutil>=2.7 in /usr/local/lib/python3.10/dist-packages (from matplotlib>=2.0.0->pybaseball) (2.8.2)\n",
            "Requirement already satisfied: pytz>=2020.1 in /usr/local/lib/python3.10/dist-packages (from pandas>=1.0.3->pybaseball) (2023.4)\n",
            "Collecting pynacl>=1.4.0 (from pygithub>=1.51->pybaseball)\n",
            "  Downloading PyNaCl-1.5.0-cp36-abi3-manylinux_2_17_x86_64.manylinux2014_x86_64.manylinux_2_24_x86_64.whl (856 kB)\n",
            "\u001b[2K     \u001b[90m━━━━━━━━━━━━━━━━━━━━━━━━━━━━━━━━━━━━━━━━\u001b[0m \u001b[32m856.7/856.7 kB\u001b[0m \u001b[31m16.8 MB/s\u001b[0m eta \u001b[36m0:00:00\u001b[0m\n",
            "\u001b[?25hCollecting pyjwt[crypto]>=2.4.0 (from pygithub>=1.51->pybaseball)\n",
            "  Downloading PyJWT-2.8.0-py3-none-any.whl (22 kB)\n",
            "Requirement already satisfied: typing-extensions>=4.0.0 in /usr/local/lib/python3.10/dist-packages (from pygithub>=1.51->pybaseball) (4.9.0)\n",
            "Requirement already satisfied: urllib3>=1.26.0 in /usr/local/lib/python3.10/dist-packages (from pygithub>=1.51->pybaseball) (2.0.7)\n",
            "Collecting Deprecated (from pygithub>=1.51->pybaseball)\n",
            "  Downloading Deprecated-1.2.14-py2.py3-none-any.whl (9.6 kB)\n",
            "Requirement already satisfied: charset-normalizer<4,>=2 in /usr/local/lib/python3.10/dist-packages (from requests>=2.18.1->pybaseball) (3.3.2)\n",
            "Requirement already satisfied: idna<4,>=2.5 in /usr/local/lib/python3.10/dist-packages (from requests>=2.18.1->pybaseball) (3.6)\n",
            "Requirement already satisfied: certifi>=2017.4.17 in /usr/local/lib/python3.10/dist-packages (from requests>=2.18.1->pybaseball) (2024.2.2)\n",
            "Requirement already satisfied: cryptography>=3.4.0 in /usr/local/lib/python3.10/dist-packages (from pyjwt[crypto]>=2.4.0->pygithub>=1.51->pybaseball) (42.0.2)\n",
            "Requirement already satisfied: cffi>=1.4.1 in /usr/local/lib/python3.10/dist-packages (from pynacl>=1.4.0->pygithub>=1.51->pybaseball) (1.16.0)\n",
            "Requirement already satisfied: six>=1.5 in /usr/local/lib/python3.10/dist-packages (from python-dateutil>=2.7->matplotlib>=2.0.0->pybaseball) (1.16.0)\n",
            "Requirement already satisfied: wrapt<2,>=1.10 in /usr/local/lib/python3.10/dist-packages (from Deprecated->pygithub>=1.51->pybaseball) (1.14.1)\n",
            "Requirement already satisfied: pycparser in /usr/local/lib/python3.10/dist-packages (from cffi>=1.4.1->pynacl>=1.4.0->pygithub>=1.51->pybaseball) (2.21)\n",
            "Installing collected packages: pyjwt, Deprecated, pynacl, pygithub, pybaseball\n",
            "  Attempting uninstall: pyjwt\n",
            "    Found existing installation: PyJWT 2.3.0\n",
            "    Uninstalling PyJWT-2.3.0:\n",
            "      Successfully uninstalled PyJWT-2.3.0\n",
            "Successfully installed Deprecated-1.2.14 pybaseball-2.2.7 pygithub-2.2.0 pyjwt-2.8.0 pynacl-1.5.0\n"
          ]
        }
      ],
      "source": [
        "!pip install pybaseball"
      ]
    },
    {
      "cell_type": "code",
      "execution_count": null,
      "metadata": {
        "colab": {
          "base_uri": "https://localhost:8080/"
        },
        "id": "BHLS5F_BWB7R",
        "outputId": "42e48a95-f244-426b-fa32-bc90b5c4bf79"
      },
      "outputs": [
        {
          "name": "stdout",
          "output_type": "stream",
          "text": [
            "Collecting featureranker\n",
            "  Downloading featureranker-1.1.2-py3-none-any.whl (23 kB)\n",
            "Collecting matplotlib<4.0.0,>=3.8.1 (from featureranker)\n",
            "  Downloading matplotlib-3.8.3-cp310-cp310-manylinux_2_17_x86_64.manylinux2014_x86_64.whl (11.6 MB)\n",
            "\u001b[2K     \u001b[90m━━━━━━━━━━━━━━━━━━━━━━━━━━━━━━━━━━━━━━━━\u001b[0m \u001b[32m11.6/11.6 MB\u001b[0m \u001b[31m35.9 MB/s\u001b[0m eta \u001b[36m0:00:00\u001b[0m\n",
            "\u001b[?25hCollecting numpy<2.0.0,>=1.26.0 (from featureranker)\n",
            "  Downloading numpy-1.26.4-cp310-cp310-manylinux_2_17_x86_64.manylinux2014_x86_64.whl (18.2 MB)\n",
            "\u001b[2K     \u001b[90m━━━━━━━━━━━━━━━━━━━━━━━━━━━━━━━━━━━━━━━━\u001b[0m \u001b[32m18.2/18.2 MB\u001b[0m \u001b[31m76.3 MB/s\u001b[0m eta \u001b[36m0:00:00\u001b[0m\n",
            "\u001b[?25hCollecting pandas<3.0.0,>=2.1.1 (from featureranker)\n",
            "  Downloading pandas-2.2.0-cp310-cp310-manylinux_2_17_x86_64.manylinux2014_x86_64.whl (13.0 MB)\n",
            "\u001b[2K     \u001b[90m━━━━━━━━━━━━━━━━━━━━━━━━━━━━━━━━━━━━━━━━\u001b[0m \u001b[32m13.0/13.0 MB\u001b[0m \u001b[31m66.6 MB/s\u001b[0m eta \u001b[36m0:00:00\u001b[0m\n",
            "\u001b[?25hRequirement already satisfied: scikit-learn<2.0.0,>=1.3.2 in /usr/local/lib/python3.10/dist-packages (from featureranker) (1.4.1.post1)\n",
            "Requirement already satisfied: scipy<2.0.0,>=1.11.2 in /usr/local/lib/python3.10/dist-packages (from featureranker) (1.11.4)\n",
            "Requirement already satisfied: tqdm<5.0.0,>=4.66.1 in /usr/local/lib/python3.10/dist-packages (from featureranker) (4.66.2)\n",
            "Requirement already satisfied: xgboost<3.0.0,>=2.0.1 in /usr/local/lib/python3.10/dist-packages (from featureranker) (2.0.3)\n",
            "Requirement already satisfied: contourpy>=1.0.1 in /usr/local/lib/python3.10/dist-packages (from matplotlib<4.0.0,>=3.8.1->featureranker) (1.2.0)\n",
            "Requirement already satisfied: cycler>=0.10 in /usr/local/lib/python3.10/dist-packages (from matplotlib<4.0.0,>=3.8.1->featureranker) (0.12.1)\n",
            "Requirement already satisfied: fonttools>=4.22.0 in /usr/local/lib/python3.10/dist-packages (from matplotlib<4.0.0,>=3.8.1->featureranker) (4.48.1)\n",
            "Requirement already satisfied: kiwisolver>=1.3.1 in /usr/local/lib/python3.10/dist-packages (from matplotlib<4.0.0,>=3.8.1->featureranker) (1.4.5)\n",
            "Requirement already satisfied: packaging>=20.0 in /usr/local/lib/python3.10/dist-packages (from matplotlib<4.0.0,>=3.8.1->featureranker) (23.2)\n",
            "Requirement already satisfied: pillow>=8 in /usr/local/lib/python3.10/dist-packages (from matplotlib<4.0.0,>=3.8.1->featureranker) (9.4.0)\n",
            "Requirement already satisfied: pyparsing>=2.3.1 in /usr/local/lib/python3.10/dist-packages (from matplotlib<4.0.0,>=3.8.1->featureranker) (3.1.1)\n",
            "Requirement already satisfied: python-dateutil>=2.7 in /usr/local/lib/python3.10/dist-packages (from matplotlib<4.0.0,>=3.8.1->featureranker) (2.8.2)\n",
            "Requirement already satisfied: pytz>=2020.1 in /usr/local/lib/python3.10/dist-packages (from pandas<3.0.0,>=2.1.1->featureranker) (2023.4)\n",
            "Collecting tzdata>=2022.7 (from pandas<3.0.0,>=2.1.1->featureranker)\n",
            "  Downloading tzdata-2024.1-py2.py3-none-any.whl (345 kB)\n",
            "\u001b[2K     \u001b[90m━━━━━━━━━━━━━━━━━━━━━━━━━━━━━━━━━━━━━━━━\u001b[0m \u001b[32m345.4/345.4 kB\u001b[0m \u001b[31m30.6 MB/s\u001b[0m eta \u001b[36m0:00:00\u001b[0m\n",
            "\u001b[?25hRequirement already satisfied: joblib>=1.2.0 in /usr/local/lib/python3.10/dist-packages (from scikit-learn<2.0.0,>=1.3.2->featureranker) (1.3.2)\n",
            "Requirement already satisfied: threadpoolctl>=2.0.0 in /usr/local/lib/python3.10/dist-packages (from scikit-learn<2.0.0,>=1.3.2->featureranker) (3.2.0)\n",
            "Requirement already satisfied: six>=1.5 in /usr/local/lib/python3.10/dist-packages (from python-dateutil>=2.7->matplotlib<4.0.0,>=3.8.1->featureranker) (1.16.0)\n",
            "Installing collected packages: tzdata, numpy, pandas, matplotlib, featureranker\n",
            "  Attempting uninstall: numpy\n",
            "    Found existing installation: numpy 1.25.2\n",
            "    Uninstalling numpy-1.25.2:\n",
            "      Successfully uninstalled numpy-1.25.2\n",
            "  Attempting uninstall: pandas\n",
            "    Found existing installation: pandas 1.5.3\n",
            "    Uninstalling pandas-1.5.3:\n",
            "      Successfully uninstalled pandas-1.5.3\n"
          ]
        }
      ],
      "source": [
        "!pip install featureranker"
      ]
    },
    {
      "cell_type": "code",
      "execution_count": null,
      "metadata": {
        "colab": {
          "background_save": true,
          "referenced_widgets": [
            "823aa4fc1373449388ef331195a6252a",
            "9543be4660214f4db5109cb5fa8fe8ea",
            "30f9f0ea4a5445778236d8fbdc180ec9",
            "0a8b05f277a54223902fbafe17e5c68b",
            "d4bee03b77744286bf5f7d059a97d855",
            "d73926e9cbc64aea93927c4fb7617462",
            "f077a3cd4bc04a3f96b4a4420a66c6e5",
            "579125830b8d4a43ab210a2f39195b06",
            "ac036784a1d84387b99895593593d33d",
            "8029888595084b80a782f3d861c3934b",
            "aeb6795195924985ac6e8d57e23bd6ea",
            "03f953bfe8ac49cfbfc6055f3c63b836",
            "fa5463853f09499eb5f17737b02790b5",
            "8f39ac7a715b4966915de64d3eff00ce",
            "d76a66658eb4401bb01a326070f893a9",
            "24d9bc95a65b4724bb94df3a6f22e4dd"
          ]
        },
        "id": "sArMIpEwSErE",
        "outputId": "49e00d53-ac59-4e1d-f569-4e530779f579"
      },
      "outputs": [
        {
          "name": "stdout",
          "output_type": "stream",
          "text": [
            "Drive already mounted at /content/drive; to attempt to forcibly remount, call drive.mount(\"/content/drive\", force_remount=True).\n",
            "batter data fetched successfully.\n",
            "pitcher data fetched successfully.\n",
            "Gathering player lookup table. This may take a moment.\n",
            "                 home_open  visiting_open\n",
            "Game_ID                                  \n",
            "20100404BOSNYY1       -114           -106\n",
            "20100405WASPHI1        170           -200\n",
            "20100405NYMMIA1       -115           -105\n",
            "20100405CINSTL1        135           -155\n",
            "20100405PITLOS1        135           -155\n",
            "...                    ...            ...\n",
            "20191025WASHOU1        110           -121\n",
            "20191026WASHOU1       -115            105\n",
            "20191027WASHOU1        140           -155\n",
            "20191029HOUWAS1       -180            162\n",
            "20191030HOUWAS1       -135            122\n",
            "\n",
            "[28006 rows x 2 columns]\n",
            "Dropping columns: Index(['date', 'GameId'], dtype='object')\n",
            "File /content/drive/My Drive/baseball_pred/pybaseball_v3_saved/per_game_data_full.csv already exists.\n",
            "File /content/drive/My Drive/baseball_pred/pybaseball_v3_saved/per_game_data.csv already exists.\n",
            "File /content/drive/My Drive/baseball_pred/pybaseball_v3_saved/batter_bwar_data.csv already exists.\n",
            "File /content/drive/My Drive/baseball_pred/pybaseball_v3_saved/pitcher_bwar_data.csv already exists.\n",
            "File /content/drive/My Drive/baseball_pred/pybaseball_v3_saved/chad_v3.csv already exists.\n",
            "File /content/drive/My Drive/baseball_pred/pybaseball_v3_saved/vegas_odds.csv already exists.\n",
            "File /content/drive/My Drive/baseball_pred/pybaseball_v3_saved/scrambled_odds.csv already exists.\n",
            "File /content/drive/My Drive/baseball_pred/pybaseball_v3_saved/scrambled_odds_full.csv already exists.\n",
            "                name_common   age    mlb_ID  year_ID team_ID  stint_ID lg_ID  \\\n",
            "player_ID                                                                      \n",
            "bechtge01    George Bechtel  22.0  110756.0     1871     ATH         1   NaN   \n",
            "brainas01      Asa Brainard  30.0  111373.0     1871     OLY         1   NaN   \n",
            "fergubo01      Bob Ferguson  26.0  114069.0     1871     NYU         1   NaN   \n",
            "fishech01   Cherokee Fisher  26.0  114181.0     1871     ROK         1   NaN   \n",
            "fleetfr01       Frank Fleet  23.0  114224.0     1871     NYU         1   NaN   \n",
            "...                     ...   ...       ...      ...     ...       ...   ...   \n",
            "youngal01        Alex Young  29.0  622065.0     2023     CIN         1    NL   \n",
            "youngda02       Danny Young  29.0  664849.0     2023     ATL         1    NL   \n",
            "zastrro01     Rob Zastryzny  31.0  642239.0     2023     PIT         1    NL   \n",
            "zavalse01       Seby Zavala  29.0  664874.0     2023     ARI         2    NL   \n",
            "zuniggu01  Guillermo Zuñiga  24.0  670871.0     2023     STL         1    NL   \n",
            "\n",
            "            G  GS  IPouts  ...  pyth_exponent  waa_win_perc     WAA  WAA_adj  \\\n",
            "player_ID                  ...                                                 \n",
            "bechtge01   3   3      78  ...          2.499        0.3020 -0.5940  -0.0153   \n",
            "brainas01  30  30     792  ...          2.375        0.4951 -0.1470  -0.1556   \n",
            "fergubo01   1   0       3  ...          2.606        0.1823 -0.3177  -0.0006   \n",
            "fishech01  24  24     639  ...          2.367        0.5098  0.2352  -0.1255   \n",
            "fleetfr01   1   1      27  ...          2.698        0.1137 -0.3863  -0.0053   \n",
            "...        ..  ..     ...  ...            ...           ...     ...      ...   \n",
            "youngal01  63   0     161  ...          1.892        0.5054  0.3402  -0.1128   \n",
            "youngda02   8   0      25  ...          1.871        0.5426  0.3408  -0.1144   \n",
            "zastrro01  21   1      62  ...          1.908        0.4762 -0.4998   0.0269   \n",
            "zavalse01   1   0       2  ...          1.878        0.5302  0.0302  -0.0170   \n",
            "zuniggu01   2   0       6  ...          1.897        0.4952 -0.0096  -0.0011   \n",
            "\n",
            "           oppRpG_rep  pyth_exponent_rep  waa_win_perc_rep  WAR_rep  \\\n",
            "player_ID                                                             \n",
            "bechtge01    12.22880              2.432            0.4008   0.2455   \n",
            "brainas01    12.25747              2.432            0.3994   2.4889   \n",
            "fergubo01    10.58039              2.380            0.4878   0.0102   \n",
            "fishech01    12.27359              2.433            0.3986   2.0067   \n",
            "fleetfr01    12.30047              2.434            0.3973   0.0847   \n",
            "...               ...                ...               ...      ...   \n",
            "youngal01     4.79110              1.899            0.4916   0.5202   \n",
            "youngda02     4.80991              1.900            0.4897   0.0810   \n",
            "zastrro01     4.80421              1.900            0.4903   0.2002   \n",
            "zavalse01     4.77275              1.898            0.4934   0.0065   \n",
            "zuniggu01     4.80578              1.900            0.4901   0.0195   \n",
            "\n",
            "             ERA_plus    ER_lg  \n",
            "player_ID                       \n",
            "bechtge01   52.682609   12.117  \n",
            "brainas01   93.906818  123.957  \n",
            "fergubo01   19.733333    0.592  \n",
            "fishech01   97.129126  100.043  \n",
            "fleetfr01   39.680000    3.968  \n",
            "...               ...      ...  \n",
            "youngal01  118.926087   27.353  \n",
            "youngda02  426.900000    4.269  \n",
            "zastrro01   93.963636   10.336  \n",
            "zavalse01         NaN    0.491  \n",
            "zuniggu01  113.400000    1.134  \n",
            "\n",
            "[54852 rows x 42 columns]\n",
            "The column home_team has 66.8% NaN values.\n",
            "The column visiting_team has 66.8% NaN values.\n",
            "The column Game_Number has 66.8% NaN values.\n",
            "{'HmRuns': '6', 'VisRuns': '4', 'Game_ID': '20230401HOUCHA1', 'winner': 1}\n",
            "{'HmRuns': '4', 'VisRuns': '1', 'Game_ID': '20230401SLNTOR1', 'winner': 1}\n",
            "{'HmRuns': '1', 'VisRuns': '3', 'Game_ID': '20230401CHNMIL1', 'winner': 0}\n",
            "{'HmRuns': '16', 'VisRuns': '3', 'Game_ID': '20230401TEXPHI1', 'winner': 1}\n",
            "{'HmRuns': '1', 'VisRuns': '7', 'Game_ID': '20230401WASATL1', 'winner': 0}\n",
            "{'HmRuns': '5', 'VisRuns': '7', 'Game_ID': '20230401NYASFN1', 'winner': 0}\n",
            "{'HmRuns': '1', 'VisRuns': '13', 'Game_ID': '20230401OAKANA1', 'winner': 0}\n",
            "{'HmRuns': '9', 'VisRuns': '8', 'Game_ID': '20230401BOSBAL1', 'winner': 1}\n",
            "{'HmRuns': '6', 'VisRuns': '2', 'Game_ID': '20230401CINPIT1', 'winner': 1}\n",
            "{'HmRuns': '12', 'VisRuns': '2', 'Game_ID': '20230401TBADET1', 'winner': 1}\n",
            "{'HmRuns': '0', 'VisRuns': '2', 'Game_ID': '20230401KCAMIN1', 'winner': 0}\n",
            "{'HmRuns': '2', 'VisRuns': '6', 'Game_ID': '20230401MIANYN1', 'winner': 0}\n",
            "{'HmRuns': '8', 'VisRuns': '4', 'Game_ID': '20230401SDNCOL1', 'winner': 1}\n",
            "{'HmRuns': '10', 'VisRuns': '1', 'Game_ID': '20230401LANARI1', 'winner': 1}\n",
            "{'HmRuns': '0', 'VisRuns': '2', 'Game_ID': '20230401SEACLE1', 'winner': 0}\n",
            "Original team names without mapping: {}\n"
          ]
        },
        {
          "data": {
            "application/vnd.jupyter.widget-view+json": {
              "model_id": "823aa4fc1373449388ef331195a6252a",
              "version_major": 2,
              "version_minor": 0
            },
            "text/plain": [
              "Epoch 1:   0%|          | 0/57 [00:00<?, ?it/s]"
            ]
          },
          "metadata": {},
          "output_type": "display_data"
        },
        {
          "name": "stdout",
          "output_type": "stream",
          "text": [
            "Training Loss: 0.7018175993049354\n",
            "Validation Loss: 0.6737942525318691\n"
          ]
        },
        {
          "data": {
            "application/vnd.jupyter.widget-view+json": {
              "model_id": "9543be4660214f4db5109cb5fa8fe8ea",
              "version_major": 2,
              "version_minor": 0
            },
            "text/plain": [
              "Epoch 2:   0%|          | 0/57 [00:00<?, ?it/s]"
            ]
          },
          "metadata": {},
          "output_type": "display_data"
        },
        {
          "name": "stdout",
          "output_type": "stream",
          "text": [
            "Training Loss: 0.6856516944734674\n",
            "Validation Loss: 0.6736107553754535\n"
          ]
        },
        {
          "data": {
            "application/vnd.jupyter.widget-view+json": {
              "model_id": "30f9f0ea4a5445778236d8fbdc180ec9",
              "version_major": 2,
              "version_minor": 0
            },
            "text/plain": [
              "Epoch 3:   0%|          | 0/57 [00:00<?, ?it/s]"
            ]
          },
          "metadata": {},
          "output_type": "display_data"
        },
        {
          "name": "stdout",
          "output_type": "stream",
          "text": [
            "Training Loss: 0.6783509474051627\n",
            "Validation Loss: 0.6652609195028033\n"
          ]
        },
        {
          "data": {
            "application/vnd.jupyter.widget-view+json": {
              "model_id": "0a8b05f277a54223902fbafe17e5c68b",
              "version_major": 2,
              "version_minor": 0
            },
            "text/plain": [
              "Epoch 4:   0%|          | 0/57 [00:00<?, ?it/s]"
            ]
          },
          "metadata": {},
          "output_type": "display_data"
        },
        {
          "name": "stdout",
          "output_type": "stream",
          "text": [
            "Training Loss: 0.6737469183771234\n",
            "Validation Loss: 0.6625992826053074\n"
          ]
        },
        {
          "data": {
            "application/vnd.jupyter.widget-view+json": {
              "model_id": "d4bee03b77744286bf5f7d059a97d855",
              "version_major": 2,
              "version_minor": 0
            },
            "text/plain": [
              "Epoch 5:   0%|          | 0/57 [00:00<?, ?it/s]"
            ]
          },
          "metadata": {},
          "output_type": "display_data"
        },
        {
          "name": "stdout",
          "output_type": "stream",
          "text": [
            "Training Loss: 0.6766279308419478\n",
            "Validation Loss: 0.6626407163483756\n"
          ]
        },
        {
          "data": {
            "application/vnd.jupyter.widget-view+json": {
              "model_id": "d73926e9cbc64aea93927c4fb7617462",
              "version_major": 2,
              "version_minor": 0
            },
            "text/plain": [
              "Epoch 6:   0%|          | 0/57 [00:00<?, ?it/s]"
            ]
          },
          "metadata": {},
          "output_type": "display_data"
        },
        {
          "name": "stdout",
          "output_type": "stream",
          "text": [
            "Training Loss: 0.6745911742511549\n",
            "Validation Loss: 0.6640788657324654\n"
          ]
        },
        {
          "data": {
            "application/vnd.jupyter.widget-view+json": {
              "model_id": "f077a3cd4bc04a3f96b4a4420a66c6e5",
              "version_major": 2,
              "version_minor": 0
            },
            "text/plain": [
              "Epoch 7:   0%|          | 0/57 [00:00<?, ?it/s]"
            ]
          },
          "metadata": {},
          "output_type": "display_data"
        },
        {
          "name": "stdout",
          "output_type": "stream",
          "text": [
            "Training Loss: 0.6732167800267538\n",
            "Validation Loss: 0.6686262573514666\n"
          ]
        },
        {
          "data": {
            "application/vnd.jupyter.widget-view+json": {
              "model_id": "579125830b8d4a43ab210a2f39195b06",
              "version_major": 2,
              "version_minor": 0
            },
            "text/plain": [
              "Epoch 8:   0%|          | 0/57 [00:00<?, ?it/s]"
            ]
          },
          "metadata": {},
          "output_type": "display_data"
        },
        {
          "name": "stdout",
          "output_type": "stream",
          "text": [
            "Training Loss: 0.6716714104016622\n",
            "Validation Loss: 0.662622366632734\n"
          ]
        },
        {
          "data": {
            "application/vnd.jupyter.widget-view+json": {
              "model_id": "ac036784a1d84387b99895593593d33d",
              "version_major": 2,
              "version_minor": 0
            },
            "text/plain": [
              "Epoch 9:   0%|          | 0/57 [00:00<?, ?it/s]"
            ]
          },
          "metadata": {},
          "output_type": "display_data"
        },
        {
          "name": "stdout",
          "output_type": "stream",
          "text": [
            "Training Loss: 0.6708437298473559\n",
            "Validation Loss: 0.6701177614075797\n",
            "Early stopping triggered\n",
            "Confusion Matrix:\n",
            "[[107 138]\n",
            " [ 71 222]]\n",
            "Classification Report:\n",
            "{'0': {'precision': 0.601123595505618, 'recall': 0.43673469387755104, 'f1-score': 0.5059101654846335, 'support': 245.0}, '1': {'precision': 0.6166666666666667, 'recall': 0.757679180887372, 'f1-score': 0.6799387442572741, 'support': 293.0}, 'accuracy': 0.6115241635687733, 'macro avg': {'precision': 0.6088951310861423, 'recall': 0.5972069373824616, 'f1-score': 0.5929244548709538, 'support': 538.0}, 'weighted avg': {'precision': 0.6095885022903527, 'recall': 0.6115241635687733, 'f1-score': 0.6006878115448262, 'support': 538.0}}\n"
          ]
        },
        {
          "data": {
            "application/vnd.jupyter.widget-view+json": {
              "model_id": "8029888595084b80a782f3d861c3934b",
              "version_major": 2,
              "version_minor": 0
            },
            "text/plain": [
              "Epoch 1:   0%|          | 0/57 [00:00<?, ?it/s]"
            ]
          },
          "metadata": {},
          "output_type": "display_data"
        },
        {
          "name": "stdout",
          "output_type": "stream",
          "text": [
            "Training Loss: 0.6951538376640856\n",
            "Validation Loss: 0.6960726806095668\n"
          ]
        },
        {
          "data": {
            "application/vnd.jupyter.widget-view+json": {
              "model_id": "aeb6795195924985ac6e8d57e23bd6ea",
              "version_major": 2,
              "version_minor": 0
            },
            "text/plain": [
              "Epoch 2:   0%|          | 0/57 [00:00<?, ?it/s]"
            ]
          },
          "metadata": {},
          "output_type": "display_data"
        },
        {
          "name": "stdout",
          "output_type": "stream",
          "text": [
            "Training Loss: 0.682543134480192\n",
            "Validation Loss: 0.6823127780641828\n"
          ]
        },
        {
          "data": {
            "application/vnd.jupyter.widget-view+json": {
              "model_id": "03f953bfe8ac49cfbfc6055f3c63b836",
              "version_major": 2,
              "version_minor": 0
            },
            "text/plain": [
              "Epoch 3:   0%|          | 0/57 [00:00<?, ?it/s]"
            ]
          },
          "metadata": {},
          "output_type": "display_data"
        },
        {
          "name": "stdout",
          "output_type": "stream",
          "text": [
            "Training Loss: 0.6775917358565748\n",
            "Validation Loss: 0.6652070794786725\n"
          ]
        },
        {
          "data": {
            "application/vnd.jupyter.widget-view+json": {
              "model_id": "fa5463853f09499eb5f17737b02790b5",
              "version_major": 2,
              "version_minor": 0
            },
            "text/plain": [
              "Epoch 4:   0%|          | 0/57 [00:00<?, ?it/s]"
            ]
          },
          "metadata": {},
          "output_type": "display_data"
        },
        {
          "name": "stdout",
          "output_type": "stream",
          "text": [
            "Training Loss: 0.6750443169945165\n",
            "Validation Loss: 0.6695935555866787\n"
          ]
        },
        {
          "data": {
            "application/vnd.jupyter.widget-view+json": {
              "model_id": "8f39ac7a715b4966915de64d3eff00ce",
              "version_major": 2,
              "version_minor": 0
            },
            "text/plain": [
              "Epoch 5:   0%|          | 0/57 [00:00<?, ?it/s]"
            ]
          },
          "metadata": {},
          "output_type": "display_data"
        },
        {
          "name": "stdout",
          "output_type": "stream",
          "text": [
            "Training Loss: 0.6746140007387128\n",
            "Validation Loss: 0.6632984536034721\n"
          ]
        },
        {
          "data": {
            "application/vnd.jupyter.widget-view+json": {
              "model_id": "d76a66658eb4401bb01a326070f893a9",
              "version_major": 2,
              "version_minor": 0
            },
            "text/plain": [
              "Epoch 6:   0%|          | 0/57 [00:00<?, ?it/s]"
            ]
          },
          "metadata": {},
          "output_type": "display_data"
        },
        {
          "name": "stdout",
          "output_type": "stream",
          "text": [
            "Training Loss: 0.6732342086340252\n",
            "Validation Loss: 0.6644863315990993\n"
          ]
        },
        {
          "data": {
            "application/vnd.jupyter.widget-view+json": {
              "model_id": "24d9bc95a65b4724bb94df3a6f22e4dd",
              "version_major": 2,
              "version_minor": 0
            },
            "text/plain": [
              "Epoch 7:   0%|          | 0/57 [00:00<?, ?it/s]"
            ]
          },
          "metadata": {},
          "output_type": "display_data"
        },
        {
          "ename": "KeyboardInterrupt",
          "evalue": "",
          "output_type": "error",
          "traceback": [
            "\u001b[0;31m---------------------------------------------------------------------------\u001b[0m",
            "\u001b[0;31mKeyboardInterrupt\u001b[0m                         Traceback (most recent call last)",
            "\u001b[0;32m<ipython-input-4-6318e3f402ca>\u001b[0m in \u001b[0;36m<cell line: 41>\u001b[0;34m()\u001b[0m\n\u001b[1;32m     39\u001b[0m \u001b[0;34m\u001b[0m\u001b[0m\n\u001b[1;32m     40\u001b[0m \u001b[0;31m# Example usage\u001b[0m\u001b[0;34m\u001b[0m\u001b[0;34m\u001b[0m\u001b[0m\n\u001b[0;32m---> 41\u001b[0;31m \u001b[0myear_results\u001b[0m \u001b[0;34m=\u001b[0m \u001b[0miterate_through_year_by_day\u001b[0m\u001b[0;34m(\u001b[0m\u001b[0;36m2023\u001b[0m\u001b[0;34m,\u001b[0m \u001b[0mmain_function\u001b[0m\u001b[0;34m.\u001b[0m\u001b[0mmain_function\u001b[0m\u001b[0;34m)\u001b[0m\u001b[0;34m\u001b[0m\u001b[0;34m\u001b[0m\u001b[0m\n\u001b[0m\u001b[1;32m     42\u001b[0m \u001b[0;34m\u001b[0m\u001b[0m\n\u001b[1;32m     43\u001b[0m \u001b[0;34m\u001b[0m\u001b[0m\n",
            "\u001b[0;32m<ipython-input-4-6318e3f402ca>\u001b[0m in \u001b[0;36miterate_through_year_by_day\u001b[0;34m(year, main_function)\u001b[0m\n\u001b[1;32m     20\u001b[0m     \u001b[0;32mwhile\u001b[0m \u001b[0mcurrent_date\u001b[0m \u001b[0;34m<=\u001b[0m \u001b[0mend_date\u001b[0m\u001b[0;34m:\u001b[0m\u001b[0;34m\u001b[0m\u001b[0;34m\u001b[0m\u001b[0m\n\u001b[1;32m     21\u001b[0m         \u001b[0mdate_str\u001b[0m \u001b[0;34m=\u001b[0m \u001b[0mcurrent_date\u001b[0m\u001b[0;34m.\u001b[0m\u001b[0mstrftime\u001b[0m\u001b[0;34m(\u001b[0m\u001b[0;34m'%Y-%m-%d'\u001b[0m\u001b[0;34m)\u001b[0m\u001b[0;34m\u001b[0m\u001b[0;34m\u001b[0m\u001b[0m\n\u001b[0;32m---> 22\u001b[0;31m         \u001b[0mresult\u001b[0m \u001b[0;34m=\u001b[0m \u001b[0mmain_function\u001b[0m\u001b[0;34m(\u001b[0m\u001b[0mdate_str\u001b[0m\u001b[0;34m)\u001b[0m\u001b[0;34m\u001b[0m\u001b[0;34m\u001b[0m\u001b[0m\n\u001b[0m\u001b[1;32m     23\u001b[0m \u001b[0;34m\u001b[0m\u001b[0m\n\u001b[1;32m     24\u001b[0m         \u001b[0;32mif\u001b[0m \u001b[0mresult\u001b[0m \u001b[0;32mis\u001b[0m \u001b[0;32mnot\u001b[0m \u001b[0;32mNone\u001b[0m\u001b[0;34m:\u001b[0m\u001b[0;34m\u001b[0m\u001b[0;34m\u001b[0m\u001b[0m\n",
            "\u001b[0;32m/content/temp_actual_baseball_application.py\u001b[0m in \u001b[0;36mmain_function\u001b[0;34m(betting_date)\u001b[0m\n\u001b[1;32m   1857\u001b[0m         \u001b[0;31m# Train and evaluate the model\u001b[0m\u001b[0;34m\u001b[0m\u001b[0;34m\u001b[0m\u001b[0m\n\u001b[1;32m   1858\u001b[0m \u001b[0;34m\u001b[0m\u001b[0m\n\u001b[0;32m-> 1859\u001b[0;31m         conf_matrix, class_report = train_and_evaluate_model(\n\u001b[0m\u001b[1;32m   1860\u001b[0m         \u001b[0mmodel\u001b[0m\u001b[0;34m,\u001b[0m\u001b[0;34m\u001b[0m\u001b[0;34m\u001b[0m\u001b[0m\n\u001b[1;32m   1861\u001b[0m         \u001b[0mtrain_loader_new\u001b[0m\u001b[0;34m,\u001b[0m\u001b[0;34m\u001b[0m\u001b[0;34m\u001b[0m\u001b[0m\n",
            "\u001b[0;32m/content/temp_actual_baseball_application.py\u001b[0m in \u001b[0;36mtrain_and_evaluate_model\u001b[0;34m(model, train_loader, val_loader, test_loader, optimizer, criterion, scheduler, patience, num_epochs)\u001b[0m\n\u001b[1;32m    273\u001b[0m                 \u001b[0moutputs\u001b[0m \u001b[0;34m=\u001b[0m \u001b[0mmodel\u001b[0m\u001b[0;34m(\u001b[0m\u001b[0minputs\u001b[0m\u001b[0;34m)\u001b[0m\u001b[0;34m\u001b[0m\u001b[0;34m\u001b[0m\u001b[0m\n\u001b[1;32m    274\u001b[0m                 \u001b[0mloss\u001b[0m \u001b[0;34m=\u001b[0m \u001b[0mcriterion\u001b[0m\u001b[0;34m(\u001b[0m\u001b[0moutputs\u001b[0m\u001b[0;34m,\u001b[0m \u001b[0mlabels\u001b[0m\u001b[0;34m.\u001b[0m\u001b[0msqueeze\u001b[0m\u001b[0;34m(\u001b[0m\u001b[0;34m)\u001b[0m\u001b[0;34m)\u001b[0m\u001b[0;34m\u001b[0m\u001b[0;34m\u001b[0m\u001b[0m\n\u001b[0;32m--> 275\u001b[0;31m                 \u001b[0mloss\u001b[0m\u001b[0;34m.\u001b[0m\u001b[0mbackward\u001b[0m\u001b[0;34m(\u001b[0m\u001b[0;34m)\u001b[0m\u001b[0;34m\u001b[0m\u001b[0;34m\u001b[0m\u001b[0m\n\u001b[0m\u001b[1;32m    276\u001b[0m                 \u001b[0moptimizer\u001b[0m\u001b[0;34m.\u001b[0m\u001b[0mstep\u001b[0m\u001b[0;34m(\u001b[0m\u001b[0;34m)\u001b[0m\u001b[0;34m\u001b[0m\u001b[0;34m\u001b[0m\u001b[0m\n\u001b[1;32m    277\u001b[0m                 \u001b[0mtrain_losses\u001b[0m\u001b[0;34m.\u001b[0m\u001b[0mappend\u001b[0m\u001b[0;34m(\u001b[0m\u001b[0mloss\u001b[0m\u001b[0;34m.\u001b[0m\u001b[0mitem\u001b[0m\u001b[0;34m(\u001b[0m\u001b[0;34m)\u001b[0m\u001b[0;34m)\u001b[0m\u001b[0;34m\u001b[0m\u001b[0;34m\u001b[0m\u001b[0m\n",
            "\u001b[0;32m/usr/local/lib/python3.10/dist-packages/torch/_tensor.py\u001b[0m in \u001b[0;36mbackward\u001b[0;34m(self, gradient, retain_graph, create_graph, inputs)\u001b[0m\n\u001b[1;32m    490\u001b[0m                 \u001b[0minputs\u001b[0m\u001b[0;34m=\u001b[0m\u001b[0minputs\u001b[0m\u001b[0;34m,\u001b[0m\u001b[0;34m\u001b[0m\u001b[0;34m\u001b[0m\u001b[0m\n\u001b[1;32m    491\u001b[0m             )\n\u001b[0;32m--> 492\u001b[0;31m         torch.autograd.backward(\n\u001b[0m\u001b[1;32m    493\u001b[0m             \u001b[0mself\u001b[0m\u001b[0;34m,\u001b[0m \u001b[0mgradient\u001b[0m\u001b[0;34m,\u001b[0m \u001b[0mretain_graph\u001b[0m\u001b[0;34m,\u001b[0m \u001b[0mcreate_graph\u001b[0m\u001b[0;34m,\u001b[0m \u001b[0minputs\u001b[0m\u001b[0;34m=\u001b[0m\u001b[0minputs\u001b[0m\u001b[0;34m\u001b[0m\u001b[0;34m\u001b[0m\u001b[0m\n\u001b[1;32m    494\u001b[0m         )\n",
            "\u001b[0;32m/usr/local/lib/python3.10/dist-packages/torch/autograd/__init__.py\u001b[0m in \u001b[0;36mbackward\u001b[0;34m(tensors, grad_tensors, retain_graph, create_graph, grad_variables, inputs)\u001b[0m\n\u001b[1;32m    249\u001b[0m     \u001b[0;31m# some Python versions print out the first line of a multi-line function\u001b[0m\u001b[0;34m\u001b[0m\u001b[0;34m\u001b[0m\u001b[0m\n\u001b[1;32m    250\u001b[0m     \u001b[0;31m# calls in the traceback and some print out the last line\u001b[0m\u001b[0;34m\u001b[0m\u001b[0;34m\u001b[0m\u001b[0m\n\u001b[0;32m--> 251\u001b[0;31m     Variable._execution_engine.run_backward(  # Calls into the C++ engine to run the backward pass\n\u001b[0m\u001b[1;32m    252\u001b[0m         \u001b[0mtensors\u001b[0m\u001b[0;34m,\u001b[0m\u001b[0;34m\u001b[0m\u001b[0;34m\u001b[0m\u001b[0m\n\u001b[1;32m    253\u001b[0m         \u001b[0mgrad_tensors_\u001b[0m\u001b[0;34m,\u001b[0m\u001b[0;34m\u001b[0m\u001b[0;34m\u001b[0m\u001b[0m\n",
            "\u001b[0;31mKeyboardInterrupt\u001b[0m: "
          ]
        }
      ],
      "source": [
        "import temp_actual_baseball_application as main_function\n",
        "import numpy as np\n",
        "import matplotlib.pyplot as plt\n",
        "import pandas as pd\n",
        "\n",
        "year = 2023\n",
        "\n",
        "# Initialize a dictionary to store the results for each year\n",
        "results = {}\n",
        "\n",
        "# Iterate over the years\n",
        "from datetime import datetime, timedelta\n",
        "\n",
        "def iterate_through_year_by_day(year, main_function):\n",
        "    start_date = datetime(year, 4, 1)\n",
        "    end_date = datetime(year, 12, 31)\n",
        "    current_date = start_date\n",
        "    results = {}\n",
        "\n",
        "    while current_date <= end_date:\n",
        "        date_str = current_date.strftime('%Y-%m-%d')\n",
        "        result = main_function(date_str)\n",
        "\n",
        "        if result is not None:\n",
        "            avg_class_report, avg_conf_matrix, bet_history, wallet_history, full_bet = result\n",
        "            results[date_str] = {\n",
        "                'avg_class_report': avg_class_report,\n",
        "                'avg_conf_matrix': avg_conf_matrix,\n",
        "                'bet_history': bet_history,\n",
        "                'wallet_history': wallet_history,\n",
        "                'full_bet': full_bet\n",
        "            }\n",
        "        else:\n",
        "            print(f\"Skipping {date_str} due to no data.\")\n",
        "\n",
        "        current_date += timedelta(days=1)\n",
        "\n",
        "    return results\n",
        "\n",
        "# Example usage\n",
        "year_results = iterate_through_year_by_day(2023, main_function.main_function)\n",
        "\n",
        "\n",
        "# Calculate the average of avg_class_report and avg_conf_matrix over all years\n",
        "# Assuming avg_class_report and avg_conf_matrix are 2D arrays (matrices)\n",
        "\n"
      ]
    },
    {
      "cell_type": "code",
      "execution_count": null,
      "metadata": {
        "id": "5XpW-VmL8tHT"
      },
      "outputs": [],
      "source": [
        "avg_class_report_all_years = np.mean([results[year]['avg_class_report'] for year in results], axis=0)\n",
        "avg_conf_matrix_all_years = np.mean([results[year]['avg_conf_matrix'] for year in results], axis=0)\n",
        "\n",
        "# Plot the data for each year\n",
        "for year in results.keys():\n",
        "    plt.figure(figsize=(10, 5))\n",
        "\n",
        "    # Plot bet_history\n",
        "    plt.subplot(1, 2, 1)\n",
        "    plt.plot(results[year]['bet_history'])\n",
        "    plt.title(f'Bet History {year}')\n",
        "\n",
        "    # Plot wallet_history\n",
        "    plt.subplot(1, 2, 2)\n",
        "    plt.plot(results[year]['wallet_history'])\n",
        "    plt.title(f'Wallet History {year}')\n",
        "\n",
        "    plt.show()"
      ]
    },
    {
      "cell_type": "code",
      "execution_count": null,
      "metadata": {
        "id": "rxxAvzdWSErF"
      },
      "outputs": [],
      "source": [
        "results[year]['avg_class_report']"
      ]
    },
    {
      "cell_type": "code",
      "execution_count": null,
      "metadata": {
        "id": "oxlFSEDRSErG"
      },
      "outputs": [],
      "source": [
        "# Convert each year's avg_class_report to a DataFrame and use the implicit index\n",
        "class_reports = [pd.DataFrame(results[year]['avg_class_report']) for year in results]\n",
        "\n",
        "# Concatenate all DataFrames along the rows, ensuring that they align on the index\n",
        "concatenated_reports = pd.concat(class_reports, axis=0)\n",
        "\n",
        "# Group by the index (which is the implicit row labels) and calculate the mean\n",
        "avg_class_report_all_years = concatenated_reports.groupby(concatenated_reports.index).mean()\n",
        "\n",
        "print(avg_class_report_all_years)"
      ]
    },
    {
      "cell_type": "code",
      "execution_count": null,
      "metadata": {
        "id": "5Kjv5c6NSErG"
      },
      "outputs": [],
      "source": [
        "# Print just the macro average in the precision column\n",
        "# Since class_reports is a list of DataFrames, we need to access each DataFrame individually\n",
        "for year in results.keys():\n",
        "    # Print the macro average in the precision column for each year\n",
        "    print(f\"Macro average precision for {year}: \", results[year]['avg_class_report'].loc['macro avg', 'precision'])\n",
        "\n",
        "    # Print the confusion matrix for each year\n",
        "    print(f\"Confusion matrix for {year}: \\n\", results[year]['avg_conf_matrix'])\n",
        "\n",
        "# Print the average confusion matrix over all years\n",
        "print(\"Average confusion matrix over all years: \\n\", avg_conf_matrix_all_years)\n"
      ]
    },
    {
      "cell_type": "code",
      "execution_count": null,
      "metadata": {
        "id": "Lujeo22WHv2z"
      },
      "outputs": [],
      "source": [
        "for year in results.keys():\n",
        "    missing_player_ids_with_games = results[year]['missing_player_ids_with_games']\n",
        "    missing_player_ids = list(missing_player_ids_with_games.keys())\n",
        "    print(f\"Year: {year}\")\n",
        "    # print(\"Unique missing player IDs:\", set(missing_player_ids))\n",
        "    print(\"Length of unique missing player IDs:\", len(set(missing_player_ids)))\n",
        "    # print(\"Non-unique missing player IDs:\", missing_player_ids)\n",
        "    print(\"Length of non-unique missing player IDs:\", len(missing_player_ids))"
      ]
    },
    {
      "cell_type": "code",
      "execution_count": null,
      "metadata": {
        "id": "fmcPPEnESErG"
      },
      "outputs": [],
      "source": [
        "# Convert each year's dictionary to a DataFrame and then calculate the mean\n",
        "avg_class_report_all_years = pd.DataFrame([results[year]['avg_class_report'] for year in results]).mean()\n",
        "avg_conf_matrix_all_years = pd.DataFrame([results[year]['avg_conf_matrix'] for year in results]).mean()"
      ]
    },
    {
      "cell_type": "code",
      "execution_count": null,
      "metadata": {
        "id": "h-pEpaGkSErG"
      },
      "outputs": [],
      "source": [
        "\n",
        "avg_class_report_all_years = pd.concat([results[year]['avg_class_report'] for year in results]).groupby(level=0).mean()\n",
        "avg_conf_matrix_all_years = pd.concat([results[year]['avg_conf_matrix'] for year in results]).groupby(level=0).mean()"
      ]
    },
    {
      "cell_type": "code",
      "execution_count": null,
      "metadata": {
        "id": "vdhydy7NSErG"
      },
      "outputs": [],
      "source": [
        "# # Get unique batter and pitcher ids from per_game_data\n",
        "# batter_ids_per_game = per_game_data[batter_columns].values.flatten()\n",
        "# pitcher_ids_per_game = per_game_data[pitcher_columns].values.flatten()\n",
        "\n",
        "# # Check if these ids exist in the batter and pitcher data\n",
        "# batter_ids_exist = batter_data['player_ID'].isin(batter_ids_per_game).any()\n",
        "# pitcher_ids_exist = pitcher_data['player_ID'].isin(pitcher_ids_per_game).any()\n",
        "\n",
        "# print(f\"Do any batter ids in per_game_data exist in batter_data? {batter_ids_exist}\")\n",
        "# print(f\"Do any pitcher ids in per_game_data exist in pitcher_data? {pitcher_ids_exist}\")"
      ]
    }
  ],
  "metadata": {
    "accelerator": "GPU",
    "colab": {
      "gpuType": "V100",
      "machine_shape": "hm",
      "provenance": []
    },
    "kernelspec": {
      "display_name": "Python 3",
      "name": "python3"
    },
    "language_info": {
      "codemirror_mode": {
        "name": "ipython",
        "version": 3
      },
      "file_extension": ".py",
      "mimetype": "text/x-python",
      "name": "python",
      "nbconvert_exporter": "python",
      "pygments_lexer": "ipython3",
      "version": "3.9.1"
    }
  },
  "nbformat": 4,
  "nbformat_minor": 0
}