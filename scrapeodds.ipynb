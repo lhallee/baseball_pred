{
 "cells": [
  {
   "cell_type": "code",
   "execution_count": 1,
   "metadata": {},
   "outputs": [
    {
     "ename": "NameError",
     "evalue": "name 'requests' is not defined",
     "output_type": "error",
     "traceback": [
      "\u001b[1;31m---------------------------------------------------------------------------\u001b[0m",
      "\u001b[1;31mNameError\u001b[0m                                 Traceback (most recent call last)",
      "\u001b[1;32mc:\\Users\\vile3\\Documents\\GitHub\\baseball_pred\\scrapeodds.ipynb Cell 1\u001b[0m line \u001b[0;36m1\n\u001b[0;32m      <a href='vscode-notebook-cell:/c%3A/Users/vile3/Documents/GitHub/baseball_pred/scrapeodds.ipynb#W0sZmlsZQ%3D%3D?line=3'>4</a>\u001b[0m url \u001b[39m=\u001b[39m \u001b[39mf\u001b[39m\u001b[39m\"\u001b[39m\u001b[39mhttps://api.sportsdata.io/v3/mlb/odds/json/GameOddsByDate/\u001b[39m\u001b[39m{\u001b[39;00mdate\u001b[39m}\u001b[39;00m\u001b[39m?key=da9818bc1458409ca3a91d369fc829cf\u001b[39m\u001b[39m\"\u001b[39m\n\u001b[0;32m      <a href='vscode-notebook-cell:/c%3A/Users/vile3/Documents/GitHub/baseball_pred/scrapeodds.ipynb#W0sZmlsZQ%3D%3D?line=4'>5</a>\u001b[0m \u001b[39m# url = f\"https://replay.sportsdata.io/api/v3/mlb/pbp/json/playbyplay/69974?key=fed5a1780d6d43b9b36e8db400e0656b\"\u001b[39;00m\n\u001b[0;32m      <a href='vscode-notebook-cell:/c%3A/Users/vile3/Documents/GitHub/baseball_pred/scrapeodds.ipynb#W0sZmlsZQ%3D%3D?line=5'>6</a>\u001b[0m \n\u001b[0;32m      <a href='vscode-notebook-cell:/c%3A/Users/vile3/Documents/GitHub/baseball_pred/scrapeodds.ipynb#W0sZmlsZQ%3D%3D?line=6'>7</a>\u001b[0m \u001b[39m# headers = {\u001b[39;00m\n\u001b[0;32m      <a href='vscode-notebook-cell:/c%3A/Users/vile3/Documents/GitHub/baseball_pred/scrapeodds.ipynb#W0sZmlsZQ%3D%3D?line=7'>8</a>\u001b[0m \u001b[39m#     'Ocp-Apim-Subscription-Key': api_key\u001b[39;00m\n\u001b[0;32m      <a href='vscode-notebook-cell:/c%3A/Users/vile3/Documents/GitHub/baseball_pred/scrapeodds.ipynb#W0sZmlsZQ%3D%3D?line=8'>9</a>\u001b[0m \u001b[39m# }\u001b[39;00m\n\u001b[1;32m---> <a href='vscode-notebook-cell:/c%3A/Users/vile3/Documents/GitHub/baseball_pred/scrapeodds.ipynb#W0sZmlsZQ%3D%3D?line=10'>11</a>\u001b[0m response \u001b[39m=\u001b[39m requests\u001b[39m.\u001b[39mget(url)\n\u001b[0;32m     <a href='vscode-notebook-cell:/c%3A/Users/vile3/Documents/GitHub/baseball_pred/scrapeodds.ipynb#W0sZmlsZQ%3D%3D?line=12'>13</a>\u001b[0m \u001b[39mif\u001b[39;00m response\u001b[39m.\u001b[39mstatus_code \u001b[39m==\u001b[39m \u001b[39m200\u001b[39m:\n\u001b[0;32m     <a href='vscode-notebook-cell:/c%3A/Users/vile3/Documents/GitHub/baseball_pred/scrapeodds.ipynb#W0sZmlsZQ%3D%3D?line=13'>14</a>\u001b[0m     odds_data \u001b[39m=\u001b[39m response\u001b[39m.\u001b[39mjson()\n",
      "\u001b[1;31mNameError\u001b[0m: name 'requests' is not defined"
     ]
    }
   ],
   "source": [
    "\n",
    "\n",
    "# Replace 'your_api_key' with your actual API key\n",
    "api_key = ''\n",
    "date = '2023-08-15'\n",
    "url = f\"https://api.sportsdata.io/v3/mlb/odds/json/GameOddsByDate/{date}?key=da9818bc1458409ca3a91d369fc829cf\"\n",
    "# url = f\"https://replay.sportsdata.io/api/v3/mlb/pbp/json/playbyplay/69974?key=fed5a1780d6d43b9b36e8db400e0656b\"\n",
    "\n",
    "# headers = {\n",
    "#     'Ocp-Apim-Subscription-Key': api_key\n",
    "# }\n",
    "\n",
    "response = requests.get(url)\n",
    "\n",
    "if response.status_code == 200:\n",
    "    odds_data = response.json()\n",
    "    # Process the odds_data as needed\n",
    "else:\n",
    "    print(f\"Error: {response.status_code}, Message: {response.json()}\")\n",
    "    #-102\n",
    "    #-118"
   ]
  },
  {
   "cell_type": "code",
   "execution_count": 19,
   "metadata": {},
   "outputs": [],
   "source": [
    "from datetime import datetime, timedelta\n",
    "import requests\n",
    "def get_money_lines(start_date, end_date, api_key):\n",
    "    current_date = start_date\n",
    "    money_lines = []\n",
    "\n",
    "    while current_date <= end_date:\n",
    "        date_str = current_date.strftime('%Y-%m-%d')\n",
    "        formatted_date = current_date.strftime('%Y%m%d')  # Format date as 'YYYYMMDD'\n",
    "        url = f\"https://api.sportsdata.io/v3/mlb/odds/json/GameOddsByDate/{date_str}?key={api_key}\"\n",
    "        \n",
    "        response = requests.get(url)\n",
    "        if response.status_code == 200:\n",
    "            odds_data = response.json()\n",
    "            for game in odds_data:\n",
    "                game_money_line = {\n",
    "                    'Date': formatted_date,  # Use the formatted date\n",
    "                    'GameId': game['GameId'],\n",
    "                    'HomeTeamName': game['HomeTeamName'],  # Add HomeTeamName\n",
    "                    'AwayTeamName': game['AwayTeamName'],  # Add AwayTeamName\n",
    "                    'HomeMoneyLine': None,\n",
    "                    'AwayMoneyLine': None\n",
    "                }\n",
    "                # Find the pregame odds\n",
    "                for odd in game.get('PregameOdds', []):  # Use get to avoid KeyError if 'PregameOdds' is missing\n",
    "                    if 'HomeMoneyLine' in odd:\n",
    "                        game_money_line['HomeMoneyLine'] = odd['HomeMoneyLine']\n",
    "                    if 'AwayMoneyLine' in odd:\n",
    "                        game_money_line['AwayMoneyLine'] = odd['AwayMoneyLine']\n",
    "                money_lines.append(game_money_line)\n",
    "        else:\n",
    "            print(f\"Error on {formatted_date}: {response.status_code}, Message: {response.json()}\")\n",
    "        \n",
    "        # Move to the next day\n",
    "        current_date += timedelta(days=1)\n",
    "\n",
    "    return money_lines\n",
    "\n",
    "# Usage example\n",
    "api_key = '98ccc28f562a48b39ec06fe483978b62'  # Replace with your actual API key\n",
    "start_date = datetime(2015, 8, 5)  # MLB season start date\n",
    "end_date = datetime(2016, 11, 1)   # MLB season end date (approximate)\n",
    "all_money_lines = get_money_lines(start_date, end_date, api_key)"
   ]
  },
  {
   "cell_type": "code",
   "execution_count": 18,
   "metadata": {},
   "outputs": [],
   "source": [
    "import csv\n",
    "\n",
    "with open('all_money_lines.csv', 'w', newline='') as csvfile:\n",
    "    fieldnames = ['Date', 'GameId', 'HomeTeamName', 'AwayTeamName', 'HomeMoneyLine', 'AwayMoneyLine']\n",
    "    writer = csv.DictWriter(csvfile, fieldnames=fieldnames)\n",
    "\n",
    "    writer.writeheader()\n",
    "    for line in all_money_lines:\n",
    "        writer.writerow(line)\n"
   ]
  },
  {
   "cell_type": "code",
   "execution_count": null,
   "metadata": {},
   "outputs": [
    {
     "ename": "NameError",
     "evalue": "name 'all_money_lines' is not defined",
     "output_type": "error",
     "traceback": [
      "\u001b[1;31m---------------------------------------------------------------------------\u001b[0m",
      "\u001b[1;31mNameError\u001b[0m                                 Traceback (most recent call last)",
      "\u001b[1;32mc:\\Users\\vile3\\Documents\\GitHub\\baseball_pred\\scrapeodds.ipynb Cell 3\u001b[0m line \u001b[0;36m1\n\u001b[1;32m----> <a href='vscode-notebook-cell:/c%3A/Users/vile3/Documents/GitHub/baseball_pred/scrapeodds.ipynb#W5sZmlsZQ%3D%3D?line=0'>1</a>\u001b[0m \u001b[39mprint\u001b[39m(all_money_lines)\n",
      "\u001b[1;31mNameError\u001b[0m: name 'all_money_lines' is not defined"
     ]
    }
   ],
   "source": [
    "print(all_money_lines)"
   ]
  },
  {
   "cell_type": "code",
   "execution_count": null,
   "metadata": {},
   "outputs": [],
   "source": [
    "odds_data"
   ]
  },
  {
   "cell_type": "code",
   "execution_count": null,
   "metadata": {},
   "outputs": [],
   "source": [
    "# import statsapi\n",
    "\n",
    "# def get_game_ids_for_year(year):\n",
    "#     start_date = f\"{year}-01-01\"\n",
    "#     end_date = f\"{year}-12-31\"\n",
    "#     games = statsapi.schedule(start_date=start_date, end_date=end_date)\n",
    "#     game_ids = [game['game_id'] for game in games]\n",
    "#     return game_ids\n",
    "\n",
    "# # Example usage for one year\n",
    "# game_ids_2020 = get_game_ids_for_year(2023)\n",
    "# print(game_ids_2020)\n",
    "\n",
    "# # # You would need to loop this for each year from 2000 to the current year\n",
    "# # all_game_ids = []\n",
    "# # for year in range(2000, 2024):  # Assuming you want up to 2023\n",
    "# #     all_game_ids.extend(get_game_ids_for_year(year))"
   ]
  }
 ],
 "metadata": {
  "kernelspec": {
   "display_name": "Python 3",
   "language": "python",
   "name": "python3"
  },
  "language_info": {
   "codemirror_mode": {
    "name": "ipython",
    "version": 3
   },
   "file_extension": ".py",
   "mimetype": "text/x-python",
   "name": "python",
   "nbconvert_exporter": "python",
   "pygments_lexer": "ipython3",
   "version": "3.9.1"
  }
 },
 "nbformat": 4,
 "nbformat_minor": 2
}
